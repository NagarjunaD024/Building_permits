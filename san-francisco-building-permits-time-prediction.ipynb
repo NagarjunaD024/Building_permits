{
 "cells": [
  {
   "cell_type": "code",
   "execution_count": 1,
   "metadata": {
    "execution": {
     "iopub.execute_input": "2020-11-16T12:50:54.378009Z",
     "iopub.status.busy": "2020-11-16T12:50:54.377153Z",
     "iopub.status.idle": "2020-11-16T12:50:55.655216Z",
     "shell.execute_reply": "2020-11-16T12:50:55.654401Z"
    },
    "papermill": {
     "duration": 1.382018,
     "end_time": "2020-11-16T12:50:55.655383",
     "exception": false,
     "start_time": "2020-11-16T12:50:54.273365",
     "status": "completed"
    },
    "tags": [],
    "pycharm": {
     "name": "#%%\n"
    }
   },
   "outputs": [],
   "source": [
    "# Importation of Data manipulation libraries\n",
    "import pandas as pd\n",
    "import numpy as np\n",
    "# Importation of visualisation libraries\n",
    "from matplotlib import pyplot as plt\n",
    "%matplotlib inline\n",
    "import seaborn as sns\n",
    "# Machine Learning Models\n",
    "from sklearn.linear_model import LinearRegression\n",
    "from sklearn.ensemble import RandomForestRegressor,GradientBoostingRegressor\n",
    "# Hyperparameter tuning\n",
    "from sklearn.model_selection import GridSearchCV,train_test_split,RandomizedSearchCV\n",
    "# Imputing missing values and scaling values\n",
    "from sklearn.impute import SimpleImputer\n",
    "import warnings\n",
    "warnings.filterwarnings(\"ignore\")"
   ]
  },
  {
   "cell_type": "markdown",
   "metadata": {
    "papermill": {
     "duration": 0.090101,
     "end_time": "2020-11-16T12:50:55.836536",
     "exception": false,
     "start_time": "2020-11-16T12:50:55.746435",
     "status": "completed"
    },
    "tags": [],
    "pycharm": {
     "name": "#%% md\n"
    }
   },
   "source": [
    "The Objective of this task is to predict permit issue times of various building permits so as to identify which ones matter more and also be able to draw conclusions on the city's development plans based on the San Francisco Building Permits data.\n",
    "It's a Regression problems since the permit issue time will be a continuous variable.\n",
    "It's a supervised Machine learning problem since we have access to the features and the target variable"
   ]
  },
  {
   "cell_type": "code",
   "execution_count": 2,
   "metadata": {
    "_cell_guid": "79c7e3d0-c299-4dcb-8224-4455121ee9b0",
    "_uuid": "d629ff2d2480ee46fbb7e2d37f6b5fab8052498a",
    "execution": {
     "iopub.execute_input": "2020-11-16T12:50:56.029680Z",
     "iopub.status.busy": "2020-11-16T12:50:56.028849Z",
     "iopub.status.idle": "2020-11-16T12:50:58.424062Z",
     "shell.execute_reply": "2020-11-16T12:50:58.423425Z"
    },
    "papermill": {
     "duration": 2.49717,
     "end_time": "2020-11-16T12:50:58.424197",
     "exception": false,
     "start_time": "2020-11-16T12:50:55.927027",
     "status": "completed"
    },
    "tags": [],
    "pycharm": {
     "name": "#%%\n"
    }
   },
   "outputs": [],
   "source": [
    "pd.set_option('display.max_columns',None)\n",
    "Pmtsdata = pd.read_csv('Building_Permits.csv',\n",
    "                      index_col='Permit Number',parse_dates=['Filed Date','Issued Date'])"
   ]
  },
  {
   "cell_type": "code",
   "execution_count": 3,
   "metadata": {
    "execution": {
     "iopub.execute_input": "2020-11-16T12:50:58.634098Z",
     "iopub.status.busy": "2020-11-16T12:50:58.630806Z",
     "iopub.status.idle": "2020-11-16T12:50:58.664328Z",
     "shell.execute_reply": "2020-11-16T12:50:58.664901Z"
    },
    "papermill": {
     "duration": 0.15126,
     "end_time": "2020-11-16T12:50:58.665064",
     "exception": false,
     "start_time": "2020-11-16T12:50:58.513804",
     "status": "completed"
    },
    "tags": [],
    "pycharm": {
     "name": "#%%\n"
    }
   },
   "outputs": [
    {
     "data": {
      "text/plain": "               Permit Type            Permit Type Definition  \\\nPermit Number                                                  \n201505065519             4                      sign - erect   \n201604195146             4                      sign - erect   \n201605278609             3  additions alterations or repairs   \n201611072166             8            otc alterations permit   \n201611283529             6                       demolitions   \n\n              Permit Creation Date Block  Lot  Street Number  \\\nPermit Number                                                  \n201505065519            05/06/2015  0326  023            140   \n201604195146            04/19/2016  0306  007            440   \n201605278609            05/27/2016  0595  203           1647   \n201611072166            11/07/2016  0156  011           1230   \n201611283529            11/28/2016  0342  001            950   \n\n              Street Number Suffix Street Name Street Suffix  Unit  \\\nPermit Number                                                        \n201505065519                   NaN       Ellis            St   NaN   \n201604195146                   NaN       Geary            St   0.0   \n201605278609                   NaN     Pacific            Av   NaN   \n201611072166                   NaN     Pacific            Av   0.0   \n201611283529                   NaN      Market            St   NaN   \n\n              Unit Suffix                                        Description  \\\nPermit Number                                                                  \n201505065519          NaN  ground fl facade: to erect illuminated, electr...   \n201604195146          NaN            remove (e) awning and associated signs.   \n201605278609          NaN                    installation of separating wall   \n201611072166          NaN           repair dryrot & stucco at front of bldg.   \n201611283529          NaN  demolish retail/office/commercial 3-story buil...   \n\n              Current Status Current Status Date Filed Date Issued Date  \\\nPermit Number                                                             \n201505065519         expired          12/21/2017 2015-05-06  2015-11-09   \n201604195146          issued          08/03/2017 2016-04-19  2017-08-03   \n201605278609       withdrawn          09/26/2017 2016-05-27         NaT   \n201611072166        complete          07/24/2017 2016-11-07  2017-07-18   \n201611283529          issued          12/01/2017 2016-11-28  2017-12-01   \n\n              Completed Date First Construction Document Date  \\\nPermit Number                                                   \n201505065519             NaN                       11/09/2015   \n201604195146             NaN                       08/03/2017   \n201605278609             NaN                              NaN   \n201611072166      07/24/2017                       07/18/2017   \n201611283529             NaN                       11/20/2017   \n\n              Structural Notification  Number of Existing Stories  \\\nPermit Number                                                       \n201505065519                      NaN                         6.0   \n201604195146                      NaN                         7.0   \n201605278609                      NaN                         6.0   \n201611072166                      NaN                         2.0   \n201611283529                      NaN                         3.0   \n\n               Number of Proposed Stories Voluntary Soft-Story Retrofit  \\\nPermit Number                                                             \n201505065519                          NaN                           NaN   \n201604195146                          NaN                           NaN   \n201605278609                          6.0                           NaN   \n201611072166                          2.0                           NaN   \n201611283529                          NaN                           NaN   \n\n              Fire Only Permit Permit Expiration Date  Estimated Cost  \\\nPermit Number                                                           \n201505065519               NaN             11/03/2016          4000.0   \n201604195146               NaN             12/03/2017             1.0   \n201605278609               NaN                    NaN         20000.0   \n201611072166               NaN             07/13/2018          2000.0   \n201611283529               NaN             12/01/2018        100000.0   \n\n               Revised Cost         Existing Use  Existing Units  \\\nPermit Number                                                      \n201505065519         4000.0  tourist hotel/motel           143.0   \n201604195146          500.0  tourist hotel/motel             NaN   \n201605278609            NaN         retail sales            39.0   \n201611072166         2000.0    1 family dwelling             1.0   \n201611283529       100000.0         retail sales             NaN   \n\n                    Proposed Use  Proposed Units  Plansets TIDF Compliance  \\\nPermit Number                                                                \n201505065519                 NaN             NaN       2.0             NaN   \n201604195146                 NaN             NaN       2.0             NaN   \n201605278609        retail sales            39.0       2.0             NaN   \n201611072166   1 family dwelling             1.0       2.0             NaN   \n201611283529                 NaN             NaN       2.0             NaN   \n\n               Existing Construction Type  \\\nPermit Number                               \n201505065519                          3.0   \n201604195146                          3.0   \n201605278609                          1.0   \n201611072166                          5.0   \n201611283529                          3.0   \n\n              Existing Construction Type Description  \\\nPermit Number                                          \n201505065519                           constr type 3   \n201604195146                           constr type 3   \n201605278609                           constr type 1   \n201611072166                          wood frame (5)   \n201611283529                           constr type 3   \n\n               Proposed Construction Type  \\\nPermit Number                               \n201505065519                          NaN   \n201604195146                          NaN   \n201605278609                          1.0   \n201611072166                          5.0   \n201611283529                          NaN   \n\n              Proposed Construction Type Description Site Permit  \\\nPermit Number                                                      \n201505065519                                     NaN         NaN   \n201604195146                                     NaN         NaN   \n201605278609                           constr type 1         NaN   \n201611072166                          wood frame (5)         NaN   \n201611283529                                     NaN         NaN   \n\n               Supervisor District Neighborhoods - Analysis Boundaries  \\\nPermit Number                                                            \n201505065519                   3.0                          Tenderloin   \n201604195146                   3.0                          Tenderloin   \n201605278609                   3.0                        Russian Hill   \n201611072166                   3.0                            Nob Hill   \n201611283529                   6.0                          Tenderloin   \n\n               Zipcode                                   Location  \\\nPermit Number                                                       \n201505065519   94102.0  (37.785719256680785, -122.40852313194863)   \n201604195146   94102.0   (37.78733980600732, -122.41063199757738)   \n201605278609   94109.0    (37.7946573324287, -122.42232562979227)   \n201611072166   94109.0   (37.79595867909168, -122.41557405519474)   \n201611283529   94102.0   (37.78315261897309, -122.40950883997789)   \n\n                   Record ID  \nPermit Number                 \n201505065519   1380611233945  \n201604195146   1420164406718  \n201605278609   1424856504716  \n201611072166   1443574295566  \n201611283529    144548169992  ",
      "text/html": "<div>\n<style scoped>\n    .dataframe tbody tr th:only-of-type {\n        vertical-align: middle;\n    }\n\n    .dataframe tbody tr th {\n        vertical-align: top;\n    }\n\n    .dataframe thead th {\n        text-align: right;\n    }\n</style>\n<table border=\"1\" class=\"dataframe\">\n  <thead>\n    <tr style=\"text-align: right;\">\n      <th></th>\n      <th>Permit Type</th>\n      <th>Permit Type Definition</th>\n      <th>Permit Creation Date</th>\n      <th>Block</th>\n      <th>Lot</th>\n      <th>Street Number</th>\n      <th>Street Number Suffix</th>\n      <th>Street Name</th>\n      <th>Street Suffix</th>\n      <th>Unit</th>\n      <th>Unit Suffix</th>\n      <th>Description</th>\n      <th>Current Status</th>\n      <th>Current Status Date</th>\n      <th>Filed Date</th>\n      <th>Issued Date</th>\n      <th>Completed Date</th>\n      <th>First Construction Document Date</th>\n      <th>Structural Notification</th>\n      <th>Number of Existing Stories</th>\n      <th>Number of Proposed Stories</th>\n      <th>Voluntary Soft-Story Retrofit</th>\n      <th>Fire Only Permit</th>\n      <th>Permit Expiration Date</th>\n      <th>Estimated Cost</th>\n      <th>Revised Cost</th>\n      <th>Existing Use</th>\n      <th>Existing Units</th>\n      <th>Proposed Use</th>\n      <th>Proposed Units</th>\n      <th>Plansets</th>\n      <th>TIDF Compliance</th>\n      <th>Existing Construction Type</th>\n      <th>Existing Construction Type Description</th>\n      <th>Proposed Construction Type</th>\n      <th>Proposed Construction Type Description</th>\n      <th>Site Permit</th>\n      <th>Supervisor District</th>\n      <th>Neighborhoods - Analysis Boundaries</th>\n      <th>Zipcode</th>\n      <th>Location</th>\n      <th>Record ID</th>\n    </tr>\n    <tr>\n      <th>Permit Number</th>\n      <th></th>\n      <th></th>\n      <th></th>\n      <th></th>\n      <th></th>\n      <th></th>\n      <th></th>\n      <th></th>\n      <th></th>\n      <th></th>\n      <th></th>\n      <th></th>\n      <th></th>\n      <th></th>\n      <th></th>\n      <th></th>\n      <th></th>\n      <th></th>\n      <th></th>\n      <th></th>\n      <th></th>\n      <th></th>\n      <th></th>\n      <th></th>\n      <th></th>\n      <th></th>\n      <th></th>\n      <th></th>\n      <th></th>\n      <th></th>\n      <th></th>\n      <th></th>\n      <th></th>\n      <th></th>\n      <th></th>\n      <th></th>\n      <th></th>\n      <th></th>\n      <th></th>\n      <th></th>\n      <th></th>\n      <th></th>\n    </tr>\n  </thead>\n  <tbody>\n    <tr>\n      <th>201505065519</th>\n      <td>4</td>\n      <td>sign - erect</td>\n      <td>05/06/2015</td>\n      <td>0326</td>\n      <td>023</td>\n      <td>140</td>\n      <td>NaN</td>\n      <td>Ellis</td>\n      <td>St</td>\n      <td>NaN</td>\n      <td>NaN</td>\n      <td>ground fl facade: to erect illuminated, electr...</td>\n      <td>expired</td>\n      <td>12/21/2017</td>\n      <td>2015-05-06</td>\n      <td>2015-11-09</td>\n      <td>NaN</td>\n      <td>11/09/2015</td>\n      <td>NaN</td>\n      <td>6.0</td>\n      <td>NaN</td>\n      <td>NaN</td>\n      <td>NaN</td>\n      <td>11/03/2016</td>\n      <td>4000.0</td>\n      <td>4000.0</td>\n      <td>tourist hotel/motel</td>\n      <td>143.0</td>\n      <td>NaN</td>\n      <td>NaN</td>\n      <td>2.0</td>\n      <td>NaN</td>\n      <td>3.0</td>\n      <td>constr type 3</td>\n      <td>NaN</td>\n      <td>NaN</td>\n      <td>NaN</td>\n      <td>3.0</td>\n      <td>Tenderloin</td>\n      <td>94102.0</td>\n      <td>(37.785719256680785, -122.40852313194863)</td>\n      <td>1380611233945</td>\n    </tr>\n    <tr>\n      <th>201604195146</th>\n      <td>4</td>\n      <td>sign - erect</td>\n      <td>04/19/2016</td>\n      <td>0306</td>\n      <td>007</td>\n      <td>440</td>\n      <td>NaN</td>\n      <td>Geary</td>\n      <td>St</td>\n      <td>0.0</td>\n      <td>NaN</td>\n      <td>remove (e) awning and associated signs.</td>\n      <td>issued</td>\n      <td>08/03/2017</td>\n      <td>2016-04-19</td>\n      <td>2017-08-03</td>\n      <td>NaN</td>\n      <td>08/03/2017</td>\n      <td>NaN</td>\n      <td>7.0</td>\n      <td>NaN</td>\n      <td>NaN</td>\n      <td>NaN</td>\n      <td>12/03/2017</td>\n      <td>1.0</td>\n      <td>500.0</td>\n      <td>tourist hotel/motel</td>\n      <td>NaN</td>\n      <td>NaN</td>\n      <td>NaN</td>\n      <td>2.0</td>\n      <td>NaN</td>\n      <td>3.0</td>\n      <td>constr type 3</td>\n      <td>NaN</td>\n      <td>NaN</td>\n      <td>NaN</td>\n      <td>3.0</td>\n      <td>Tenderloin</td>\n      <td>94102.0</td>\n      <td>(37.78733980600732, -122.41063199757738)</td>\n      <td>1420164406718</td>\n    </tr>\n    <tr>\n      <th>201605278609</th>\n      <td>3</td>\n      <td>additions alterations or repairs</td>\n      <td>05/27/2016</td>\n      <td>0595</td>\n      <td>203</td>\n      <td>1647</td>\n      <td>NaN</td>\n      <td>Pacific</td>\n      <td>Av</td>\n      <td>NaN</td>\n      <td>NaN</td>\n      <td>installation of separating wall</td>\n      <td>withdrawn</td>\n      <td>09/26/2017</td>\n      <td>2016-05-27</td>\n      <td>NaT</td>\n      <td>NaN</td>\n      <td>NaN</td>\n      <td>NaN</td>\n      <td>6.0</td>\n      <td>6.0</td>\n      <td>NaN</td>\n      <td>NaN</td>\n      <td>NaN</td>\n      <td>20000.0</td>\n      <td>NaN</td>\n      <td>retail sales</td>\n      <td>39.0</td>\n      <td>retail sales</td>\n      <td>39.0</td>\n      <td>2.0</td>\n      <td>NaN</td>\n      <td>1.0</td>\n      <td>constr type 1</td>\n      <td>1.0</td>\n      <td>constr type 1</td>\n      <td>NaN</td>\n      <td>3.0</td>\n      <td>Russian Hill</td>\n      <td>94109.0</td>\n      <td>(37.7946573324287, -122.42232562979227)</td>\n      <td>1424856504716</td>\n    </tr>\n    <tr>\n      <th>201611072166</th>\n      <td>8</td>\n      <td>otc alterations permit</td>\n      <td>11/07/2016</td>\n      <td>0156</td>\n      <td>011</td>\n      <td>1230</td>\n      <td>NaN</td>\n      <td>Pacific</td>\n      <td>Av</td>\n      <td>0.0</td>\n      <td>NaN</td>\n      <td>repair dryrot &amp; stucco at front of bldg.</td>\n      <td>complete</td>\n      <td>07/24/2017</td>\n      <td>2016-11-07</td>\n      <td>2017-07-18</td>\n      <td>07/24/2017</td>\n      <td>07/18/2017</td>\n      <td>NaN</td>\n      <td>2.0</td>\n      <td>2.0</td>\n      <td>NaN</td>\n      <td>NaN</td>\n      <td>07/13/2018</td>\n      <td>2000.0</td>\n      <td>2000.0</td>\n      <td>1 family dwelling</td>\n      <td>1.0</td>\n      <td>1 family dwelling</td>\n      <td>1.0</td>\n      <td>2.0</td>\n      <td>NaN</td>\n      <td>5.0</td>\n      <td>wood frame (5)</td>\n      <td>5.0</td>\n      <td>wood frame (5)</td>\n      <td>NaN</td>\n      <td>3.0</td>\n      <td>Nob Hill</td>\n      <td>94109.0</td>\n      <td>(37.79595867909168, -122.41557405519474)</td>\n      <td>1443574295566</td>\n    </tr>\n    <tr>\n      <th>201611283529</th>\n      <td>6</td>\n      <td>demolitions</td>\n      <td>11/28/2016</td>\n      <td>0342</td>\n      <td>001</td>\n      <td>950</td>\n      <td>NaN</td>\n      <td>Market</td>\n      <td>St</td>\n      <td>NaN</td>\n      <td>NaN</td>\n      <td>demolish retail/office/commercial 3-story buil...</td>\n      <td>issued</td>\n      <td>12/01/2017</td>\n      <td>2016-11-28</td>\n      <td>2017-12-01</td>\n      <td>NaN</td>\n      <td>11/20/2017</td>\n      <td>NaN</td>\n      <td>3.0</td>\n      <td>NaN</td>\n      <td>NaN</td>\n      <td>NaN</td>\n      <td>12/01/2018</td>\n      <td>100000.0</td>\n      <td>100000.0</td>\n      <td>retail sales</td>\n      <td>NaN</td>\n      <td>NaN</td>\n      <td>NaN</td>\n      <td>2.0</td>\n      <td>NaN</td>\n      <td>3.0</td>\n      <td>constr type 3</td>\n      <td>NaN</td>\n      <td>NaN</td>\n      <td>NaN</td>\n      <td>6.0</td>\n      <td>Tenderloin</td>\n      <td>94102.0</td>\n      <td>(37.78315261897309, -122.40950883997789)</td>\n      <td>144548169992</td>\n    </tr>\n  </tbody>\n</table>\n</div>"
     },
     "execution_count": 3,
     "metadata": {},
     "output_type": "execute_result"
    }
   ],
   "source": [
    "#Phase 1:Data cleaning and formatting.\n",
    "Pmtsdata.head()"
   ]
  },
  {
   "cell_type": "code",
   "execution_count": 4,
   "metadata": {
    "execution": {
     "iopub.execute_input": "2020-11-16T12:50:58.855864Z",
     "iopub.status.busy": "2020-11-16T12:50:58.854807Z",
     "iopub.status.idle": "2020-11-16T12:50:58.859203Z",
     "shell.execute_reply": "2020-11-16T12:50:58.858490Z"
    },
    "papermill": {
     "duration": 0.101022,
     "end_time": "2020-11-16T12:50:58.859339",
     "exception": false,
     "start_time": "2020-11-16T12:50:58.758317",
     "status": "completed"
    },
    "tags": [],
    "pycharm": {
     "name": "#%%\n"
    }
   },
   "outputs": [
    {
     "data": {
      "text/plain": "(198900, 42)"
     },
     "execution_count": 4,
     "metadata": {},
     "output_type": "execute_result"
    }
   ],
   "source": [
    "Pmtsdata.shape"
   ]
  },
  {
   "cell_type": "code",
   "execution_count": 5,
   "metadata": {
    "execution": {
     "iopub.execute_input": "2020-11-16T12:50:59.050532Z",
     "iopub.status.busy": "2020-11-16T12:50:59.049120Z",
     "iopub.status.idle": "2020-11-16T12:50:59.513944Z",
     "shell.execute_reply": "2020-11-16T12:50:59.513173Z"
    },
    "papermill": {
     "duration": 0.562341,
     "end_time": "2020-11-16T12:50:59.514068",
     "exception": false,
     "start_time": "2020-11-16T12:50:58.951727",
     "status": "completed"
    },
    "tags": [],
    "pycharm": {
     "name": "#%%\n"
    }
   },
   "outputs": [
    {
     "name": "stdout",
     "output_type": "stream",
     "text": [
      "<class 'pandas.core.frame.DataFrame'>\n",
      "Index: 198900 entries, 201505065519 to M864287\n",
      "Data columns (total 42 columns):\n",
      " #   Column                                  Non-Null Count   Dtype         \n",
      "---  ------                                  --------------   -----         \n",
      " 0   Permit Type                             198900 non-null  int64         \n",
      " 1   Permit Type Definition                  198900 non-null  object        \n",
      " 2   Permit Creation Date                    198900 non-null  object        \n",
      " 3   Block                                   198900 non-null  object        \n",
      " 4   Lot                                     198900 non-null  object        \n",
      " 5   Street Number                           198900 non-null  int64         \n",
      " 6   Street Number Suffix                    2216 non-null    object        \n",
      " 7   Street Name                             198900 non-null  object        \n",
      " 8   Street Suffix                           196132 non-null  object        \n",
      " 9   Unit                                    29479 non-null   float64       \n",
      " 10  Unit Suffix                             1961 non-null    object        \n",
      " 11  Description                             198610 non-null  object        \n",
      " 12  Current Status                          198900 non-null  object        \n",
      " 13  Current Status Date                     198900 non-null  object        \n",
      " 14  Filed Date                              198900 non-null  datetime64[ns]\n",
      " 15  Issued Date                             183960 non-null  datetime64[ns]\n",
      " 16  Completed Date                          97191 non-null   object        \n",
      " 17  First Construction Document Date        183954 non-null  object        \n",
      " 18  Structural Notification                 6922 non-null    object        \n",
      " 19  Number of Existing Stories              156116 non-null  float64       \n",
      " 20  Number of Proposed Stories              156032 non-null  float64       \n",
      " 21  Voluntary Soft-Story Retrofit           35 non-null      object        \n",
      " 22  Fire Only Permit                        18827 non-null   object        \n",
      " 23  Permit Expiration Date                  147020 non-null  object        \n",
      " 24  Estimated Cost                          160834 non-null  float64       \n",
      " 25  Revised Cost                            192834 non-null  float64       \n",
      " 26  Existing Use                            157786 non-null  object        \n",
      " 27  Existing Units                          147362 non-null  float64       \n",
      " 28  Proposed Use                            156461 non-null  object        \n",
      " 29  Proposed Units                          147989 non-null  float64       \n",
      " 30  Plansets                                161591 non-null  float64       \n",
      " 31  TIDF Compliance                         2 non-null       object        \n",
      " 32  Existing Construction Type              155534 non-null  float64       \n",
      " 33  Existing Construction Type Description  155534 non-null  object        \n",
      " 34  Proposed Construction Type              155738 non-null  float64       \n",
      " 35  Proposed Construction Type Description  155738 non-null  object        \n",
      " 36  Site Permit                             5359 non-null    object        \n",
      " 37  Supervisor District                     197183 non-null  float64       \n",
      " 38  Neighborhoods - Analysis Boundaries     197175 non-null  object        \n",
      " 39  Zipcode                                 197184 non-null  float64       \n",
      " 40  Location                                197200 non-null  object        \n",
      " 41  Record ID                               198900 non-null  int64         \n",
      "dtypes: datetime64[ns](2), float64(12), int64(3), object(25)\n",
      "memory usage: 65.3+ MB\n"
     ]
    }
   ],
   "source": [
    "# Gives us some more information about the dataframe .\n",
    "Pmtsdata.info()"
   ]
  },
  {
   "cell_type": "code",
   "execution_count": 6,
   "metadata": {
    "execution": {
     "iopub.execute_input": "2020-11-16T12:50:59.706155Z",
     "iopub.status.busy": "2020-11-16T12:50:59.704846Z",
     "iopub.status.idle": "2020-11-16T12:51:00.157089Z",
     "shell.execute_reply": "2020-11-16T12:51:00.156427Z"
    },
    "papermill": {
     "duration": 0.550581,
     "end_time": "2020-11-16T12:51:00.157218",
     "exception": false,
     "start_time": "2020-11-16T12:50:59.606637",
     "status": "completed"
    },
    "tags": [],
    "pycharm": {
     "name": "#%%\n"
    }
   },
   "outputs": [
    {
     "name": "stdout",
     "output_type": "stream",
     "text": [
      "Permit Type                                    0\n",
      "Permit Type Definition                         0\n",
      "Permit Creation Date                           0\n",
      "Block                                          0\n",
      "Lot                                            0\n",
      "Street Number                                  0\n",
      "Street Number Suffix                      196684\n",
      "Street Name                                    0\n",
      "Street Suffix                               2768\n",
      "Unit                                      169421\n",
      "Unit Suffix                               196939\n",
      "Description                                  290\n",
      "Current Status                                 0\n",
      "Current Status Date                            0\n",
      "Filed Date                                     0\n",
      "Issued Date                                14940\n",
      "Completed Date                            101709\n",
      "First Construction Document Date           14946\n",
      "Structural Notification                   191978\n",
      "Number of Existing Stories                 42784\n",
      "Number of Proposed Stories                 42868\n",
      "Voluntary Soft-Story Retrofit             198865\n",
      "Fire Only Permit                          180073\n",
      "Permit Expiration Date                     51880\n",
      "Estimated Cost                             38066\n",
      "Revised Cost                                6066\n",
      "Existing Use                               41114\n",
      "Existing Units                             51538\n",
      "Proposed Use                               42439\n",
      "Proposed Units                             50911\n",
      "Plansets                                   37309\n",
      "TIDF Compliance                           198898\n",
      "Existing Construction Type                 43366\n",
      "Existing Construction Type Description     43366\n",
      "Proposed Construction Type                 43162\n",
      "Proposed Construction Type Description     43162\n",
      "Site Permit                               193541\n",
      "Supervisor District                         1717\n",
      "Neighborhoods - Analysis Boundaries         1725\n",
      "Zipcode                                     1716\n",
      "Location                                    1700\n",
      "Record ID                                      0\n",
      "dtype: int64\n"
     ]
    }
   ],
   "source": [
    "#Exploring missing values\n",
    "missing_values_counts = Pmtsdata.isnull().sum()\n",
    "print(missing_values_counts)"
   ]
  },
  {
   "cell_type": "code",
   "execution_count": 7,
   "metadata": {
    "execution": {
     "iopub.execute_input": "2020-11-16T12:51:00.350626Z",
     "iopub.status.busy": "2020-11-16T12:51:00.349813Z",
     "iopub.status.idle": "2020-11-16T12:51:00.847810Z",
     "shell.execute_reply": "2020-11-16T12:51:00.847055Z"
    },
    "papermill": {
     "duration": 0.596444,
     "end_time": "2020-11-16T12:51:00.847932",
     "exception": false,
     "start_time": "2020-11-16T12:51:00.251488",
     "status": "completed"
    },
    "tags": [],
    "pycharm": {
     "name": "#%%\n"
    }
   },
   "outputs": [
    {
     "data": {
      "text/plain": "               Permit Type            Permit Type Definition  \\\nPermit Number                                                  \n201505065519             4                      sign - erect   \n201604195146             4                      sign - erect   \n201605278609             3  additions alterations or repairs   \n201611072166             8            otc alterations permit   \n201611283529             6                       demolitions   \n\n              Permit Creation Date Block  Lot  Street Number Street Name  \\\nPermit Number                                                              \n201505065519            05/06/2015  0326  023            140       Ellis   \n201604195146            04/19/2016  0306  007            440       Geary   \n201605278609            05/27/2016  0595  203           1647     Pacific   \n201611072166            11/07/2016  0156  011           1230     Pacific   \n201611283529            11/28/2016  0342  001            950      Market   \n\n              Current Status Current Status Date Filed Date      Record ID  \nPermit Number                                                               \n201505065519         expired          12/21/2017 2015-05-06  1380611233945  \n201604195146          issued          08/03/2017 2016-04-19  1420164406718  \n201605278609       withdrawn          09/26/2017 2016-05-27  1424856504716  \n201611072166        complete          07/24/2017 2016-11-07  1443574295566  \n201611283529          issued          12/01/2017 2016-11-28   144548169992  ",
      "text/html": "<div>\n<style scoped>\n    .dataframe tbody tr th:only-of-type {\n        vertical-align: middle;\n    }\n\n    .dataframe tbody tr th {\n        vertical-align: top;\n    }\n\n    .dataframe thead th {\n        text-align: right;\n    }\n</style>\n<table border=\"1\" class=\"dataframe\">\n  <thead>\n    <tr style=\"text-align: right;\">\n      <th></th>\n      <th>Permit Type</th>\n      <th>Permit Type Definition</th>\n      <th>Permit Creation Date</th>\n      <th>Block</th>\n      <th>Lot</th>\n      <th>Street Number</th>\n      <th>Street Name</th>\n      <th>Current Status</th>\n      <th>Current Status Date</th>\n      <th>Filed Date</th>\n      <th>Record ID</th>\n    </tr>\n    <tr>\n      <th>Permit Number</th>\n      <th></th>\n      <th></th>\n      <th></th>\n      <th></th>\n      <th></th>\n      <th></th>\n      <th></th>\n      <th></th>\n      <th></th>\n      <th></th>\n      <th></th>\n    </tr>\n  </thead>\n  <tbody>\n    <tr>\n      <th>201505065519</th>\n      <td>4</td>\n      <td>sign - erect</td>\n      <td>05/06/2015</td>\n      <td>0326</td>\n      <td>023</td>\n      <td>140</td>\n      <td>Ellis</td>\n      <td>expired</td>\n      <td>12/21/2017</td>\n      <td>2015-05-06</td>\n      <td>1380611233945</td>\n    </tr>\n    <tr>\n      <th>201604195146</th>\n      <td>4</td>\n      <td>sign - erect</td>\n      <td>04/19/2016</td>\n      <td>0306</td>\n      <td>007</td>\n      <td>440</td>\n      <td>Geary</td>\n      <td>issued</td>\n      <td>08/03/2017</td>\n      <td>2016-04-19</td>\n      <td>1420164406718</td>\n    </tr>\n    <tr>\n      <th>201605278609</th>\n      <td>3</td>\n      <td>additions alterations or repairs</td>\n      <td>05/27/2016</td>\n      <td>0595</td>\n      <td>203</td>\n      <td>1647</td>\n      <td>Pacific</td>\n      <td>withdrawn</td>\n      <td>09/26/2017</td>\n      <td>2016-05-27</td>\n      <td>1424856504716</td>\n    </tr>\n    <tr>\n      <th>201611072166</th>\n      <td>8</td>\n      <td>otc alterations permit</td>\n      <td>11/07/2016</td>\n      <td>0156</td>\n      <td>011</td>\n      <td>1230</td>\n      <td>Pacific</td>\n      <td>complete</td>\n      <td>07/24/2017</td>\n      <td>2016-11-07</td>\n      <td>1443574295566</td>\n    </tr>\n    <tr>\n      <th>201611283529</th>\n      <td>6</td>\n      <td>demolitions</td>\n      <td>11/28/2016</td>\n      <td>0342</td>\n      <td>001</td>\n      <td>950</td>\n      <td>Market</td>\n      <td>issued</td>\n      <td>12/01/2017</td>\n      <td>2016-11-28</td>\n      <td>144548169992</td>\n    </tr>\n  </tbody>\n</table>\n</div>"
     },
     "execution_count": 7,
     "metadata": {},
     "output_type": "execute_result"
    }
   ],
   "source": [
    "#if we were to drop columns with atleast one missing value\n",
    "columns_without_missing_values= Pmtsdata.dropna(axis=1)\n",
    "columns_without_missing_values.head()\n",
    "#Alot of data is lost. Out of 42 columns only 11 are retained, 31 columns are lost"
   ]
  },
  {
   "cell_type": "code",
   "execution_count": 8,
   "metadata": {
    "execution": {
     "iopub.execute_input": "2020-11-16T12:51:01.045429Z",
     "iopub.status.busy": "2020-11-16T12:51:01.044583Z",
     "iopub.status.idle": "2020-11-16T12:51:01.516757Z",
     "shell.execute_reply": "2020-11-16T12:51:01.516094Z"
    },
    "papermill": {
     "duration": 0.573945,
     "end_time": "2020-11-16T12:51:01.516884",
     "exception": false,
     "start_time": "2020-11-16T12:51:00.942939",
     "status": "completed"
    },
    "tags": [],
    "pycharm": {
     "name": "#%%\n"
    }
   },
   "outputs": [
    {
     "data": {
      "text/plain": "Empty DataFrame\nColumns: [Permit Type, Permit Type Definition, Permit Creation Date, Block, Lot, Street Number, Street Number Suffix, Street Name, Street Suffix, Unit, Unit Suffix, Description, Current Status, Current Status Date, Filed Date, Issued Date, Completed Date, First Construction Document Date, Structural Notification, Number of Existing Stories, Number of Proposed Stories, Voluntary Soft-Story Retrofit, Fire Only Permit, Permit Expiration Date, Estimated Cost, Revised Cost, Existing Use, Existing Units, Proposed Use, Proposed Units, Plansets, TIDF Compliance, Existing Construction Type, Existing Construction Type Description, Proposed Construction Type, Proposed Construction Type Description, Site Permit, Supervisor District, Neighborhoods - Analysis Boundaries, Zipcode, Location, Record ID]\nIndex: []",
      "text/html": "<div>\n<style scoped>\n    .dataframe tbody tr th:only-of-type {\n        vertical-align: middle;\n    }\n\n    .dataframe tbody tr th {\n        vertical-align: top;\n    }\n\n    .dataframe thead th {\n        text-align: right;\n    }\n</style>\n<table border=\"1\" class=\"dataframe\">\n  <thead>\n    <tr style=\"text-align: right;\">\n      <th></th>\n      <th>Permit Type</th>\n      <th>Permit Type Definition</th>\n      <th>Permit Creation Date</th>\n      <th>Block</th>\n      <th>Lot</th>\n      <th>Street Number</th>\n      <th>Street Number Suffix</th>\n      <th>Street Name</th>\n      <th>Street Suffix</th>\n      <th>Unit</th>\n      <th>Unit Suffix</th>\n      <th>Description</th>\n      <th>Current Status</th>\n      <th>Current Status Date</th>\n      <th>Filed Date</th>\n      <th>Issued Date</th>\n      <th>Completed Date</th>\n      <th>First Construction Document Date</th>\n      <th>Structural Notification</th>\n      <th>Number of Existing Stories</th>\n      <th>Number of Proposed Stories</th>\n      <th>Voluntary Soft-Story Retrofit</th>\n      <th>Fire Only Permit</th>\n      <th>Permit Expiration Date</th>\n      <th>Estimated Cost</th>\n      <th>Revised Cost</th>\n      <th>Existing Use</th>\n      <th>Existing Units</th>\n      <th>Proposed Use</th>\n      <th>Proposed Units</th>\n      <th>Plansets</th>\n      <th>TIDF Compliance</th>\n      <th>Existing Construction Type</th>\n      <th>Existing Construction Type Description</th>\n      <th>Proposed Construction Type</th>\n      <th>Proposed Construction Type Description</th>\n      <th>Site Permit</th>\n      <th>Supervisor District</th>\n      <th>Neighborhoods - Analysis Boundaries</th>\n      <th>Zipcode</th>\n      <th>Location</th>\n      <th>Record ID</th>\n    </tr>\n    <tr>\n      <th>Permit Number</th>\n      <th></th>\n      <th></th>\n      <th></th>\n      <th></th>\n      <th></th>\n      <th></th>\n      <th></th>\n      <th></th>\n      <th></th>\n      <th></th>\n      <th></th>\n      <th></th>\n      <th></th>\n      <th></th>\n      <th></th>\n      <th></th>\n      <th></th>\n      <th></th>\n      <th></th>\n      <th></th>\n      <th></th>\n      <th></th>\n      <th></th>\n      <th></th>\n      <th></th>\n      <th></th>\n      <th></th>\n      <th></th>\n      <th></th>\n      <th></th>\n      <th></th>\n      <th></th>\n      <th></th>\n      <th></th>\n      <th></th>\n      <th></th>\n      <th></th>\n      <th></th>\n      <th></th>\n      <th></th>\n      <th></th>\n      <th></th>\n    </tr>\n  </thead>\n  <tbody>\n  </tbody>\n</table>\n</div>"
     },
     "execution_count": 8,
     "metadata": {},
     "output_type": "execute_result"
    }
   ],
   "source": [
    "#if we were to drop rows with atleast one missing value\n",
    "rows_without_missing_values= Pmtsdata.dropna(axis=0)\n",
    "rows_without_missing_values.head()\n",
    "#All the data would be lost"
   ]
  },
  {
   "cell_type": "code",
   "execution_count": 9,
   "metadata": {
    "execution": {
     "iopub.execute_input": "2020-11-16T12:51:01.711408Z",
     "iopub.status.busy": "2020-11-16T12:51:01.710654Z",
     "iopub.status.idle": "2020-11-16T12:51:02.165588Z",
     "shell.execute_reply": "2020-11-16T12:51:02.164832Z"
    },
    "papermill": {
     "duration": 0.554338,
     "end_time": "2020-11-16T12:51:02.165714",
     "exception": false,
     "start_time": "2020-11-16T12:51:01.611376",
     "status": "completed"
    },
    "tags": [],
    "pycharm": {
     "name": "#%%\n"
    }
   },
   "outputs": [
    {
     "data": {
      "text/plain": "Permit Type                               0.000000\nPermit Type Definition                    0.000000\nPermit Creation Date                      0.000000\nBlock                                     0.000000\nLot                                       0.000000\nStreet Number                             0.000000\nStreet Number Suffix                      0.988859\nStreet Name                               0.000000\nStreet Suffix                             0.013917\nUnit                                      0.851790\nUnit Suffix                               0.990141\nDescription                               0.001458\nCurrent Status                            0.000000\nCurrent Status Date                       0.000000\nFiled Date                                0.000000\nIssued Date                               0.075113\nCompleted Date                            0.511357\nFirst Construction Document Date          0.075143\nStructural Notification                   0.965199\nNumber of Existing Stories                0.215103\nNumber of Proposed Stories                0.215525\nVoluntary Soft-Story Retrofit             0.999824\nFire Only Permit                          0.905344\nPermit Expiration Date                    0.260835\nEstimated Cost                            0.191383\nRevised Cost                              0.030498\nExisting Use                              0.206707\nExisting Units                            0.259115\nProposed Use                              0.213369\nProposed Units                            0.255963\nPlansets                                  0.187577\nTIDF Compliance                           0.999990\nExisting Construction Type                0.218029\nExisting Construction Type Description    0.218029\nProposed Construction Type                0.217004\nProposed Construction Type Description    0.217004\nSite Permit                               0.973057\nSupervisor District                       0.008632\nNeighborhoods - Analysis Boundaries       0.008673\nZipcode                                   0.008627\nLocation                                  0.008547\nRecord ID                                 0.000000\ndtype: float64"
     },
     "execution_count": 9,
     "metadata": {},
     "output_type": "execute_result"
    }
   ],
   "source": [
    "#lets explore the possibility of dropping columns by a given percentage threshold of missings values.\n",
    "miss_val_per_column = Pmtsdata.isnull().sum()/len(Pmtsdata)\n",
    "miss_val_per_column"
   ]
  },
  {
   "cell_type": "code",
   "execution_count": 10,
   "metadata": {
    "execution": {
     "iopub.execute_input": "2020-11-16T12:51:02.367193Z",
     "iopub.status.busy": "2020-11-16T12:51:02.366069Z",
     "iopub.status.idle": "2020-11-16T12:51:02.369996Z",
     "shell.execute_reply": "2020-11-16T12:51:02.370535Z"
    },
    "papermill": {
     "duration": 0.108771,
     "end_time": "2020-11-16T12:51:02.370693",
     "exception": false,
     "start_time": "2020-11-16T12:51:02.261922",
     "status": "completed"
    },
    "tags": [],
    "pycharm": {
     "name": "#%%\n"
    }
   },
   "outputs": [
    {
     "data": {
      "text/plain": "Permit Type                                0.000\nPermit Type Definition                     0.000\nPermit Creation Date                       0.000\nBlock                                      0.000\nLot                                        0.000\nStreet Number                              0.000\nStreet Number Suffix                      98.886\nStreet Name                                0.000\nStreet Suffix                              1.392\nUnit                                      85.179\nUnit Suffix                               99.014\nDescription                                0.146\nCurrent Status                             0.000\nCurrent Status Date                        0.000\nFiled Date                                 0.000\nIssued Date                                7.511\nCompleted Date                            51.136\nFirst Construction Document Date           7.514\nStructural Notification                   96.520\nNumber of Existing Stories                21.510\nNumber of Proposed Stories                21.553\nVoluntary Soft-Story Retrofit             99.982\nFire Only Permit                          90.534\nPermit Expiration Date                    26.083\nEstimated Cost                            19.138\nRevised Cost                               3.050\nExisting Use                              20.671\nExisting Units                            25.912\nProposed Use                              21.337\nProposed Units                            25.596\nPlansets                                  18.758\nTIDF Compliance                           99.999\nExisting Construction Type                21.803\nExisting Construction Type Description    21.803\nProposed Construction Type                21.700\nProposed Construction Type Description    21.700\nSite Permit                               97.306\nSupervisor District                        0.863\nNeighborhoods - Analysis Boundaries        0.867\nZipcode                                    0.863\nLocation                                   0.855\nRecord ID                                  0.000\ndtype: float64"
     },
     "execution_count": 10,
     "metadata": {},
     "output_type": "execute_result"
    }
   ],
   "source": [
    "mis_val_centage = (miss_val_per_column*100).round(3)\n",
    "mis_val_centage"
   ]
  },
  {
   "cell_type": "code",
   "execution_count": 11,
   "metadata": {
    "execution": {
     "iopub.execute_input": "2020-11-16T12:51:02.579675Z",
     "iopub.status.busy": "2020-11-16T12:51:02.578649Z",
     "iopub.status.idle": "2020-11-16T12:51:02.584174Z",
     "shell.execute_reply": "2020-11-16T12:51:02.583541Z"
    },
    "papermill": {
     "duration": 0.118257,
     "end_time": "2020-11-16T12:51:02.584318",
     "exception": false,
     "start_time": "2020-11-16T12:51:02.466061",
     "status": "completed"
    },
    "tags": [],
    "pycharm": {
     "name": "#%%\n"
    }
   },
   "outputs": [
    {
     "data": {
      "text/plain": "                                               0       1\nPermit Type                             0.000000   0.000\nPermit Type Definition                  0.000000   0.000\nPermit Creation Date                    0.000000   0.000\nBlock                                   0.000000   0.000\nLot                                     0.000000   0.000\nStreet Number                           0.000000   0.000\nStreet Number Suffix                    0.988859  98.886\nStreet Name                             0.000000   0.000\nStreet Suffix                           0.013917   1.392\nUnit                                    0.851790  85.179\nUnit Suffix                             0.990141  99.014\nDescription                             0.001458   0.146\nCurrent Status                          0.000000   0.000\nCurrent Status Date                     0.000000   0.000\nFiled Date                              0.000000   0.000\nIssued Date                             0.075113   7.511\nCompleted Date                          0.511357  51.136\nFirst Construction Document Date        0.075143   7.514\nStructural Notification                 0.965199  96.520\nNumber of Existing Stories              0.215103  21.510\nNumber of Proposed Stories              0.215525  21.553\nVoluntary Soft-Story Retrofit           0.999824  99.982\nFire Only Permit                        0.905344  90.534\nPermit Expiration Date                  0.260835  26.083\nEstimated Cost                          0.191383  19.138\nRevised Cost                            0.030498   3.050\nExisting Use                            0.206707  20.671\nExisting Units                          0.259115  25.912\nProposed Use                            0.213369  21.337\nProposed Units                          0.255963  25.596\nPlansets                                0.187577  18.758\nTIDF Compliance                         0.999990  99.999\nExisting Construction Type              0.218029  21.803\nExisting Construction Type Description  0.218029  21.803\nProposed Construction Type              0.217004  21.700\nProposed Construction Type Description  0.217004  21.700\nSite Permit                             0.973057  97.306\nSupervisor District                     0.008632   0.863\nNeighborhoods - Analysis Boundaries     0.008673   0.867\nZipcode                                 0.008627   0.863\nLocation                                0.008547   0.855\nRecord ID                               0.000000   0.000",
      "text/html": "<div>\n<style scoped>\n    .dataframe tbody tr th:only-of-type {\n        vertical-align: middle;\n    }\n\n    .dataframe tbody tr th {\n        vertical-align: top;\n    }\n\n    .dataframe thead th {\n        text-align: right;\n    }\n</style>\n<table border=\"1\" class=\"dataframe\">\n  <thead>\n    <tr style=\"text-align: right;\">\n      <th></th>\n      <th>0</th>\n      <th>1</th>\n    </tr>\n  </thead>\n  <tbody>\n    <tr>\n      <th>Permit Type</th>\n      <td>0.000000</td>\n      <td>0.000</td>\n    </tr>\n    <tr>\n      <th>Permit Type Definition</th>\n      <td>0.000000</td>\n      <td>0.000</td>\n    </tr>\n    <tr>\n      <th>Permit Creation Date</th>\n      <td>0.000000</td>\n      <td>0.000</td>\n    </tr>\n    <tr>\n      <th>Block</th>\n      <td>0.000000</td>\n      <td>0.000</td>\n    </tr>\n    <tr>\n      <th>Lot</th>\n      <td>0.000000</td>\n      <td>0.000</td>\n    </tr>\n    <tr>\n      <th>Street Number</th>\n      <td>0.000000</td>\n      <td>0.000</td>\n    </tr>\n    <tr>\n      <th>Street Number Suffix</th>\n      <td>0.988859</td>\n      <td>98.886</td>\n    </tr>\n    <tr>\n      <th>Street Name</th>\n      <td>0.000000</td>\n      <td>0.000</td>\n    </tr>\n    <tr>\n      <th>Street Suffix</th>\n      <td>0.013917</td>\n      <td>1.392</td>\n    </tr>\n    <tr>\n      <th>Unit</th>\n      <td>0.851790</td>\n      <td>85.179</td>\n    </tr>\n    <tr>\n      <th>Unit Suffix</th>\n      <td>0.990141</td>\n      <td>99.014</td>\n    </tr>\n    <tr>\n      <th>Description</th>\n      <td>0.001458</td>\n      <td>0.146</td>\n    </tr>\n    <tr>\n      <th>Current Status</th>\n      <td>0.000000</td>\n      <td>0.000</td>\n    </tr>\n    <tr>\n      <th>Current Status Date</th>\n      <td>0.000000</td>\n      <td>0.000</td>\n    </tr>\n    <tr>\n      <th>Filed Date</th>\n      <td>0.000000</td>\n      <td>0.000</td>\n    </tr>\n    <tr>\n      <th>Issued Date</th>\n      <td>0.075113</td>\n      <td>7.511</td>\n    </tr>\n    <tr>\n      <th>Completed Date</th>\n      <td>0.511357</td>\n      <td>51.136</td>\n    </tr>\n    <tr>\n      <th>First Construction Document Date</th>\n      <td>0.075143</td>\n      <td>7.514</td>\n    </tr>\n    <tr>\n      <th>Structural Notification</th>\n      <td>0.965199</td>\n      <td>96.520</td>\n    </tr>\n    <tr>\n      <th>Number of Existing Stories</th>\n      <td>0.215103</td>\n      <td>21.510</td>\n    </tr>\n    <tr>\n      <th>Number of Proposed Stories</th>\n      <td>0.215525</td>\n      <td>21.553</td>\n    </tr>\n    <tr>\n      <th>Voluntary Soft-Story Retrofit</th>\n      <td>0.999824</td>\n      <td>99.982</td>\n    </tr>\n    <tr>\n      <th>Fire Only Permit</th>\n      <td>0.905344</td>\n      <td>90.534</td>\n    </tr>\n    <tr>\n      <th>Permit Expiration Date</th>\n      <td>0.260835</td>\n      <td>26.083</td>\n    </tr>\n    <tr>\n      <th>Estimated Cost</th>\n      <td>0.191383</td>\n      <td>19.138</td>\n    </tr>\n    <tr>\n      <th>Revised Cost</th>\n      <td>0.030498</td>\n      <td>3.050</td>\n    </tr>\n    <tr>\n      <th>Existing Use</th>\n      <td>0.206707</td>\n      <td>20.671</td>\n    </tr>\n    <tr>\n      <th>Existing Units</th>\n      <td>0.259115</td>\n      <td>25.912</td>\n    </tr>\n    <tr>\n      <th>Proposed Use</th>\n      <td>0.213369</td>\n      <td>21.337</td>\n    </tr>\n    <tr>\n      <th>Proposed Units</th>\n      <td>0.255963</td>\n      <td>25.596</td>\n    </tr>\n    <tr>\n      <th>Plansets</th>\n      <td>0.187577</td>\n      <td>18.758</td>\n    </tr>\n    <tr>\n      <th>TIDF Compliance</th>\n      <td>0.999990</td>\n      <td>99.999</td>\n    </tr>\n    <tr>\n      <th>Existing Construction Type</th>\n      <td>0.218029</td>\n      <td>21.803</td>\n    </tr>\n    <tr>\n      <th>Existing Construction Type Description</th>\n      <td>0.218029</td>\n      <td>21.803</td>\n    </tr>\n    <tr>\n      <th>Proposed Construction Type</th>\n      <td>0.217004</td>\n      <td>21.700</td>\n    </tr>\n    <tr>\n      <th>Proposed Construction Type Description</th>\n      <td>0.217004</td>\n      <td>21.700</td>\n    </tr>\n    <tr>\n      <th>Site Permit</th>\n      <td>0.973057</td>\n      <td>97.306</td>\n    </tr>\n    <tr>\n      <th>Supervisor District</th>\n      <td>0.008632</td>\n      <td>0.863</td>\n    </tr>\n    <tr>\n      <th>Neighborhoods - Analysis Boundaries</th>\n      <td>0.008673</td>\n      <td>0.867</td>\n    </tr>\n    <tr>\n      <th>Zipcode</th>\n      <td>0.008627</td>\n      <td>0.863</td>\n    </tr>\n    <tr>\n      <th>Location</th>\n      <td>0.008547</td>\n      <td>0.855</td>\n    </tr>\n    <tr>\n      <th>Record ID</th>\n      <td>0.000000</td>\n      <td>0.000</td>\n    </tr>\n  </tbody>\n</table>\n</div>"
     },
     "execution_count": 11,
     "metadata": {},
     "output_type": "execute_result"
    }
   ],
   "source": [
    "mis_val_table = pd.concat([miss_val_per_column,mis_val_centage,],axis=1)\n",
    "mis_val_table"
   ]
  },
  {
   "cell_type": "code",
   "execution_count": 12,
   "metadata": {
    "execution": {
     "iopub.execute_input": "2020-11-16T12:51:02.798306Z",
     "iopub.status.busy": "2020-11-16T12:51:02.797173Z",
     "iopub.status.idle": "2020-11-16T12:51:02.802690Z",
     "shell.execute_reply": "2020-11-16T12:51:02.802044Z"
    },
    "papermill": {
     "duration": 0.121539,
     "end_time": "2020-11-16T12:51:02.802826",
     "exception": false,
     "start_time": "2020-11-16T12:51:02.681287",
     "status": "completed"
    },
    "tags": [],
    "pycharm": {
     "name": "#%%\n"
    }
   },
   "outputs": [
    {
     "data": {
      "text/plain": "                                        Missing Values  Percentage\nPermit Type                                   0.000000       0.000\nPermit Type Definition                        0.000000       0.000\nPermit Creation Date                          0.000000       0.000\nBlock                                         0.000000       0.000\nLot                                           0.000000       0.000\nStreet Number                                 0.000000       0.000\nStreet Number Suffix                          0.988859      98.886\nStreet Name                                   0.000000       0.000\nStreet Suffix                                 0.013917       1.392\nUnit                                          0.851790      85.179\nUnit Suffix                                   0.990141      99.014\nDescription                                   0.001458       0.146\nCurrent Status                                0.000000       0.000\nCurrent Status Date                           0.000000       0.000\nFiled Date                                    0.000000       0.000\nIssued Date                                   0.075113       7.511\nCompleted Date                                0.511357      51.136\nFirst Construction Document Date              0.075143       7.514\nStructural Notification                       0.965199      96.520\nNumber of Existing Stories                    0.215103      21.510\nNumber of Proposed Stories                    0.215525      21.553\nVoluntary Soft-Story Retrofit                 0.999824      99.982\nFire Only Permit                              0.905344      90.534\nPermit Expiration Date                        0.260835      26.083\nEstimated Cost                                0.191383      19.138\nRevised Cost                                  0.030498       3.050\nExisting Use                                  0.206707      20.671\nExisting Units                                0.259115      25.912\nProposed Use                                  0.213369      21.337\nProposed Units                                0.255963      25.596\nPlansets                                      0.187577      18.758\nTIDF Compliance                               0.999990      99.999\nExisting Construction Type                    0.218029      21.803\nExisting Construction Type Description        0.218029      21.803\nProposed Construction Type                    0.217004      21.700\nProposed Construction Type Description        0.217004      21.700\nSite Permit                                   0.973057      97.306\nSupervisor District                           0.008632       0.863\nNeighborhoods - Analysis Boundaries           0.008673       0.867\nZipcode                                       0.008627       0.863\nLocation                                      0.008547       0.855\nRecord ID                                     0.000000       0.000",
      "text/html": "<div>\n<style scoped>\n    .dataframe tbody tr th:only-of-type {\n        vertical-align: middle;\n    }\n\n    .dataframe tbody tr th {\n        vertical-align: top;\n    }\n\n    .dataframe thead th {\n        text-align: right;\n    }\n</style>\n<table border=\"1\" class=\"dataframe\">\n  <thead>\n    <tr style=\"text-align: right;\">\n      <th></th>\n      <th>Missing Values</th>\n      <th>Percentage</th>\n    </tr>\n  </thead>\n  <tbody>\n    <tr>\n      <th>Permit Type</th>\n      <td>0.000000</td>\n      <td>0.000</td>\n    </tr>\n    <tr>\n      <th>Permit Type Definition</th>\n      <td>0.000000</td>\n      <td>0.000</td>\n    </tr>\n    <tr>\n      <th>Permit Creation Date</th>\n      <td>0.000000</td>\n      <td>0.000</td>\n    </tr>\n    <tr>\n      <th>Block</th>\n      <td>0.000000</td>\n      <td>0.000</td>\n    </tr>\n    <tr>\n      <th>Lot</th>\n      <td>0.000000</td>\n      <td>0.000</td>\n    </tr>\n    <tr>\n      <th>Street Number</th>\n      <td>0.000000</td>\n      <td>0.000</td>\n    </tr>\n    <tr>\n      <th>Street Number Suffix</th>\n      <td>0.988859</td>\n      <td>98.886</td>\n    </tr>\n    <tr>\n      <th>Street Name</th>\n      <td>0.000000</td>\n      <td>0.000</td>\n    </tr>\n    <tr>\n      <th>Street Suffix</th>\n      <td>0.013917</td>\n      <td>1.392</td>\n    </tr>\n    <tr>\n      <th>Unit</th>\n      <td>0.851790</td>\n      <td>85.179</td>\n    </tr>\n    <tr>\n      <th>Unit Suffix</th>\n      <td>0.990141</td>\n      <td>99.014</td>\n    </tr>\n    <tr>\n      <th>Description</th>\n      <td>0.001458</td>\n      <td>0.146</td>\n    </tr>\n    <tr>\n      <th>Current Status</th>\n      <td>0.000000</td>\n      <td>0.000</td>\n    </tr>\n    <tr>\n      <th>Current Status Date</th>\n      <td>0.000000</td>\n      <td>0.000</td>\n    </tr>\n    <tr>\n      <th>Filed Date</th>\n      <td>0.000000</td>\n      <td>0.000</td>\n    </tr>\n    <tr>\n      <th>Issued Date</th>\n      <td>0.075113</td>\n      <td>7.511</td>\n    </tr>\n    <tr>\n      <th>Completed Date</th>\n      <td>0.511357</td>\n      <td>51.136</td>\n    </tr>\n    <tr>\n      <th>First Construction Document Date</th>\n      <td>0.075143</td>\n      <td>7.514</td>\n    </tr>\n    <tr>\n      <th>Structural Notification</th>\n      <td>0.965199</td>\n      <td>96.520</td>\n    </tr>\n    <tr>\n      <th>Number of Existing Stories</th>\n      <td>0.215103</td>\n      <td>21.510</td>\n    </tr>\n    <tr>\n      <th>Number of Proposed Stories</th>\n      <td>0.215525</td>\n      <td>21.553</td>\n    </tr>\n    <tr>\n      <th>Voluntary Soft-Story Retrofit</th>\n      <td>0.999824</td>\n      <td>99.982</td>\n    </tr>\n    <tr>\n      <th>Fire Only Permit</th>\n      <td>0.905344</td>\n      <td>90.534</td>\n    </tr>\n    <tr>\n      <th>Permit Expiration Date</th>\n      <td>0.260835</td>\n      <td>26.083</td>\n    </tr>\n    <tr>\n      <th>Estimated Cost</th>\n      <td>0.191383</td>\n      <td>19.138</td>\n    </tr>\n    <tr>\n      <th>Revised Cost</th>\n      <td>0.030498</td>\n      <td>3.050</td>\n    </tr>\n    <tr>\n      <th>Existing Use</th>\n      <td>0.206707</td>\n      <td>20.671</td>\n    </tr>\n    <tr>\n      <th>Existing Units</th>\n      <td>0.259115</td>\n      <td>25.912</td>\n    </tr>\n    <tr>\n      <th>Proposed Use</th>\n      <td>0.213369</td>\n      <td>21.337</td>\n    </tr>\n    <tr>\n      <th>Proposed Units</th>\n      <td>0.255963</td>\n      <td>25.596</td>\n    </tr>\n    <tr>\n      <th>Plansets</th>\n      <td>0.187577</td>\n      <td>18.758</td>\n    </tr>\n    <tr>\n      <th>TIDF Compliance</th>\n      <td>0.999990</td>\n      <td>99.999</td>\n    </tr>\n    <tr>\n      <th>Existing Construction Type</th>\n      <td>0.218029</td>\n      <td>21.803</td>\n    </tr>\n    <tr>\n      <th>Existing Construction Type Description</th>\n      <td>0.218029</td>\n      <td>21.803</td>\n    </tr>\n    <tr>\n      <th>Proposed Construction Type</th>\n      <td>0.217004</td>\n      <td>21.700</td>\n    </tr>\n    <tr>\n      <th>Proposed Construction Type Description</th>\n      <td>0.217004</td>\n      <td>21.700</td>\n    </tr>\n    <tr>\n      <th>Site Permit</th>\n      <td>0.973057</td>\n      <td>97.306</td>\n    </tr>\n    <tr>\n      <th>Supervisor District</th>\n      <td>0.008632</td>\n      <td>0.863</td>\n    </tr>\n    <tr>\n      <th>Neighborhoods - Analysis Boundaries</th>\n      <td>0.008673</td>\n      <td>0.867</td>\n    </tr>\n    <tr>\n      <th>Zipcode</th>\n      <td>0.008627</td>\n      <td>0.863</td>\n    </tr>\n    <tr>\n      <th>Location</th>\n      <td>0.008547</td>\n      <td>0.855</td>\n    </tr>\n    <tr>\n      <th>Record ID</th>\n      <td>0.000000</td>\n      <td>0.000</td>\n    </tr>\n  </tbody>\n</table>\n</div>"
     },
     "execution_count": 12,
     "metadata": {},
     "output_type": "execute_result"
    }
   ],
   "source": [
    "new_table = mis_val_table.rename(columns = {0 : 'Missing Values', 1 : 'Percentage'})\n",
    "new_table"
   ]
  },
  {
   "cell_type": "code",
   "execution_count": 13,
   "metadata": {
    "execution": {
     "iopub.execute_input": "2020-11-16T12:51:03.009658Z",
     "iopub.status.busy": "2020-11-16T12:51:03.008576Z",
     "iopub.status.idle": "2020-11-16T12:51:03.012250Z",
     "shell.execute_reply": "2020-11-16T12:51:03.012840Z"
    },
    "papermill": {
     "duration": 0.110704,
     "end_time": "2020-11-16T12:51:03.012993",
     "exception": false,
     "start_time": "2020-11-16T12:51:02.902289",
     "status": "completed"
    },
    "tags": [],
    "pycharm": {
     "name": "#%%\n"
    }
   },
   "outputs": [
    {
     "name": "stdout",
     "output_type": "stream",
     "text": [
      "We will remove 8 columns\n",
      "The columns to remove are \n",
      " ['Street Number Suffix', 'Unit', 'Unit Suffix', 'Structural Notification', 'Voluntary Soft-Story Retrofit', 'Fire Only Permit', 'TIDF Compliance', 'Site Permit']\n"
     ]
    }
   ],
   "source": [
    "# set our threshold to remove columns with 80% missing values.\n",
    "missing_columns = list(new_table[new_table['Percentage']>80].index)\n",
    "print('We will remove %d columns'%len(missing_columns))\n",
    "print('The columns to remove are \\n %s'%missing_columns)"
   ]
  },
  {
   "cell_type": "code",
   "execution_count": 14,
   "metadata": {
    "execution": {
     "iopub.execute_input": "2020-11-16T12:51:03.218022Z",
     "iopub.status.busy": "2020-11-16T12:51:03.217210Z",
     "iopub.status.idle": "2020-11-16T12:51:03.266105Z",
     "shell.execute_reply": "2020-11-16T12:51:03.265326Z"
    },
    "papermill": {
     "duration": 0.154604,
     "end_time": "2020-11-16T12:51:03.266229",
     "exception": false,
     "start_time": "2020-11-16T12:51:03.111625",
     "status": "completed"
    },
    "tags": [],
    "pycharm": {
     "name": "#%%\n"
    }
   },
   "outputs": [],
   "source": [
    "Pmtsdata.drop(columns=list(missing_columns),inplace=True)\n",
    "#Now left with 34 columns out of 42."
   ]
  },
  {
   "cell_type": "code",
   "execution_count": 15,
   "metadata": {
    "execution": {
     "iopub.execute_input": "2020-11-16T12:51:03.470754Z",
     "iopub.status.busy": "2020-11-16T12:51:03.469902Z",
     "iopub.status.idle": "2020-11-16T12:51:03.474115Z",
     "shell.execute_reply": "2020-11-16T12:51:03.473556Z"
    },
    "papermill": {
     "duration": 0.108848,
     "end_time": "2020-11-16T12:51:03.474267",
     "exception": false,
     "start_time": "2020-11-16T12:51:03.365419",
     "status": "completed"
    },
    "tags": [],
    "pycharm": {
     "name": "#%%\n"
    }
   },
   "outputs": [
    {
     "data": {
      "text/plain": "(198900, 34)"
     },
     "execution_count": 15,
     "metadata": {},
     "output_type": "execute_result"
    }
   ],
   "source": [
    "Pmtsdata.shape"
   ]
  },
  {
   "cell_type": "markdown",
   "metadata": {
    "papermill": {
     "duration": 0.098778,
     "end_time": "2020-11-16T12:51:03.672090",
     "exception": false,
     "start_time": "2020-11-16T12:51:03.573312",
     "status": "completed"
    },
    "tags": [],
    "pycharm": {
     "name": "#%% md\n"
    }
   },
   "source": [
    "**Standard machine learning models cannot deal with missing values, and which means we have to find a way to fill these in or disard any features with missing values. Since we already removed features with more than 80% missing values in the dateframe,\n",
    "we have a considerable number of rows process, we can decide to drop rows with missing values so as to remain with data which suitable to our models**."
   ]
  },
  {
   "cell_type": "code",
   "execution_count": 16,
   "metadata": {
    "execution": {
     "iopub.execute_input": "2020-11-16T12:51:04.243275Z",
     "iopub.status.busy": "2020-11-16T12:51:04.242444Z",
     "iopub.status.idle": "2020-11-16T12:51:04.314767Z",
     "shell.execute_reply": "2020-11-16T12:51:04.315365Z"
    },
    "papermill": {
     "duration": 0.543697,
     "end_time": "2020-11-16T12:51:04.315535",
     "exception": false,
     "start_time": "2020-11-16T12:51:03.771838",
     "status": "completed"
    },
    "tags": [],
    "pycharm": {
     "name": "#%%\n"
    }
   },
   "outputs": [],
   "source": [
    "Pmtsdata.dropna(axis=0,inplace=True) # we can drop rows with missing values"
   ]
  },
  {
   "cell_type": "code",
   "execution_count": 17,
   "metadata": {
    "execution": {
     "iopub.execute_input": "2020-11-16T12:51:04.688081Z",
     "iopub.status.busy": "2020-11-16T12:51:04.687174Z",
     "iopub.status.idle": "2020-11-16T12:51:04.696191Z",
     "shell.execute_reply": "2020-11-16T12:51:04.695603Z"
    },
    "papermill": {
     "duration": 0.281071,
     "end_time": "2020-11-16T12:51:04.696343",
     "exception": false,
     "start_time": "2020-11-16T12:51:04.415272",
     "status": "completed"
    },
    "tags": [],
    "pycharm": {
     "name": "#%%\n"
    }
   },
   "outputs": [
    {
     "data": {
      "text/plain": "0"
     },
     "execution_count": 17,
     "metadata": {},
     "output_type": "execute_result"
    }
   ],
   "source": [
    "Pmtsdata.isnull().any().sum() #code shows we now have no missing values in the dataframe"
   ]
  },
  {
   "cell_type": "code",
   "execution_count": 18,
   "metadata": {
    "execution": {
     "iopub.execute_input": "2020-11-16T12:51:04.906538Z",
     "iopub.status.busy": "2020-11-16T12:51:04.905430Z",
     "iopub.status.idle": "2020-11-16T12:51:04.909811Z",
     "shell.execute_reply": "2020-11-16T12:51:04.909129Z"
    },
    "papermill": {
     "duration": 0.111728,
     "end_time": "2020-11-16T12:51:04.909933",
     "exception": false,
     "start_time": "2020-11-16T12:51:04.798205",
     "status": "completed"
    },
    "tags": [],
    "pycharm": {
     "name": "#%%\n"
    }
   },
   "outputs": [
    {
     "data": {
      "text/plain": "(86817, 34)"
     },
     "execution_count": 18,
     "metadata": {},
     "output_type": "execute_result"
    }
   ],
   "source": [
    "Pmtsdata.shape # we are still left with a considerable chunk of data to build our models."
   ]
  },
  {
   "cell_type": "code",
   "execution_count": 19,
   "metadata": {
    "execution": {
     "iopub.execute_input": "2020-11-16T12:51:05.117120Z",
     "iopub.status.busy": "2020-11-16T12:51:05.116358Z",
     "iopub.status.idle": "2020-11-16T12:51:05.469174Z",
     "shell.execute_reply": "2020-11-16T12:51:05.468545Z"
    },
    "papermill": {
     "duration": 0.458276,
     "end_time": "2020-11-16T12:51:05.469334",
     "exception": false,
     "start_time": "2020-11-16T12:51:05.011058",
     "status": "completed"
    },
    "tags": [],
    "pycharm": {
     "name": "#%%\n"
    }
   },
   "outputs": [],
   "source": [
    "#DUPLICATE CHECK.\n",
    "NewPmtdata=Pmtsdata.copy()\n",
    "NewPmtdata.drop_duplicates(subset=None, inplace=True)"
   ]
  },
  {
   "cell_type": "code",
   "execution_count": 20,
   "metadata": {
    "execution": {
     "iopub.execute_input": "2020-11-16T12:51:05.726659Z",
     "iopub.status.busy": "2020-11-16T12:51:05.725665Z",
     "iopub.status.idle": "2020-11-16T12:51:05.730413Z",
     "shell.execute_reply": "2020-11-16T12:51:05.729819Z"
    },
    "papermill": {
     "duration": 0.159051,
     "end_time": "2020-11-16T12:51:05.730541",
     "exception": false,
     "start_time": "2020-11-16T12:51:05.571490",
     "status": "completed"
    },
    "tags": [],
    "pycharm": {
     "name": "#%%\n"
    }
   },
   "outputs": [
    {
     "data": {
      "text/plain": "(86817, 34)"
     },
     "execution_count": 20,
     "metadata": {},
     "output_type": "execute_result"
    }
   ],
   "source": [
    "NewPmtdata.shape  # no duplicate rows present"
   ]
  },
  {
   "cell_type": "markdown",
   "metadata": {
    "papermill": {
     "duration": 0.101652,
     "end_time": "2020-11-16T12:51:05.935489",
     "exception": false,
     "start_time": "2020-11-16T12:51:05.833837",
     "status": "completed"
    },
    "tags": [],
    "pycharm": {
     "name": "#%% md\n"
    }
   },
   "source": [
    "**we shall compute how long it takes for a building permit to be issued by creating the target variable time in days from the Filed Date and the Issued Date **"
   ]
  },
  {
   "cell_type": "code",
   "execution_count": 21,
   "metadata": {
    "execution": {
     "iopub.execute_input": "2020-11-16T12:51:06.145288Z",
     "iopub.status.busy": "2020-11-16T12:51:06.143901Z",
     "iopub.status.idle": "2020-11-16T12:51:06.148957Z",
     "shell.execute_reply": "2020-11-16T12:51:06.148218Z"
    },
    "papermill": {
     "duration": 0.111929,
     "end_time": "2020-11-16T12:51:06.149078",
     "exception": false,
     "start_time": "2020-11-16T12:51:06.037149",
     "status": "completed"
    },
    "tags": [],
    "pycharm": {
     "name": "#%%\n"
    }
   },
   "outputs": [],
   "source": [
    "#create a new column time in days taken to receive a permit from the filed date and issued date\n",
    "Pmtsdata['Time_in_Days']= Pmtsdata['Issued Date'].sub(Pmtsdata['Filed Date'],axis=0)"
   ]
  },
  {
   "cell_type": "code",
   "execution_count": 22,
   "metadata": {
    "execution": {
     "iopub.execute_input": "2020-11-16T12:51:06.361891Z",
     "iopub.status.busy": "2020-11-16T12:51:06.361063Z",
     "iopub.status.idle": "2020-11-16T12:51:06.365415Z",
     "shell.execute_reply": "2020-11-16T12:51:06.366035Z"
    },
    "papermill": {
     "duration": 0.115199,
     "end_time": "2020-11-16T12:51:06.366192",
     "exception": false,
     "start_time": "2020-11-16T12:51:06.250993",
     "status": "completed"
    },
    "tags": [],
    "pycharm": {
     "name": "#%%\n"
    }
   },
   "outputs": [
    {
     "data": {
      "text/plain": "Permit Number\n201611072166   253 days\n201706300814     0 days\n201710110928     0 days\n201408254591     0 days\n201604064066     0 days\nName: Time_in_Days, dtype: timedelta64[ns]"
     },
     "execution_count": 22,
     "metadata": {},
     "output_type": "execute_result"
    }
   ],
   "source": [
    "Pmtsdata['Time_in_Days'].head()# Asnap shot on the time in days taken."
   ]
  },
  {
   "cell_type": "code",
   "execution_count": 23,
   "metadata": {
    "execution": {
     "iopub.execute_input": "2020-11-16T12:51:06.577556Z",
     "iopub.status.busy": "2020-11-16T12:51:06.576560Z",
     "iopub.status.idle": "2020-11-16T12:51:06.584196Z",
     "shell.execute_reply": "2020-11-16T12:51:06.583543Z"
    },
    "papermill": {
     "duration": 0.115453,
     "end_time": "2020-11-16T12:51:06.584356",
     "exception": false,
     "start_time": "2020-11-16T12:51:06.468903",
     "status": "completed"
    },
    "tags": [],
    "pycharm": {
     "name": "#%%\n"
    }
   },
   "outputs": [],
   "source": [
    "#Convert the time in days from Datetime format to integer\n",
    "Pmtsdata['Time_in_Days']=Pmtsdata['Time_in_Days'].dt.days"
   ]
  },
  {
   "cell_type": "markdown",
   "metadata": {
    "papermill": {
     "duration": 0.104303,
     "end_time": "2020-11-16T12:51:06.795291",
     "exception": false,
     "start_time": "2020-11-16T12:51:06.690988",
     "status": "completed"
    },
    "tags": [],
    "pycharm": {
     "name": "#%% md\n"
    }
   },
   "source": [
    "**Phase 2: \n",
    "Next step is to do exploratory Data analysis whose purpose is to find anormalies, trends, partners and relationships that can be used to inform modeling decisions such as which features to use with strong correlation. This helps us to determine what our data tell us**"
   ]
  },
  {
   "cell_type": "code",
   "execution_count": 24,
   "metadata": {
    "execution": {
     "iopub.execute_input": "2020-11-16T12:51:07.009639Z",
     "iopub.status.busy": "2020-11-16T12:51:07.008792Z",
     "iopub.status.idle": "2020-11-16T12:51:07.022024Z",
     "shell.execute_reply": "2020-11-16T12:51:07.021426Z"
    },
    "papermill": {
     "duration": 0.123569,
     "end_time": "2020-11-16T12:51:07.022158",
     "exception": false,
     "start_time": "2020-11-16T12:51:06.898589",
     "status": "completed"
    },
    "tags": [],
    "pycharm": {
     "name": "#%%\n"
    }
   },
   "outputs": [
    {
     "data": {
      "text/plain": "count    86817.000000\nmean        20.648571\nstd         67.638539\nmin          0.000000\n25%          0.000000\n50%          0.000000\n75%          7.000000\nmax       1262.000000\nName: Time_in_Days, dtype: float64"
     },
     "execution_count": 24,
     "metadata": {},
     "output_type": "execute_result"
    }
   ],
   "source": [
    "Pmtsdata['Time_in_Days'].describe() # exploring our target variable"
   ]
  },
  {
   "cell_type": "code",
   "execution_count": 30,
   "metadata": {
    "execution": {
     "iopub.execute_input": "2020-11-16T12:51:07.236691Z",
     "iopub.status.busy": "2020-11-16T12:51:07.235490Z",
     "iopub.status.idle": "2020-11-16T12:51:07.273149Z",
     "shell.execute_reply": "2020-11-16T12:51:07.272400Z"
    },
    "papermill": {
     "duration": 0.146889,
     "end_time": "2020-11-16T12:51:07.273295",
     "exception": false,
     "start_time": "2020-11-16T12:51:07.126406",
     "status": "completed"
    },
    "tags": [],
    "pycharm": {
     "name": "#%%\n"
    }
   },
   "outputs": [
    {
     "data": {
      "text/plain": "               Permit Type            Permit Type Definition  \\\nPermit Number                                                  \n201310028257             3  additions alterations or repairs   \n\n              Permit Creation Date Block  Lot  Street Number Street Name  \\\nPermit Number                                                              \n201310028257            10/02/2013  0351  001           1100      Market   \n\n              Street Suffix  \\\nPermit Number                 \n201310028257             St   \n\n                                                     Description  \\\nPermit Number                                                      \n201310028257   provide automatic fire alarm system w/voice ev...   \n\n              Current Status Current Status Date Filed Date Issued Date  \\\nPermit Number                                                             \n201310028257        complete          12/13/2017 2013-10-02  2017-03-17   \n\n              Completed Date First Construction Document Date  \\\nPermit Number                                                   \n201310028257      12/13/2017                       03/17/2017   \n\n               Number of Existing Stories  Number of Proposed Stories  \\\nPermit Number                                                           \n201310028257                          7.0                         7.0   \n\n              Permit Expiration Date  Estimated Cost  Revised Cost  \\\nPermit Number                                                        \n201310028257              03/01/2020        131000.0      150000.0   \n\n                      Existing Use  Existing Units         Proposed Use  \\\nPermit Number                                                             \n201310028257   tourist hotel/motel           135.0  tourist hotel/motel   \n\n               Proposed Units  Plansets  Existing Construction Type  \\\nPermit Number                                                         \n201310028257            135.0       2.0                         1.0   \n\n              Existing Construction Type Description  \\\nPermit Number                                          \n201310028257                           constr type 1   \n\n               Proposed Construction Type  \\\nPermit Number                               \n201310028257                          1.0   \n\n              Proposed Construction Type Description  Supervisor District  \\\nPermit Number                                                               \n201310028257                           constr type 1                  6.0   \n\n              Neighborhoods - Analysis Boundaries  Zipcode  \\\nPermit Number                                                \n201310028257                           Tenderloin  94102.0   \n\n                                               Location     Record ID  \\\nPermit Number                                                           \n201310028257   (37.78087635535436, -122.41245598318183)  131948370098   \n\n               Time_in_Days  \nPermit Number                \n201310028257           1262  ",
      "text/html": "<div>\n<style scoped>\n    .dataframe tbody tr th:only-of-type {\n        vertical-align: middle;\n    }\n\n    .dataframe tbody tr th {\n        vertical-align: top;\n    }\n\n    .dataframe thead th {\n        text-align: right;\n    }\n</style>\n<table border=\"1\" class=\"dataframe\">\n  <thead>\n    <tr style=\"text-align: right;\">\n      <th></th>\n      <th>Permit Type</th>\n      <th>Permit Type Definition</th>\n      <th>Permit Creation Date</th>\n      <th>Block</th>\n      <th>Lot</th>\n      <th>Street Number</th>\n      <th>Street Name</th>\n      <th>Street Suffix</th>\n      <th>Description</th>\n      <th>Current Status</th>\n      <th>Current Status Date</th>\n      <th>Filed Date</th>\n      <th>Issued Date</th>\n      <th>Completed Date</th>\n      <th>First Construction Document Date</th>\n      <th>Number of Existing Stories</th>\n      <th>Number of Proposed Stories</th>\n      <th>Permit Expiration Date</th>\n      <th>Estimated Cost</th>\n      <th>Revised Cost</th>\n      <th>Existing Use</th>\n      <th>Existing Units</th>\n      <th>Proposed Use</th>\n      <th>Proposed Units</th>\n      <th>Plansets</th>\n      <th>Existing Construction Type</th>\n      <th>Existing Construction Type Description</th>\n      <th>Proposed Construction Type</th>\n      <th>Proposed Construction Type Description</th>\n      <th>Supervisor District</th>\n      <th>Neighborhoods - Analysis Boundaries</th>\n      <th>Zipcode</th>\n      <th>Location</th>\n      <th>Record ID</th>\n      <th>Time_in_Days</th>\n    </tr>\n    <tr>\n      <th>Permit Number</th>\n      <th></th>\n      <th></th>\n      <th></th>\n      <th></th>\n      <th></th>\n      <th></th>\n      <th></th>\n      <th></th>\n      <th></th>\n      <th></th>\n      <th></th>\n      <th></th>\n      <th></th>\n      <th></th>\n      <th></th>\n      <th></th>\n      <th></th>\n      <th></th>\n      <th></th>\n      <th></th>\n      <th></th>\n      <th></th>\n      <th></th>\n      <th></th>\n      <th></th>\n      <th></th>\n      <th></th>\n      <th></th>\n      <th></th>\n      <th></th>\n      <th></th>\n      <th></th>\n      <th></th>\n      <th></th>\n      <th></th>\n    </tr>\n  </thead>\n  <tbody>\n    <tr>\n      <th>201310028257</th>\n      <td>3</td>\n      <td>additions alterations or repairs</td>\n      <td>10/02/2013</td>\n      <td>0351</td>\n      <td>001</td>\n      <td>1100</td>\n      <td>Market</td>\n      <td>St</td>\n      <td>provide automatic fire alarm system w/voice ev...</td>\n      <td>complete</td>\n      <td>12/13/2017</td>\n      <td>2013-10-02</td>\n      <td>2017-03-17</td>\n      <td>12/13/2017</td>\n      <td>03/17/2017</td>\n      <td>7.0</td>\n      <td>7.0</td>\n      <td>03/01/2020</td>\n      <td>131000.0</td>\n      <td>150000.0</td>\n      <td>tourist hotel/motel</td>\n      <td>135.0</td>\n      <td>tourist hotel/motel</td>\n      <td>135.0</td>\n      <td>2.0</td>\n      <td>1.0</td>\n      <td>constr type 1</td>\n      <td>1.0</td>\n      <td>constr type 1</td>\n      <td>6.0</td>\n      <td>Tenderloin</td>\n      <td>94102.0</td>\n      <td>(37.78087635535436, -122.41245598318183)</td>\n      <td>131948370098</td>\n      <td>1262</td>\n    </tr>\n  </tbody>\n</table>\n</div>"
     },
     "execution_count": 30,
     "metadata": {},
     "output_type": "execute_result"
    }
   ],
   "source": [
    "Pmtsdata.loc[Pmtsdata['Time_in_Days']== 1262] #exploring a row of interest\n",
    "# Permit type with longest issue time is of category 3 which involves additions, alterations or repairs"
   ]
  },
  {
   "cell_type": "code",
   "execution_count": 31,
   "metadata": {
    "execution": {
     "iopub.execute_input": "2020-11-16T12:51:07.491285Z",
     "iopub.status.busy": "2020-11-16T12:51:07.490487Z",
     "iopub.status.idle": "2020-11-16T12:51:07.554048Z",
     "shell.execute_reply": "2020-11-16T12:51:07.553446Z"
    },
    "papermill": {
     "duration": 0.175359,
     "end_time": "2020-11-16T12:51:07.554185",
     "exception": false,
     "start_time": "2020-11-16T12:51:07.378826",
     "status": "completed"
    },
    "tags": [],
    "pycharm": {
     "name": "#%%\n"
    }
   },
   "outputs": [
    {
     "data": {
      "text/plain": "               Permit Type  Permit Type Definition Permit Creation Date Block  \\\nPermit Number                                                                   \n201706300814             8  otc alterations permit           06/30/2017  1739   \n201710110928             8  otc alterations permit           10/11/2017  5934   \n201408254591             8  otc alterations permit           08/25/2014  3509   \n201604064066             8  otc alterations permit           04/06/2016  1497   \n201609097214             8  otc alterations permit           09/09/2016  7241   \n\n                Lot  Street Number Street Name Street Suffix  \\\nPermit Number                                                  \n201706300814    020           1291        11th            Av   \n201710110928    020            938      Felton            St   \n201408254591    029             63       Grace            St   \n201604064066   016E            583        47th            Av   \n201609097214    032            291   Stratford            Dr   \n\n                                                     Description  \\\nPermit Number                                                      \n201706300814                                          re-roofing   \n201710110928                                           reroofing   \n201408254591    to comply with physical inspection report cc7777   \n201604064066   permeation grouting of 22 lineal ft of foundation   \n201609097214                                           reroofing   \n\n              Current Status Current Status Date Filed Date Issued Date  \\\nPermit Number                                                             \n201706300814        complete          07/12/2017 2017-06-30  2017-06-30   \n201710110928        complete          10/31/2017 2017-10-11  2017-10-11   \n201408254591        complete          10/04/2017 2014-08-25  2014-08-25   \n201604064066        complete          09/28/2017 2016-04-06  2016-04-06   \n201609097214        complete          09/22/2017 2016-09-09  2016-09-09   \n\n              Completed Date First Construction Document Date  \\\nPermit Number                                                   \n201706300814      07/12/2017                       06/30/2017   \n201710110928      10/31/2017                       10/11/2017   \n201408254591      10/04/2017                       08/25/2014   \n201604064066      09/28/2017                       04/06/2016   \n201609097214      09/22/2017                       09/09/2016   \n\n               Number of Existing Stories  Number of Proposed Stories  \\\nPermit Number                                                           \n201706300814                          3.0                         3.0   \n201710110928                          2.0                         2.0   \n201408254591                          3.0                         3.0   \n201604064066                          2.0                         2.0   \n201609097214                          1.0                         1.0   \n\n              Permit Expiration Date  Estimated Cost  Revised Cost  \\\nPermit Number                                                        \n201706300814              06/25/2018         12000.0       12000.0   \n201710110928              04/11/2018         14000.0       14000.0   \n201408254591              08/20/2015           500.0         500.0   \n201604064066              04/01/2017          8200.0        8200.0   \n201609097214              09/04/2017          9800.0        9800.0   \n\n                    Existing Use  Existing Units       Proposed Use  \\\nPermit Number                                                         \n201706300814          apartments             5.0         apartments   \n201710110928   1 family dwelling             1.0  1 family dwelling   \n201408254591          apartments             4.0         apartments   \n201604064066   1 family dwelling             1.0  1 family dwelling   \n201609097214   1 family dwelling             1.0  1 family dwelling   \n\n               Proposed Units  Plansets  Existing Construction Type  \\\nPermit Number                                                         \n201706300814              5.0       0.0                         5.0   \n201710110928              1.0       0.0                         5.0   \n201408254591              4.0       0.0                         5.0   \n201604064066              1.0       2.0                         5.0   \n201609097214              1.0       0.0                         5.0   \n\n              Existing Construction Type Description  \\\nPermit Number                                          \n201706300814                          wood frame (5)   \n201710110928                          wood frame (5)   \n201408254591                          wood frame (5)   \n201604064066                          wood frame (5)   \n201609097214                          wood frame (5)   \n\n               Proposed Construction Type  \\\nPermit Number                               \n201706300814                          5.0   \n201710110928                          5.0   \n201408254591                          5.0   \n201604064066                          5.0   \n201609097214                          5.0   \n\n              Proposed Construction Type Description  Supervisor District  \\\nPermit Number                                                               \n201706300814                          wood frame (5)                  5.0   \n201710110928                          wood frame (5)                  9.0   \n201408254591                          wood frame (5)                  6.0   \n201604064066                          wood frame (5)                  1.0   \n201609097214                          wood frame (5)                  7.0   \n\n              Neighborhoods - Analysis Boundaries  Zipcode  \\\nPermit Number                                                \n201706300814                         Inner Sunset  94122.0   \n201710110928                              Portola  94134.0   \n201408254591                      South of Market  94103.0   \n201604064066                       Outer Richmond  94121.0   \n201609097214                   West of Twin Peaks  94132.0   \n\n                                                Location      Record ID  \\\nPermit Number                                                             \n201706300814   (37.764145640138565, -122.46875112470363)  1468970403692   \n201710110928    (37.72775517946509, -122.41419227409298)  1482932191681   \n201408254591   (37.774944547030586, -122.41443674356925)  1353299454075   \n201604064066    (37.77743123832622, -122.50842623186071)  1418654101552   \n201609097214   (37.720049707114235, -122.47335185005464)  1436733224960   \n\n               Time_in_Days  \nPermit Number                \n201706300814              0  \n201710110928              0  \n201408254591              0  \n201604064066              0  \n201609097214              0  ",
      "text/html": "<div>\n<style scoped>\n    .dataframe tbody tr th:only-of-type {\n        vertical-align: middle;\n    }\n\n    .dataframe tbody tr th {\n        vertical-align: top;\n    }\n\n    .dataframe thead th {\n        text-align: right;\n    }\n</style>\n<table border=\"1\" class=\"dataframe\">\n  <thead>\n    <tr style=\"text-align: right;\">\n      <th></th>\n      <th>Permit Type</th>\n      <th>Permit Type Definition</th>\n      <th>Permit Creation Date</th>\n      <th>Block</th>\n      <th>Lot</th>\n      <th>Street Number</th>\n      <th>Street Name</th>\n      <th>Street Suffix</th>\n      <th>Description</th>\n      <th>Current Status</th>\n      <th>Current Status Date</th>\n      <th>Filed Date</th>\n      <th>Issued Date</th>\n      <th>Completed Date</th>\n      <th>First Construction Document Date</th>\n      <th>Number of Existing Stories</th>\n      <th>Number of Proposed Stories</th>\n      <th>Permit Expiration Date</th>\n      <th>Estimated Cost</th>\n      <th>Revised Cost</th>\n      <th>Existing Use</th>\n      <th>Existing Units</th>\n      <th>Proposed Use</th>\n      <th>Proposed Units</th>\n      <th>Plansets</th>\n      <th>Existing Construction Type</th>\n      <th>Existing Construction Type Description</th>\n      <th>Proposed Construction Type</th>\n      <th>Proposed Construction Type Description</th>\n      <th>Supervisor District</th>\n      <th>Neighborhoods - Analysis Boundaries</th>\n      <th>Zipcode</th>\n      <th>Location</th>\n      <th>Record ID</th>\n      <th>Time_in_Days</th>\n    </tr>\n    <tr>\n      <th>Permit Number</th>\n      <th></th>\n      <th></th>\n      <th></th>\n      <th></th>\n      <th></th>\n      <th></th>\n      <th></th>\n      <th></th>\n      <th></th>\n      <th></th>\n      <th></th>\n      <th></th>\n      <th></th>\n      <th></th>\n      <th></th>\n      <th></th>\n      <th></th>\n      <th></th>\n      <th></th>\n      <th></th>\n      <th></th>\n      <th></th>\n      <th></th>\n      <th></th>\n      <th></th>\n      <th></th>\n      <th></th>\n      <th></th>\n      <th></th>\n      <th></th>\n      <th></th>\n      <th></th>\n      <th></th>\n      <th></th>\n      <th></th>\n    </tr>\n  </thead>\n  <tbody>\n    <tr>\n      <th>201706300814</th>\n      <td>8</td>\n      <td>otc alterations permit</td>\n      <td>06/30/2017</td>\n      <td>1739</td>\n      <td>020</td>\n      <td>1291</td>\n      <td>11th</td>\n      <td>Av</td>\n      <td>re-roofing</td>\n      <td>complete</td>\n      <td>07/12/2017</td>\n      <td>2017-06-30</td>\n      <td>2017-06-30</td>\n      <td>07/12/2017</td>\n      <td>06/30/2017</td>\n      <td>3.0</td>\n      <td>3.0</td>\n      <td>06/25/2018</td>\n      <td>12000.0</td>\n      <td>12000.0</td>\n      <td>apartments</td>\n      <td>5.0</td>\n      <td>apartments</td>\n      <td>5.0</td>\n      <td>0.0</td>\n      <td>5.0</td>\n      <td>wood frame (5)</td>\n      <td>5.0</td>\n      <td>wood frame (5)</td>\n      <td>5.0</td>\n      <td>Inner Sunset</td>\n      <td>94122.0</td>\n      <td>(37.764145640138565, -122.46875112470363)</td>\n      <td>1468970403692</td>\n      <td>0</td>\n    </tr>\n    <tr>\n      <th>201710110928</th>\n      <td>8</td>\n      <td>otc alterations permit</td>\n      <td>10/11/2017</td>\n      <td>5934</td>\n      <td>020</td>\n      <td>938</td>\n      <td>Felton</td>\n      <td>St</td>\n      <td>reroofing</td>\n      <td>complete</td>\n      <td>10/31/2017</td>\n      <td>2017-10-11</td>\n      <td>2017-10-11</td>\n      <td>10/31/2017</td>\n      <td>10/11/2017</td>\n      <td>2.0</td>\n      <td>2.0</td>\n      <td>04/11/2018</td>\n      <td>14000.0</td>\n      <td>14000.0</td>\n      <td>1 family dwelling</td>\n      <td>1.0</td>\n      <td>1 family dwelling</td>\n      <td>1.0</td>\n      <td>0.0</td>\n      <td>5.0</td>\n      <td>wood frame (5)</td>\n      <td>5.0</td>\n      <td>wood frame (5)</td>\n      <td>9.0</td>\n      <td>Portola</td>\n      <td>94134.0</td>\n      <td>(37.72775517946509, -122.41419227409298)</td>\n      <td>1482932191681</td>\n      <td>0</td>\n    </tr>\n    <tr>\n      <th>201408254591</th>\n      <td>8</td>\n      <td>otc alterations permit</td>\n      <td>08/25/2014</td>\n      <td>3509</td>\n      <td>029</td>\n      <td>63</td>\n      <td>Grace</td>\n      <td>St</td>\n      <td>to comply with physical inspection report cc7777</td>\n      <td>complete</td>\n      <td>10/04/2017</td>\n      <td>2014-08-25</td>\n      <td>2014-08-25</td>\n      <td>10/04/2017</td>\n      <td>08/25/2014</td>\n      <td>3.0</td>\n      <td>3.0</td>\n      <td>08/20/2015</td>\n      <td>500.0</td>\n      <td>500.0</td>\n      <td>apartments</td>\n      <td>4.0</td>\n      <td>apartments</td>\n      <td>4.0</td>\n      <td>0.0</td>\n      <td>5.0</td>\n      <td>wood frame (5)</td>\n      <td>5.0</td>\n      <td>wood frame (5)</td>\n      <td>6.0</td>\n      <td>South of Market</td>\n      <td>94103.0</td>\n      <td>(37.774944547030586, -122.41443674356925)</td>\n      <td>1353299454075</td>\n      <td>0</td>\n    </tr>\n    <tr>\n      <th>201604064066</th>\n      <td>8</td>\n      <td>otc alterations permit</td>\n      <td>04/06/2016</td>\n      <td>1497</td>\n      <td>016E</td>\n      <td>583</td>\n      <td>47th</td>\n      <td>Av</td>\n      <td>permeation grouting of 22 lineal ft of foundation</td>\n      <td>complete</td>\n      <td>09/28/2017</td>\n      <td>2016-04-06</td>\n      <td>2016-04-06</td>\n      <td>09/28/2017</td>\n      <td>04/06/2016</td>\n      <td>2.0</td>\n      <td>2.0</td>\n      <td>04/01/2017</td>\n      <td>8200.0</td>\n      <td>8200.0</td>\n      <td>1 family dwelling</td>\n      <td>1.0</td>\n      <td>1 family dwelling</td>\n      <td>1.0</td>\n      <td>2.0</td>\n      <td>5.0</td>\n      <td>wood frame (5)</td>\n      <td>5.0</td>\n      <td>wood frame (5)</td>\n      <td>1.0</td>\n      <td>Outer Richmond</td>\n      <td>94121.0</td>\n      <td>(37.77743123832622, -122.50842623186071)</td>\n      <td>1418654101552</td>\n      <td>0</td>\n    </tr>\n    <tr>\n      <th>201609097214</th>\n      <td>8</td>\n      <td>otc alterations permit</td>\n      <td>09/09/2016</td>\n      <td>7241</td>\n      <td>032</td>\n      <td>291</td>\n      <td>Stratford</td>\n      <td>Dr</td>\n      <td>reroofing</td>\n      <td>complete</td>\n      <td>09/22/2017</td>\n      <td>2016-09-09</td>\n      <td>2016-09-09</td>\n      <td>09/22/2017</td>\n      <td>09/09/2016</td>\n      <td>1.0</td>\n      <td>1.0</td>\n      <td>09/04/2017</td>\n      <td>9800.0</td>\n      <td>9800.0</td>\n      <td>1 family dwelling</td>\n      <td>1.0</td>\n      <td>1 family dwelling</td>\n      <td>1.0</td>\n      <td>0.0</td>\n      <td>5.0</td>\n      <td>wood frame (5)</td>\n      <td>5.0</td>\n      <td>wood frame (5)</td>\n      <td>7.0</td>\n      <td>West of Twin Peaks</td>\n      <td>94132.0</td>\n      <td>(37.720049707114235, -122.47335185005464)</td>\n      <td>1436733224960</td>\n      <td>0</td>\n    </tr>\n  </tbody>\n</table>\n</div>"
     },
     "execution_count": 31,
     "metadata": {},
     "output_type": "execute_result"
    }
   ],
   "source": [
    "Pmtsdata.loc[Pmtsdata['Time_in_Days']== 0][:5] \n",
    "# Permit type with shortest issue time are majorly of category 8"
   ]
  },
  {
   "cell_type": "code",
   "execution_count": 32,
   "metadata": {
    "execution": {
     "iopub.execute_input": "2020-11-16T12:51:07.776447Z",
     "iopub.status.busy": "2020-11-16T12:51:07.775550Z",
     "iopub.status.idle": "2020-11-16T12:51:07.780642Z",
     "shell.execute_reply": "2020-11-16T12:51:07.781275Z"
    },
    "papermill": {
     "duration": 0.121263,
     "end_time": "2020-11-16T12:51:07.781438",
     "exception": false,
     "start_time": "2020-11-16T12:51:07.660175",
     "status": "completed"
    },
    "tags": [],
    "pycharm": {
     "name": "#%%\n"
    }
   },
   "outputs": [],
   "source": [
    "count_in_days=Pmtsdata['Time_in_Days'].value_counts(sort=True)"
   ]
  },
  {
   "cell_type": "code",
   "execution_count": 33,
   "metadata": {
    "execution": {
     "iopub.execute_input": "2020-11-16T12:51:08.005286Z",
     "iopub.status.busy": "2020-11-16T12:51:08.004264Z",
     "iopub.status.idle": "2020-11-16T12:51:08.008167Z",
     "shell.execute_reply": "2020-11-16T12:51:08.008818Z"
    },
    "papermill": {
     "duration": 0.120517,
     "end_time": "2020-11-16T12:51:08.009002",
     "exception": false,
     "start_time": "2020-11-16T12:51:07.888485",
     "status": "completed"
    },
    "tags": [],
    "pycharm": {
     "name": "#%%\n"
    }
   },
   "outputs": [
    {
     "name": "stdout",
     "output_type": "stream",
     "text": [
      "0    50579\n",
      "1     4874\n",
      "2     2005\n",
      "3     1989\n",
      "4     1624\n",
      "Name: Time_in_Days, dtype: int64\n"
     ]
    }
   ],
   "source": [
    "print(count_in_days.head()) # The highest number of permits are processed in a few hours."
   ]
  },
  {
   "cell_type": "code",
   "execution_count": 34,
   "metadata": {
    "execution": {
     "iopub.execute_input": "2020-11-16T12:51:08.273669Z",
     "iopub.status.busy": "2020-11-16T12:51:08.272570Z",
     "iopub.status.idle": "2020-11-16T12:51:08.277880Z",
     "shell.execute_reply": "2020-11-16T12:51:08.278855Z"
    },
    "papermill": {
     "duration": 0.160692,
     "end_time": "2020-11-16T12:51:08.279088",
     "exception": false,
     "start_time": "2020-11-16T12:51:08.118396",
     "status": "completed"
    },
    "tags": [],
    "pycharm": {
     "name": "#%%\n"
    }
   },
   "outputs": [
    {
     "name": "stdout",
     "output_type": "stream",
     "text": [
      "700    1\n",
      "797    1\n",
      "527    1\n",
      "446    1\n",
      "474    1\n",
      "Name: Time_in_Days, dtype: int64\n"
     ]
    }
   ],
   "source": [
    "#we also have a number single permit recordes with high processing times.\n",
    "print(count_in_days.tail())\n"
   ]
  },
  {
   "cell_type": "code",
   "execution_count": 35,
   "metadata": {
    "execution": {
     "iopub.execute_input": "2020-11-16T12:51:08.509742Z",
     "iopub.status.busy": "2020-11-16T12:51:08.508863Z",
     "iopub.status.idle": "2020-11-16T12:51:08.950835Z",
     "shell.execute_reply": "2020-11-16T12:51:08.949994Z"
    },
    "papermill": {
     "duration": 0.556946,
     "end_time": "2020-11-16T12:51:08.950971",
     "exception": false,
     "start_time": "2020-11-16T12:51:08.394025",
     "status": "completed"
    },
    "tags": [],
    "pycharm": {
     "name": "#%%\n"
    }
   },
   "outputs": [
    {
     "data": {
      "text/plain": "<Figure size 432x288 with 1 Axes>",
      "image/png": "[encoded data removed]"
     },
     "metadata": {
      "needs_background": "light"
     },
     "output_type": "display_data"
    }
   ],
   "source": [
    "plt.hist(count_in_days, bins = 50, edgecolor = 'k');\n",
    "plt.xlabel('Time Taken in Days'); plt.ylabel('Count of records'); \n",
    "plt.title('Count of days distribution')\n",
    "plt.show()\n",
    "#It's a highly skewed distribution of the time taken for various permits to be processed"
   ]
  },
  {
   "cell_type": "code",
   "execution_count": 36,
   "metadata": {
    "execution": {
     "iopub.execute_input": "2020-11-16T12:51:09.187453Z",
     "iopub.status.busy": "2020-11-16T12:51:09.178945Z",
     "iopub.status.idle": "2020-11-16T12:51:09.372275Z",
     "shell.execute_reply": "2020-11-16T12:51:09.371650Z"
    },
    "papermill": {
     "duration": 0.30918,
     "end_time": "2020-11-16T12:51:09.372409",
     "exception": false,
     "start_time": "2020-11-16T12:51:09.063229",
     "status": "completed"
    },
    "tags": [],
    "pycharm": {
     "name": "#%%\n"
    }
   },
   "outputs": [
    {
     "data": {
      "text/plain": "<Figure size 432x288 with 1 Axes>",
      "image/png": "[encoded data removed]"
     },
     "metadata": {
      "needs_background": "light"
     },
     "output_type": "display_data"
    }
   ],
   "source": [
    "sns.kdeplot(data=count_in_days,shade=False,alpha=0.8)\n",
    "plt.show() #gives a clear representation of skewness in the time in days taken by various permits"
   ]
  },
  {
   "cell_type": "markdown",
   "metadata": {
    "papermill": {
     "duration": 0.111898,
     "end_time": "2020-11-16T12:51:09.594676",
     "exception": false,
     "start_time": "2020-11-16T12:51:09.482778",
     "status": "completed"
    },
    "tags": [],
    "pycharm": {
     "name": "#%% md\n"
    }
   },
   "source": [
    "**Visualizing some categorical columns:Permit Type,Permit Type Definition,Current Status, Existing Construction Type **"
   ]
  },
  {
   "cell_type": "code",
   "execution_count": 37,
   "metadata": {
    "execution": {
     "iopub.execute_input": "2020-11-16T12:51:09.880496Z",
     "iopub.status.busy": "2020-11-16T12:51:09.829642Z",
     "iopub.status.idle": "2020-11-16T12:51:10.971057Z",
     "shell.execute_reply": "2020-11-16T12:51:10.971708Z"
    },
    "papermill": {
     "duration": 1.266871,
     "end_time": "2020-11-16T12:51:10.971908",
     "exception": false,
     "start_time": "2020-11-16T12:51:09.705037",
     "status": "completed"
    },
    "tags": [],
    "pycharm": {
     "name": "#%%\n"
    }
   },
   "outputs": [
    {
     "data": {
      "text/plain": "<Figure size 576x432 with 1 Axes>",
      "image/png": "[encoded data removed]"
     },
     "metadata": {
      "needs_background": "light"
     },
     "output_type": "display_data"
    }
   ],
   "source": [
    "# Lets do some bivariate plotting\n",
    "fig=plt.figure(figsize=(8,6))\n",
    "sns.barplot(x=Pmtsdata['Permit Type'],y=Pmtsdata['Time_in_Days'],hue='Permit Type',data=Pmtsdata)\n",
    "plt.xlabel('Permit Type')\n",
    "plt.xticks(size=14)\n",
    "plt.ylabel('Time in Days')\n",
    "plt.title('Time in days for various  permit types')\n",
    "\n",
    "plt.show();"
   ]
  },
  {
   "cell_type": "markdown",
   "metadata": {
    "papermill": {
     "duration": 0.111846,
     "end_time": "2020-11-16T12:51:11.197152",
     "exception": false,
     "start_time": "2020-11-16T12:51:11.085306",
     "status": "completed"
    },
    "tags": [],
    "pycharm": {
     "name": "#%% md\n"
    }
   },
   "source": [
    "It can be observed that Permit type of category 8 take the least time to process,followed by permit type 3 while permit type 2  take the most time on average to process."
   ]
  },
  {
   "cell_type": "code",
   "execution_count": 38,
   "metadata": {
    "execution": {
     "iopub.execute_input": "2020-11-16T12:51:11.454451Z",
     "iopub.status.busy": "2020-11-16T12:51:11.453267Z",
     "iopub.status.idle": "2020-11-16T12:51:11.684542Z",
     "shell.execute_reply": "2020-11-16T12:51:11.683854Z"
    },
    "papermill": {
     "duration": 0.367397,
     "end_time": "2020-11-16T12:51:11.684687",
     "exception": false,
     "start_time": "2020-11-16T12:51:11.317290",
     "status": "completed"
    },
    "tags": [],
    "pycharm": {
     "name": "#%%\n"
    }
   },
   "outputs": [
    {
     "data": {
      "text/plain": "<Figure size 576x576 with 1 Axes>",
      "image/png": "[encoded data removed]"
     },
     "metadata": {
      "needs_background": "light"
     },
     "output_type": "display_data"
    }
   ],
   "source": [
    "fig=plt.figure(figsize=(8, 8))\n",
    "plt.hist(Pmtsdata['Permit Type'], bins = 20, edgecolor = 'black');\n",
    "plt.xlabel('Permit type'); \n",
    "plt.ylabel('Count'); plt.title('Permit Type Distribution');"
   ]
  },
  {
   "cell_type": "markdown",
   "metadata": {
    "papermill": {
     "duration": 0.114141,
     "end_time": "2020-11-16T12:51:11.911415",
     "exception": false,
     "start_time": "2020-11-16T12:51:11.797274",
     "status": "completed"
    },
    "tags": [],
    "pycharm": {
     "name": "#%% md\n"
    }
   },
   "source": [
    "The histogram above shows that other permit types categories 2,4,5,6,7 do not have a significant count of records.\n",
    "Permit types categories 8 and 3 are the common permit types to be issued.\n",
    "\n",
    "Lets Explore the current status variable with emphasis to key values such as issued, revoked and incomplete permit applicatons."
   ]
  },
  {
   "cell_type": "code",
   "execution_count": 44,
   "metadata": {
    "execution": {
     "iopub.execute_input": "2020-11-16T12:51:12.147231Z",
     "iopub.status.busy": "2020-11-16T12:51:12.146189Z",
     "iopub.status.idle": "2020-11-16T12:51:12.149527Z",
     "shell.execute_reply": "2020-11-16T12:51:12.148859Z"
    },
    "papermill": {
     "duration": 0.124937,
     "end_time": "2020-11-16T12:51:12.149673",
     "exception": false,
     "start_time": "2020-11-16T12:51:12.024736",
     "status": "completed"
    },
    "tags": [],
    "pycharm": {
     "name": "#%%\n"
    }
   },
   "outputs": [],
   "source": [
    "Pmtdata1 =Pmtsdata[Pmtsdata['Current Status'].isin(['issued','revoked','incomplete']) ] "
   ]
  },
  {
   "cell_type": "code",
   "execution_count": 45,
   "metadata": {
    "execution": {
     "iopub.execute_input": "2020-11-16T12:51:12.384685Z",
     "iopub.status.busy": "2020-11-16T12:51:12.383757Z",
     "iopub.status.idle": "2020-11-16T12:51:12.388148Z",
     "shell.execute_reply": "2020-11-16T12:51:12.387413Z"
    },
    "papermill": {
     "duration": 0.126667,
     "end_time": "2020-11-16T12:51:12.388313",
     "exception": false,
     "start_time": "2020-11-16T12:51:12.261646",
     "status": "completed"
    },
    "tags": [],
    "pycharm": {
     "name": "#%%\n"
    }
   },
   "outputs": [
    {
     "data": {
      "text/plain": "Permit Number\n201301087513    issued\n201301087513    issued\n201302059458    issued\n201302150374    issued\n201302150374    issued\nName: Current Status, dtype: object"
     },
     "execution_count": 45,
     "metadata": {},
     "output_type": "execute_result"
    }
   ],
   "source": [
    "Pmtdata1['Current Status'].head()"
   ]
  },
  {
   "cell_type": "code",
   "execution_count": 46,
   "metadata": {
    "execution": {
     "iopub.execute_input": "2020-11-16T12:51:12.642305Z",
     "iopub.status.busy": "2020-11-16T12:51:12.633768Z",
     "iopub.status.idle": "2020-11-16T12:51:12.910542Z",
     "shell.execute_reply": "2020-11-16T12:51:12.909666Z"
    },
    "papermill": {
     "duration": 0.405586,
     "end_time": "2020-11-16T12:51:12.910684",
     "exception": false,
     "start_time": "2020-11-16T12:51:12.505098",
     "status": "completed"
    },
    "tags": [],
    "pycharm": {
     "name": "#%%\n"
    }
   },
   "outputs": [
    {
     "data": {
      "text/plain": "<Figure size 576x432 with 0 Axes>"
     },
     "metadata": {},
     "output_type": "display_data"
    },
    {
     "data": {
      "text/plain": "<Figure size 444.5x360 with 1 Axes>",
      "image/png": "[encoded data removed]"
     },
     "metadata": {
      "needs_background": "light"
     },
     "output_type": "display_data"
    }
   ],
   "source": [
    "# plot both together to compare\n",
    "fig=plt.figure(figsize=(8,6))\n",
    "sns.catplot(x='Permit Type',hue='Current Status',kind='count',data=Pmtdata1)\n",
    "plt.xlabel('Current Status')\n",
    "plt.xticks()\n",
    "plt.ylabel('Number of permits')\n",
    "plt.title('Current status  permit types')\n",
    "plt.xticks()\n",
    "plt.show()"
   ]
  },
  {
   "cell_type": "markdown",
   "metadata": {
    "papermill": {
     "duration": 0.115454,
     "end_time": "2020-11-16T12:51:13.140139",
     "exception": false,
     "start_time": "2020-11-16T12:51:13.024685",
     "status": "completed"
    },
    "tags": [],
    "pycharm": {
     "name": "#%% md\n"
    }
   },
   "source": [
    " **The Bar Graph above shows that there are more permits that are issued, a few permits that are revoked and a slight number of them that are incomplete meaning that there are more chances for a permit to be issued once all required documents have been submitted.**"
   ]
  },
  {
   "cell_type": "code",
   "execution_count": 47,
   "metadata": {
    "execution": {
     "iopub.execute_input": "2020-11-16T12:51:13.387337Z",
     "iopub.status.busy": "2020-11-16T12:51:13.386458Z",
     "iopub.status.idle": "2020-11-16T12:51:15.327703Z",
     "shell.execute_reply": "2020-11-16T12:51:15.328354Z"
    },
    "papermill": {
     "duration": 2.073712,
     "end_time": "2020-11-16T12:51:15.328551",
     "exception": false,
     "start_time": "2020-11-16T12:51:13.254839",
     "status": "completed"
    },
    "tags": [],
    "pycharm": {
     "name": "#%%\n"
    }
   },
   "outputs": [
    {
     "data": {
      "text/plain": "<Figure size 576x432 with 0 Axes>"
     },
     "metadata": {},
     "output_type": "display_data"
    },
    {
     "data": {
      "text/plain": "<Figure size 421.25x360 with 1 Axes>",
      "image/png": "[encoded data removed]"
     },
     "metadata": {
      "needs_background": "light"
     },
     "output_type": "display_data"
    }
   ],
   "source": [
    "# A Count plot showing distribution of Permit Type Definition with permit types\n",
    "fig=plt.figure(figsize=(8,6))\n",
    "sns.catplot(y='Permit Type Definition',hue='Permit Type',kind='count',data=Pmtsdata)\n",
    "plt.xlabel('Permit counts')\n",
    "plt.xticks()\n",
    "plt.ylabel('Permit Type Definition')\n",
    "plt.title('Number of permits per permit type definition')\n",
    "plt.show()"
   ]
  },
  {
   "cell_type": "markdown",
   "metadata": {
    "papermill": {
     "duration": 0.117551,
     "end_time": "2020-11-16T12:51:15.561522",
     "exception": false,
     "start_time": "2020-11-16T12:51:15.443971",
     "status": "completed"
    },
    "tags": [],
    "pycharm": {
     "name": "#%% md\n"
    }
   },
   "source": [
    "**Graph above shows that Alterations permits are the common permits type definition in the data with other permits definitions greatly skewed.**"
   ]
  },
  {
   "cell_type": "code",
   "execution_count": 48,
   "metadata": {
    "execution": {
     "iopub.execute_input": "2020-11-16T12:51:15.803054Z",
     "iopub.status.busy": "2020-11-16T12:51:15.802276Z",
     "iopub.status.idle": "2020-11-16T12:51:17.661746Z",
     "shell.execute_reply": "2020-11-16T12:51:17.661066Z"
    },
    "papermill": {
     "duration": 1.984087,
     "end_time": "2020-11-16T12:51:17.661895",
     "exception": false,
     "start_time": "2020-11-16T12:51:15.677808",
     "status": "completed"
    },
    "tags": [],
    "pycharm": {
     "name": "#%%\n"
    }
   },
   "outputs": [
    {
     "data": {
      "text/plain": "<Figure size 576x432 with 0 Axes>"
     },
     "metadata": {},
     "output_type": "display_data"
    },
    {
     "data": {
      "text/plain": "<Figure size 487.125x360 with 1 Axes>",
      "image/png": "[encoded data removed]"
     },
     "metadata": {
      "needs_background": "light"
     },
     "output_type": "display_data"
    }
   ],
   "source": [
    "# plot both together to compare\n",
    "fig=plt.figure(figsize=(8,6))\n",
    "sns.catplot(x='Permit Type',hue='Existing Construction Type',kind='count',data=Pmtsdata)\n",
    "plt.xlabel('Permit Types')\n",
    "plt.ylabel('Count of Existing Construction types')\n",
    "plt.title('Count of Permit types for existing construction types')\n",
    "plt.xticks()\n",
    "plt.show()"
   ]
  },
  {
   "cell_type": "markdown",
   "metadata": {
    "papermill": {
     "duration": 0.117815,
     "end_time": "2020-11-16T12:51:17.899962",
     "exception": false,
     "start_time": "2020-11-16T12:51:17.782147",
     "status": "completed"
    },
    "tags": [],
    "pycharm": {
     "name": "#%% md\n"
    }
   },
   "source": [
    "**The most construction types permits issued belong to Existing Construction type 5.0 which is reflected across the major permit types 8 and 3, then followed by construction type 1.0 ,3.0,2.0 and least number of permits belong to construction type 4.0.**\n",
    "\n",
    "**Visualise highly skewed columns which include: estimated cost, revised cost, plansets. and decrease on thier skewness so as to produce better models.**"
   ]
  },
  {
   "cell_type": "code",
   "execution_count": 49,
   "metadata": {
    "execution": {
     "iopub.execute_input": "2020-11-16T12:51:18.151054Z",
     "iopub.status.busy": "2020-11-16T12:51:18.149816Z",
     "iopub.status.idle": "2020-11-16T12:51:18.344075Z",
     "shell.execute_reply": "2020-11-16T12:51:18.343452Z"
    },
    "papermill": {
     "duration": 0.326299,
     "end_time": "2020-11-16T12:51:18.344208",
     "exception": false,
     "start_time": "2020-11-16T12:51:18.017909",
     "status": "completed"
    },
    "tags": [],
    "pycharm": {
     "name": "#%%\n"
    }
   },
   "outputs": [
    {
     "data": {
      "text/plain": "<Figure size 432x288 with 1 Axes>",
      "image/png": "[encoded data removed]"
     },
     "metadata": {
      "needs_background": "light"
     },
     "output_type": "display_data"
    }
   ],
   "source": [
    "sns.kdeplot(data=Pmtsdata['Estimated Cost'] ,shade=False,alpha=0.8)\n",
    "plt.show()\n",
    "#graph below shows a skewed distribution to right"
   ]
  },
  {
   "cell_type": "code",
   "execution_count": 50,
   "metadata": {
    "execution": {
     "iopub.execute_input": "2020-11-16T12:51:18.597726Z",
     "iopub.status.busy": "2020-11-16T12:51:18.596949Z",
     "iopub.status.idle": "2020-11-16T12:51:18.645766Z",
     "shell.execute_reply": "2020-11-16T12:51:18.644951Z"
    },
    "papermill": {
     "duration": 0.178359,
     "end_time": "2020-11-16T12:51:18.645902",
     "exception": false,
     "start_time": "2020-11-16T12:51:18.467543",
     "status": "completed"
    },
    "tags": [],
    "pycharm": {
     "name": "#%%\n"
    }
   },
   "outputs": [],
   "source": [
    "# Calculate first and third quartile\n",
    "first_quartile = Pmtsdata['Estimated Cost'].describe()['25%']\n",
    "third_quartile = Pmtsdata['Estimated Cost'].describe()['75%']\n",
    "\n",
    "# Interquartile range\n",
    "iqr = third_quartile - first_quartile\n",
    "\n",
    "# Remove outliers\n",
    "Pmtsdata = Pmtsdata[(Pmtsdata['Estimated Cost'] > (first_quartile - 3 * iqr)) &\n",
    "            (Pmtsdata['Estimated Cost'] < (third_quartile + 3 * iqr))]"
   ]
  },
  {
   "cell_type": "code",
   "execution_count": 51,
   "metadata": {
    "execution": {
     "iopub.execute_input": "2020-11-16T12:51:18.896003Z",
     "iopub.status.busy": "2020-11-16T12:51:18.890580Z",
     "iopub.status.idle": "2020-11-16T12:51:19.085790Z",
     "shell.execute_reply": "2020-11-16T12:51:19.085071Z"
    },
    "papermill": {
     "duration": 0.320431,
     "end_time": "2020-11-16T12:51:19.085927",
     "exception": false,
     "start_time": "2020-11-16T12:51:18.765496",
     "status": "completed"
    },
    "tags": [],
    "pycharm": {
     "name": "#%%\n"
    }
   },
   "outputs": [
    {
     "data": {
      "text/plain": "<Figure size 432x288 with 1 Axes>",
      "image/png": "[encoded data removed]"
     },
     "metadata": {
      "needs_background": "light"
     },
     "output_type": "display_data"
    }
   ],
   "source": [
    "sns.kdeplot(data=Pmtsdata['Estimated Cost'] ,shade=False,alpha=0.8)\n",
    "plt.show() #this shows a better shape with decreased skewness"
   ]
  },
  {
   "cell_type": "code",
   "execution_count": 52,
   "metadata": {
    "execution": {
     "iopub.execute_input": "2020-11-16T12:51:19.375000Z",
     "iopub.status.busy": "2020-11-16T12:51:19.369406Z",
     "iopub.status.idle": "2020-11-16T12:51:19.542895Z",
     "shell.execute_reply": "2020-11-16T12:51:19.542209Z"
    },
    "papermill": {
     "duration": 0.317015,
     "end_time": "2020-11-16T12:51:19.543044",
     "exception": false,
     "start_time": "2020-11-16T12:51:19.226029",
     "status": "completed"
    },
    "tags": [],
    "pycharm": {
     "name": "#%%\n"
    }
   },
   "outputs": [
    {
     "data": {
      "text/plain": "<Figure size 432x288 with 1 Axes>",
      "image/png": "[encoded data removed]"
     },
     "metadata": {
      "needs_background": "light"
     },
     "output_type": "display_data"
    }
   ],
   "source": [
    "sns.kdeplot(data=Pmtsdata['Plansets'],shade=False,alpha=0.8)\n",
    "plt.show()"
   ]
  },
  {
   "cell_type": "code",
   "execution_count": 53,
   "metadata": {
    "execution": {
     "iopub.execute_input": "2020-11-16T12:51:19.797464Z",
     "iopub.status.busy": "2020-11-16T12:51:19.796132Z",
     "iopub.status.idle": "2020-11-16T12:51:19.845646Z",
     "shell.execute_reply": "2020-11-16T12:51:19.844197Z"
    },
    "papermill": {
     "duration": 0.177466,
     "end_time": "2020-11-16T12:51:19.845910",
     "exception": false,
     "start_time": "2020-11-16T12:51:19.668444",
     "status": "completed"
    },
    "tags": [],
    "pycharm": {
     "name": "#%%\n"
    }
   },
   "outputs": [],
   "source": [
    "# Calculate first and third quartile\n",
    "first_quartile = Pmtsdata['Plansets'].describe()['25%']\n",
    "third_quartile = Pmtsdata['Plansets'].describe()['75%']\n",
    "\n",
    "# Interquartile range\n",
    "iqr = third_quartile - first_quartile\n",
    "\n",
    "# Remove outliers\n",
    "Pmtsdata = Pmtsdata[(Pmtsdata['Plansets'] > (first_quartile - 3 * iqr)) &\n",
    "            (Pmtsdata['Plansets'] < (third_quartile + 3 * iqr))]"
   ]
  },
  {
   "cell_type": "code",
   "execution_count": 54,
   "metadata": {
    "execution": {
     "iopub.execute_input": "2020-11-16T12:51:20.112762Z",
     "iopub.status.busy": "2020-11-16T12:51:20.111608Z",
     "iopub.status.idle": "2020-11-16T12:51:20.287545Z",
     "shell.execute_reply": "2020-11-16T12:51:20.286828Z"
    },
    "papermill": {
     "duration": 0.311523,
     "end_time": "2020-11-16T12:51:20.287677",
     "exception": false,
     "start_time": "2020-11-16T12:51:19.976154",
     "status": "completed"
    },
    "tags": [],
    "pycharm": {
     "name": "#%%\n"
    }
   },
   "outputs": [
    {
     "data": {
      "text/plain": "<Figure size 432x288 with 1 Axes>",
      "image/png": "[encoded data removed]"
     },
     "metadata": {
      "needs_background": "light"
     },
     "output_type": "display_data"
    }
   ],
   "source": [
    "sns.kdeplot(data=Pmtsdata['Plansets'],shade=False,alpha=0.8)\n",
    "plt.show()\n",
    "#shows decrease in skewness"
   ]
  },
  {
   "cell_type": "code",
   "execution_count": 55,
   "metadata": {
    "execution": {
     "iopub.execute_input": "2020-11-16T12:51:20.549605Z",
     "iopub.status.busy": "2020-11-16T12:51:20.546504Z",
     "iopub.status.idle": "2020-11-16T12:51:20.728609Z",
     "shell.execute_reply": "2020-11-16T12:51:20.727809Z"
    },
    "papermill": {
     "duration": 0.317144,
     "end_time": "2020-11-16T12:51:20.728740",
     "exception": false,
     "start_time": "2020-11-16T12:51:20.411596",
     "status": "completed"
    },
    "tags": [],
    "pycharm": {
     "name": "#%%\n"
    }
   },
   "outputs": [
    {
     "data": {
      "text/plain": "<Figure size 432x288 with 1 Axes>",
      "image/png": "[encoded data removed]"
     },
     "metadata": {
      "needs_background": "light"
     },
     "output_type": "display_data"
    }
   ],
   "source": [
    "sns.kdeplot(data=Pmtsdata['Revised Cost'],shade=False,alpha=0.8)\n",
    "plt.show()"
   ]
  },
  {
   "cell_type": "code",
   "execution_count": 56,
   "metadata": {
    "execution": {
     "iopub.execute_input": "2020-11-16T12:51:20.984450Z",
     "iopub.status.busy": "2020-11-16T12:51:20.983602Z",
     "iopub.status.idle": "2020-11-16T12:51:21.031365Z",
     "shell.execute_reply": "2020-11-16T12:51:21.030651Z"
    },
    "papermill": {
     "duration": 0.179153,
     "end_time": "2020-11-16T12:51:21.031516",
     "exception": false,
     "start_time": "2020-11-16T12:51:20.852363",
     "status": "completed"
    },
    "tags": [],
    "pycharm": {
     "name": "#%%\n"
    }
   },
   "outputs": [],
   "source": [
    "# Calculate first and third quartile\n",
    "first_quartile = Pmtsdata['Revised Cost'].describe()['25%']\n",
    "third_quartile = Pmtsdata['Revised Cost'].describe()['75%']\n",
    "\n",
    "# Interquartile range\n",
    "iqr = third_quartile - first_quartile\n",
    "\n",
    "# Remove outliers\n",
    "Pmtsdata = Pmtsdata[(Pmtsdata['Revised Cost'] > (first_quartile - 3 * iqr)) &\n",
    "            (Pmtsdata['Revised Cost'] < (third_quartile + 3 * iqr))]"
   ]
  },
  {
   "cell_type": "code",
   "execution_count": 57,
   "metadata": {
    "execution": {
     "iopub.execute_input": "2020-11-16T12:51:21.294197Z",
     "iopub.status.busy": "2020-11-16T12:51:21.291829Z",
     "iopub.status.idle": "2020-11-16T12:51:21.467822Z",
     "shell.execute_reply": "2020-11-16T12:51:21.467133Z"
    },
    "papermill": {
     "duration": 0.312944,
     "end_time": "2020-11-16T12:51:21.467955",
     "exception": false,
     "start_time": "2020-11-16T12:51:21.155011",
     "status": "completed"
    },
    "tags": [],
    "pycharm": {
     "name": "#%%\n"
    }
   },
   "outputs": [
    {
     "data": {
      "text/plain": "<Figure size 432x288 with 1 Axes>",
      "image/png": "[encoded data removed]"
     },
     "metadata": {
      "needs_background": "light"
     },
     "output_type": "display_data"
    }
   ],
   "source": [
    "sns.kdeplot(data=Pmtsdata['Revised Cost'],shade=False,alpha=0.8)\n",
    "plt.show()"
   ]
  },
  {
   "cell_type": "code",
   "execution_count": 58,
   "metadata": {
    "execution": {
     "iopub.execute_input": "2020-11-16T12:51:21.735306Z",
     "iopub.status.busy": "2020-11-16T12:51:21.733018Z",
     "iopub.status.idle": "2020-11-16T12:51:21.923924Z",
     "shell.execute_reply": "2020-11-16T12:51:21.924922Z"
    },
    "papermill": {
     "duration": 0.332997,
     "end_time": "2020-11-16T12:51:21.925205",
     "exception": false,
     "start_time": "2020-11-16T12:51:21.592208",
     "status": "completed"
    },
    "tags": [],
    "pycharm": {
     "name": "#%%\n"
    }
   },
   "outputs": [
    {
     "data": {
      "text/plain": "<Figure size 432x288 with 1 Axes>",
      "image/png": "[encoded data removed]"
     },
     "metadata": {
      "needs_background": "light"
     },
     "output_type": "display_data"
    }
   ],
   "source": [
    "sns.kdeplot(data=Pmtsdata['Existing Units'],shade=False,alpha=0.8)\n",
    "plt.show()"
   ]
  },
  {
   "cell_type": "code",
   "execution_count": 59,
   "metadata": {
    "execution": {
     "iopub.execute_input": "2020-11-16T12:51:22.223183Z",
     "iopub.status.busy": "2020-11-16T12:51:22.221934Z",
     "iopub.status.idle": "2020-11-16T12:51:22.269948Z",
     "shell.execute_reply": "2020-11-16T12:51:22.269150Z"
    },
    "papermill": {
     "duration": 0.203048,
     "end_time": "2020-11-16T12:51:22.270076",
     "exception": false,
     "start_time": "2020-11-16T12:51:22.067028",
     "status": "completed"
    },
    "tags": [],
    "pycharm": {
     "name": "#%%\n"
    }
   },
   "outputs": [],
   "source": [
    "# Calculate first and third quartile\n",
    "first_quartile = Pmtsdata['Existing Units'].describe()['25%']\n",
    "third_quartile = Pmtsdata['Existing Units'].describe()['75%']\n",
    "\n",
    "# Interquartile range\n",
    "iqr = third_quartile - first_quartile\n",
    "\n",
    "# Remove outliers\n",
    "Pmtsdata = Pmtsdata[(Pmtsdata['Existing Units'] > (first_quartile - 3 * iqr)) &\n",
    "            (Pmtsdata['Existing Units'] < (third_quartile + 3 * iqr))]"
   ]
  },
  {
   "cell_type": "code",
   "execution_count": 60,
   "metadata": {
    "execution": {
     "iopub.execute_input": "2020-11-16T12:51:22.549158Z",
     "iopub.status.busy": "2020-11-16T12:51:22.545599Z",
     "iopub.status.idle": "2020-11-16T12:51:22.743667Z",
     "shell.execute_reply": "2020-11-16T12:51:22.744211Z"
    },
    "papermill": {
     "duration": 0.342859,
     "end_time": "2020-11-16T12:51:22.744392",
     "exception": false,
     "start_time": "2020-11-16T12:51:22.401533",
     "status": "completed"
    },
    "tags": [],
    "pycharm": {
     "name": "#%%\n"
    }
   },
   "outputs": [
    {
     "data": {
      "text/plain": "<Figure size 432x288 with 1 Axes>",
      "image/png": "[encoded data removed]"
     },
     "metadata": {
      "needs_background": "light"
     },
     "output_type": "display_data"
    }
   ],
   "source": [
    "sns.kdeplot(data=Pmtsdata['Existing Units'],shade=False,alpha=0.8)\n",
    "plt.show()"
   ]
  },
  {
   "cell_type": "code",
   "execution_count": 61,
   "metadata": {
    "execution": {
     "iopub.execute_input": "2020-11-16T12:51:23.023672Z",
     "iopub.status.busy": "2020-11-16T12:51:23.018361Z",
     "iopub.status.idle": "2020-11-16T12:51:23.219622Z",
     "shell.execute_reply": "2020-11-16T12:51:23.218767Z"
    },
    "papermill": {
     "duration": 0.344291,
     "end_time": "2020-11-16T12:51:23.219755",
     "exception": false,
     "start_time": "2020-11-16T12:51:22.875464",
     "status": "completed"
    },
    "tags": [],
    "pycharm": {
     "name": "#%%\n"
    }
   },
   "outputs": [
    {
     "data": {
      "text/plain": "<Figure size 432x288 with 1 Axes>",
      "image/png": "[encoded data removed]"
     },
     "metadata": {
      "needs_background": "light"
     },
     "output_type": "display_data"
    }
   ],
   "source": [
    "sns.kdeplot(data=Pmtsdata['Proposed Units'],shade=False,alpha=0.8)\n",
    "plt.show()"
   ]
  },
  {
   "cell_type": "code",
   "execution_count": 62,
   "metadata": {
    "execution": {
     "iopub.execute_input": "2020-11-16T12:51:23.490189Z",
     "iopub.status.busy": "2020-11-16T12:51:23.489437Z",
     "iopub.status.idle": "2020-11-16T12:51:23.530041Z",
     "shell.execute_reply": "2020-11-16T12:51:23.529303Z"
    },
    "papermill": {
     "duration": 0.179082,
     "end_time": "2020-11-16T12:51:23.530166",
     "exception": false,
     "start_time": "2020-11-16T12:51:23.351084",
     "status": "completed"
    },
    "tags": [],
    "pycharm": {
     "name": "#%%\n"
    }
   },
   "outputs": [],
   "source": [
    "# Calculate first and third quartile\n",
    "first_quartile = Pmtsdata['Proposed Units'].describe()['25%']\n",
    "third_quartile = Pmtsdata['Proposed Units'].describe()['75%']\n",
    "\n",
    "# Interquartile range\n",
    "iqr = third_quartile - first_quartile\n",
    "\n",
    "# Remove outliers\n",
    "Pmtsdata =Pmtsdata[(Pmtsdata['Proposed Units'] > (first_quartile - 3 * iqr)) &\n",
    "            (Pmtsdata['Proposed Units'] < (third_quartile + 3 * iqr))]"
   ]
  },
  {
   "cell_type": "code",
   "execution_count": 63,
   "metadata": {
    "execution": {
     "iopub.execute_input": "2020-11-16T12:51:23.797893Z",
     "iopub.status.busy": "2020-11-16T12:51:23.790884Z",
     "iopub.status.idle": "2020-11-16T12:51:23.973806Z",
     "shell.execute_reply": "2020-11-16T12:51:23.973171Z"
    },
    "papermill": {
     "duration": 0.316417,
     "end_time": "2020-11-16T12:51:23.973930",
     "exception": false,
     "start_time": "2020-11-16T12:51:23.657513",
     "status": "completed"
    },
    "tags": [],
    "pycharm": {
     "name": "#%%\n"
    }
   },
   "outputs": [
    {
     "data": {
      "text/plain": "<Figure size 432x288 with 1 Axes>",
      "image/png": "[encoded data removed]"
     },
     "metadata": {
      "needs_background": "light"
     },
     "output_type": "display_data"
    }
   ],
   "source": [
    "sns.kdeplot(data=Pmtsdata['Proposed Units'],shade=False,alpha=0.8)\n",
    "plt.show()"
   ]
  },
  {
   "cell_type": "code",
   "execution_count": 64,
   "metadata": {
    "execution": {
     "iopub.execute_input": "2020-11-16T12:51:24.238540Z",
     "iopub.status.busy": "2020-11-16T12:51:24.237371Z",
     "iopub.status.idle": "2020-11-16T12:51:24.242733Z",
     "shell.execute_reply": "2020-11-16T12:51:24.241956Z"
    },
    "papermill": {
     "duration": 0.139558,
     "end_time": "2020-11-16T12:51:24.242861",
     "exception": false,
     "start_time": "2020-11-16T12:51:24.103303",
     "status": "completed"
    },
    "tags": [],
    "pycharm": {
     "name": "#%%\n"
    }
   },
   "outputs": [
    {
     "data": {
      "text/plain": "(60597, 35)"
     },
     "execution_count": 64,
     "metadata": {},
     "output_type": "execute_result"
    }
   ],
   "source": [
    "Pmtsdata.shape #New shape after removing outliers."
   ]
  },
  {
   "cell_type": "code",
   "execution_count": 65,
   "metadata": {
    "execution": {
     "iopub.execute_input": "2020-11-16T12:51:24.507583Z",
     "iopub.status.busy": "2020-11-16T12:51:24.506813Z",
     "iopub.status.idle": "2020-11-16T12:51:24.545392Z",
     "shell.execute_reply": "2020-11-16T12:51:24.546072Z"
    },
    "papermill": {
     "duration": 0.173315,
     "end_time": "2020-11-16T12:51:24.546254",
     "exception": false,
     "start_time": "2020-11-16T12:51:24.372939",
     "status": "completed"
    },
    "tags": [],
    "pycharm": {
     "name": "#%%\n"
    }
   },
   "outputs": [],
   "source": [
    "correlation_matrix =Pmtsdata.corr()['Time_in_Days'].sort_values()"
   ]
  },
  {
   "cell_type": "code",
   "execution_count": 66,
   "metadata": {
    "execution": {
     "iopub.execute_input": "2020-11-16T12:51:24.813330Z",
     "iopub.status.busy": "2020-11-16T12:51:24.812437Z",
     "iopub.status.idle": "2020-11-16T12:51:24.816986Z",
     "shell.execute_reply": "2020-11-16T12:51:24.816275Z"
    },
    "papermill": {
     "duration": 0.141435,
     "end_time": "2020-11-16T12:51:24.817107",
     "exception": false,
     "start_time": "2020-11-16T12:51:24.675672",
     "status": "completed"
    },
    "tags": [],
    "pycharm": {
     "name": "#%%\n"
    }
   },
   "outputs": [
    {
     "data": {
      "text/plain": "Permit Type                  -0.598427\nNumber of Existing Stories   -0.023739\nNumber of Proposed Stories   -0.023137\nExisting Units               -0.020114\nRecord ID                    -0.014199\nZipcode                      -0.010964\nProposed Units               -0.006760\nName: Time_in_Days, dtype: float64"
     },
     "execution_count": 66,
     "metadata": {},
     "output_type": "execute_result"
    }
   ],
   "source": [
    "#printing the most negative and least correlations\n",
    "correlation_matrix.head(7)"
   ]
  },
  {
   "cell_type": "code",
   "execution_count": 67,
   "metadata": {
    "execution": {
     "iopub.execute_input": "2020-11-16T12:51:25.084690Z",
     "iopub.status.busy": "2020-11-16T12:51:25.083791Z",
     "iopub.status.idle": "2020-11-16T12:51:25.088421Z",
     "shell.execute_reply": "2020-11-16T12:51:25.087792Z"
    },
    "papermill": {
     "duration": 0.14139,
     "end_time": "2020-11-16T12:51:25.088549",
     "exception": false,
     "start_time": "2020-11-16T12:51:24.947159",
     "status": "completed"
    },
    "tags": [],
    "pycharm": {
     "name": "#%%\n"
    }
   },
   "outputs": [
    {
     "data": {
      "text/plain": "Proposed Construction Type    0.006561\nStreet Number                 0.010271\nSupervisor District           0.015798\nEstimated Cost                0.117912\nRevised Cost                  0.165122\nPlansets                      0.240864\nTime_in_Days                  1.000000\nName: Time_in_Days, dtype: float64"
     },
     "execution_count": 67,
     "metadata": {},
     "output_type": "execute_result"
    }
   ],
   "source": [
    "correlation_matrix.tail(7)"
   ]
  },
  {
   "cell_type": "code",
   "execution_count": 68,
   "metadata": {
    "execution": {
     "iopub.execute_input": "2020-11-16T12:51:25.377905Z",
     "iopub.status.busy": "2020-11-16T12:51:25.376747Z",
     "iopub.status.idle": "2020-11-16T12:51:25.394185Z",
     "shell.execute_reply": "2020-11-16T12:51:25.395035Z"
    },
    "papermill": {
     "duration": 0.172138,
     "end_time": "2020-11-16T12:51:25.395308",
     "exception": false,
     "start_time": "2020-11-16T12:51:25.223170",
     "status": "completed"
    },
    "tags": [],
    "pycharm": {
     "name": "#%%\n"
    }
   },
   "outputs": [
    {
     "data": {
      "text/plain": "8    58984\n3     1612\n2        1\nName: Permit Type, dtype: int64"
     },
     "execution_count": 68,
     "metadata": {},
     "output_type": "execute_result"
    }
   ],
   "source": [
    "types = (Pmtsdata['Permit Type'].value_counts())\n",
    "types"
   ]
  },
  {
   "cell_type": "code",
   "execution_count": 69,
   "metadata": {
    "execution": {
     "iopub.execute_input": "2020-11-16T12:51:25.706186Z",
     "iopub.status.busy": "2020-11-16T12:51:25.705428Z",
     "iopub.status.idle": "2020-11-16T12:51:25.710716Z",
     "shell.execute_reply": "2020-11-16T12:51:25.709866Z"
    },
    "papermill": {
     "duration": 0.155208,
     "end_time": "2020-11-16T12:51:25.710868",
     "exception": false,
     "start_time": "2020-11-16T12:51:25.555660",
     "status": "completed"
    },
    "tags": [],
    "pycharm": {
     "name": "#%%\n"
    }
   },
   "outputs": [
    {
     "data": {
      "text/plain": "[8, 3]"
     },
     "execution_count": 69,
     "metadata": {},
     "output_type": "execute_result"
    }
   ],
   "source": [
    "types = list(types[types.values > 300].index)\n",
    "types"
   ]
  },
  {
   "cell_type": "code",
   "execution_count": 70,
   "metadata": {
    "execution": {
     "iopub.execute_input": "2020-11-16T12:51:25.989561Z",
     "iopub.status.busy": "2020-11-16T12:51:25.987466Z",
     "iopub.status.idle": "2020-11-16T12:51:26.266310Z",
     "shell.execute_reply": "2020-11-16T12:51:26.265710Z"
    },
    "papermill": {
     "duration": 0.417793,
     "end_time": "2020-11-16T12:51:26.266464",
     "exception": false,
     "start_time": "2020-11-16T12:51:25.848671",
     "status": "completed"
    },
    "tags": [],
    "pycharm": {
     "name": "#%%\n"
    }
   },
   "outputs": [
    {
     "data": {
      "text/plain": "<Figure size 576x432 with 1 Axes>",
      "image/png": "[encoded data removed]"
     },
     "metadata": {
      "needs_background": "light"
     },
     "output_type": "display_data"
    }
   ],
   "source": [
    "fig=plt.figure(figsize=(8,6))\n",
    "plt.hist(types,bins=50)\n",
    "plt.show()"
   ]
  },
  {
   "cell_type": "code",
   "execution_count": 71,
   "metadata": {
    "execution": {
     "iopub.execute_input": "2020-11-16T12:51:26.559948Z",
     "iopub.status.busy": "2020-11-16T12:51:26.559099Z",
     "iopub.status.idle": "2020-11-16T12:51:26.811165Z",
     "shell.execute_reply": "2020-11-16T12:51:26.810531Z"
    },
    "papermill": {
     "duration": 0.395418,
     "end_time": "2020-11-16T12:51:26.811319",
     "exception": false,
     "start_time": "2020-11-16T12:51:26.415901",
     "status": "completed"
    },
    "tags": [],
    "pycharm": {
     "name": "#%%\n"
    }
   },
   "outputs": [
    {
     "ename": "ValueError",
     "evalue": "cannot reindex on an axis with duplicate labels",
     "output_type": "error",
     "traceback": [
      "\u001B[1;31m---------------------------------------------------------------------------\u001B[0m",
      "\u001B[1;31mValueError\u001B[0m                                Traceback (most recent call last)",
      "Input \u001B[1;32mIn [71]\u001B[0m, in \u001B[0;36m<cell line: 5>\u001B[1;34m()\u001B[0m\n\u001B[0;32m      8\u001B[0m     subset \u001B[38;5;241m=\u001B[39m Pmtsdata[Pmtsdata[\u001B[38;5;124m'\u001B[39m\u001B[38;5;124mPermit Type\u001B[39m\u001B[38;5;124m'\u001B[39m] \u001B[38;5;241m==\u001B[39m p_type]\n\u001B[0;32m     10\u001B[0m     \u001B[38;5;66;03m# Density plot of Energy Star scores\u001B[39;00m\n\u001B[1;32m---> 11\u001B[0m     \u001B[43msns\u001B[49m\u001B[38;5;241;43m.\u001B[39;49m\u001B[43mkdeplot\u001B[49m\u001B[43m(\u001B[49m\u001B[43msubset\u001B[49m\u001B[43m[\u001B[49m\u001B[38;5;124;43m'\u001B[39;49m\u001B[38;5;124;43mTime_in_Days\u001B[39;49m\u001B[38;5;124;43m'\u001B[39;49m\u001B[43m]\u001B[49m\u001B[43m,\u001B[49m\n\u001B[0;32m     12\u001B[0m \u001B[43m               \u001B[49m\u001B[43mlabel\u001B[49m\u001B[43m \u001B[49m\u001B[38;5;241;43m=\u001B[39;49m\u001B[43m \u001B[49m\u001B[43mp_type\u001B[49m\u001B[43m,\u001B[49m\u001B[43m \u001B[49m\u001B[43mshade\u001B[49m\u001B[43m \u001B[49m\u001B[38;5;241;43m=\u001B[39;49m\u001B[43m \u001B[49m\u001B[38;5;28;43;01mFalse\u001B[39;49;00m\u001B[43m,\u001B[49m\u001B[43m \u001B[49m\u001B[43malpha\u001B[49m\u001B[43m \u001B[49m\u001B[38;5;241;43m=\u001B[39;49m\u001B[43m \u001B[49m\u001B[38;5;241;43m0.8\u001B[39;49m\u001B[43m)\u001B[49m;\n\u001B[0;32m     14\u001B[0m \u001B[38;5;66;03m# label the plot\u001B[39;00m\n\u001B[0;32m     15\u001B[0m plt\u001B[38;5;241m.\u001B[39mxlabel(\u001B[38;5;124m'\u001B[39m\u001B[38;5;124mTime in Days\u001B[39m\u001B[38;5;124m'\u001B[39m, size \u001B[38;5;241m=\u001B[39m \u001B[38;5;241m8\u001B[39m); plt\u001B[38;5;241m.\u001B[39mylabel(\u001B[38;5;124m'\u001B[39m\u001B[38;5;124mDensity\u001B[39m\u001B[38;5;124m'\u001B[39m, size \u001B[38;5;241m=\u001B[39m \u001B[38;5;241m8\u001B[39m); \n",
      "File \u001B[1;32m~\\anaconda3\\lib\\site-packages\\seaborn\\_decorators.py:46\u001B[0m, in \u001B[0;36m_deprecate_positional_args.<locals>.inner_f\u001B[1;34m(*args, **kwargs)\u001B[0m\n\u001B[0;32m     36\u001B[0m     warnings\u001B[38;5;241m.\u001B[39mwarn(\n\u001B[0;32m     37\u001B[0m         \u001B[38;5;124m\"\u001B[39m\u001B[38;5;124mPass the following variable\u001B[39m\u001B[38;5;132;01m{}\u001B[39;00m\u001B[38;5;124m as \u001B[39m\u001B[38;5;132;01m{}\u001B[39;00m\u001B[38;5;124mkeyword arg\u001B[39m\u001B[38;5;132;01m{}\u001B[39;00m\u001B[38;5;124m: \u001B[39m\u001B[38;5;132;01m{}\u001B[39;00m\u001B[38;5;124m. \u001B[39m\u001B[38;5;124m\"\u001B[39m\n\u001B[0;32m     38\u001B[0m         \u001B[38;5;124m\"\u001B[39m\u001B[38;5;124mFrom version 0.12, the only valid positional argument \u001B[39m\u001B[38;5;124m\"\u001B[39m\n\u001B[1;32m   (...)\u001B[0m\n\u001B[0;32m     43\u001B[0m         \u001B[38;5;167;01mFutureWarning\u001B[39;00m\n\u001B[0;32m     44\u001B[0m     )\n\u001B[0;32m     45\u001B[0m kwargs\u001B[38;5;241m.\u001B[39mupdate({k: arg \u001B[38;5;28;01mfor\u001B[39;00m k, arg \u001B[38;5;129;01min\u001B[39;00m \u001B[38;5;28mzip\u001B[39m(sig\u001B[38;5;241m.\u001B[39mparameters, args)})\n\u001B[1;32m---> 46\u001B[0m \u001B[38;5;28;01mreturn\u001B[39;00m \u001B[43mf\u001B[49m\u001B[43m(\u001B[49m\u001B[38;5;241;43m*\u001B[39;49m\u001B[38;5;241;43m*\u001B[39;49m\u001B[43mkwargs\u001B[49m\u001B[43m)\u001B[49m\n",
      "File \u001B[1;32m~\\anaconda3\\lib\\site-packages\\seaborn\\distributions.py:1770\u001B[0m, in \u001B[0;36mkdeplot\u001B[1;34m(x, y, shade, vertical, kernel, bw, gridsize, cut, clip, legend, cumulative, shade_lowest, cbar, cbar_ax, cbar_kws, ax, weights, hue, palette, hue_order, hue_norm, multiple, common_norm, common_grid, levels, thresh, bw_method, bw_adjust, log_scale, color, fill, data, data2, warn_singular, **kwargs)\u001B[0m\n\u001B[0;32m   1767\u001B[0m     \u001B[38;5;28;01mif\u001B[39;00m color \u001B[38;5;129;01mis\u001B[39;00m \u001B[38;5;129;01mnot\u001B[39;00m \u001B[38;5;28;01mNone\u001B[39;00m:\n\u001B[0;32m   1768\u001B[0m         plot_kws[\u001B[38;5;124m\"\u001B[39m\u001B[38;5;124mcolor\u001B[39m\u001B[38;5;124m\"\u001B[39m] \u001B[38;5;241m=\u001B[39m color\n\u001B[1;32m-> 1770\u001B[0m     \u001B[43mp\u001B[49m\u001B[38;5;241;43m.\u001B[39;49m\u001B[43mplot_univariate_density\u001B[49m\u001B[43m(\u001B[49m\n\u001B[0;32m   1771\u001B[0m \u001B[43m        \u001B[49m\u001B[43mmultiple\u001B[49m\u001B[38;5;241;43m=\u001B[39;49m\u001B[43mmultiple\u001B[49m\u001B[43m,\u001B[49m\n\u001B[0;32m   1772\u001B[0m \u001B[43m        \u001B[49m\u001B[43mcommon_norm\u001B[49m\u001B[38;5;241;43m=\u001B[39;49m\u001B[43mcommon_norm\u001B[49m\u001B[43m,\u001B[49m\n\u001B[0;32m   1773\u001B[0m \u001B[43m        \u001B[49m\u001B[43mcommon_grid\u001B[49m\u001B[38;5;241;43m=\u001B[39;49m\u001B[43mcommon_grid\u001B[49m\u001B[43m,\u001B[49m\n\u001B[0;32m   1774\u001B[0m \u001B[43m        \u001B[49m\u001B[43mfill\u001B[49m\u001B[38;5;241;43m=\u001B[39;49m\u001B[43mfill\u001B[49m\u001B[43m,\u001B[49m\n\u001B[0;32m   1775\u001B[0m \u001B[43m        \u001B[49m\u001B[43mlegend\u001B[49m\u001B[38;5;241;43m=\u001B[39;49m\u001B[43mlegend\u001B[49m\u001B[43m,\u001B[49m\n\u001B[0;32m   1776\u001B[0m \u001B[43m        \u001B[49m\u001B[43mwarn_singular\u001B[49m\u001B[38;5;241;43m=\u001B[39;49m\u001B[43mwarn_singular\u001B[49m\u001B[43m,\u001B[49m\n\u001B[0;32m   1777\u001B[0m \u001B[43m        \u001B[49m\u001B[43mestimate_kws\u001B[49m\u001B[38;5;241;43m=\u001B[39;49m\u001B[43mestimate_kws\u001B[49m\u001B[43m,\u001B[49m\n\u001B[0;32m   1778\u001B[0m \u001B[43m        \u001B[49m\u001B[38;5;241;43m*\u001B[39;49m\u001B[38;5;241;43m*\u001B[39;49m\u001B[43mplot_kws\u001B[49m\u001B[43m,\u001B[49m\n\u001B[0;32m   1779\u001B[0m \u001B[43m    \u001B[49m\u001B[43m)\u001B[49m\n\u001B[0;32m   1781\u001B[0m \u001B[38;5;28;01melse\u001B[39;00m:\n\u001B[0;32m   1783\u001B[0m     p\u001B[38;5;241m.\u001B[39mplot_bivariate_density(\n\u001B[0;32m   1784\u001B[0m         common_norm\u001B[38;5;241m=\u001B[39mcommon_norm,\n\u001B[0;32m   1785\u001B[0m         fill\u001B[38;5;241m=\u001B[39mfill,\n\u001B[1;32m   (...)\u001B[0m\n\u001B[0;32m   1795\u001B[0m         \u001B[38;5;241m*\u001B[39m\u001B[38;5;241m*\u001B[39mkwargs,\n\u001B[0;32m   1796\u001B[0m     )\n",
      "File \u001B[1;32m~\\anaconda3\\lib\\site-packages\\seaborn\\distributions.py:928\u001B[0m, in \u001B[0;36m_DistributionPlotter.plot_univariate_density\u001B[1;34m(self, multiple, common_norm, common_grid, warn_singular, fill, legend, estimate_kws, **plot_kws)\u001B[0m\n\u001B[0;32m    925\u001B[0m log_scale \u001B[38;5;241m=\u001B[39m \u001B[38;5;28mself\u001B[39m\u001B[38;5;241m.\u001B[39m_log_scaled(\u001B[38;5;28mself\u001B[39m\u001B[38;5;241m.\u001B[39mdata_variable)\n\u001B[0;32m    927\u001B[0m \u001B[38;5;66;03m# Do the computation\u001B[39;00m\n\u001B[1;32m--> 928\u001B[0m densities \u001B[38;5;241m=\u001B[39m \u001B[38;5;28;43mself\u001B[39;49m\u001B[38;5;241;43m.\u001B[39;49m\u001B[43m_compute_univariate_density\u001B[49m\u001B[43m(\u001B[49m\n\u001B[0;32m    929\u001B[0m \u001B[43m    \u001B[49m\u001B[38;5;28;43mself\u001B[39;49m\u001B[38;5;241;43m.\u001B[39;49m\u001B[43mdata_variable\u001B[49m\u001B[43m,\u001B[49m\n\u001B[0;32m    930\u001B[0m \u001B[43m    \u001B[49m\u001B[43mcommon_norm\u001B[49m\u001B[43m,\u001B[49m\n\u001B[0;32m    931\u001B[0m \u001B[43m    \u001B[49m\u001B[43mcommon_grid\u001B[49m\u001B[43m,\u001B[49m\n\u001B[0;32m    932\u001B[0m \u001B[43m    \u001B[49m\u001B[43mestimate_kws\u001B[49m\u001B[43m,\u001B[49m\n\u001B[0;32m    933\u001B[0m \u001B[43m    \u001B[49m\u001B[43mlog_scale\u001B[49m\u001B[43m,\u001B[49m\n\u001B[0;32m    934\u001B[0m \u001B[43m    \u001B[49m\u001B[43mwarn_singular\u001B[49m\u001B[43m,\u001B[49m\n\u001B[0;32m    935\u001B[0m \u001B[43m\u001B[49m\u001B[43m)\u001B[49m\n\u001B[0;32m    937\u001B[0m \u001B[38;5;66;03m# Adjust densities based on the `multiple` rule\u001B[39;00m\n\u001B[0;32m    938\u001B[0m densities, baselines \u001B[38;5;241m=\u001B[39m \u001B[38;5;28mself\u001B[39m\u001B[38;5;241m.\u001B[39m_resolve_multiple(densities, multiple)\n",
      "File \u001B[1;32m~\\anaconda3\\lib\\site-packages\\seaborn\\distributions.py:303\u001B[0m, in \u001B[0;36m_DistributionPlotter._compute_univariate_density\u001B[1;34m(self, data_variable, common_norm, common_grid, estimate_kws, log_scale, warn_singular)\u001B[0m\n\u001B[0;32m    299\u001B[0m     common_norm \u001B[38;5;241m=\u001B[39m \u001B[38;5;28;01mFalse\u001B[39;00m\n\u001B[0;32m    301\u001B[0m densities \u001B[38;5;241m=\u001B[39m {}\n\u001B[1;32m--> 303\u001B[0m \u001B[38;5;28;01mfor\u001B[39;00m sub_vars, sub_data \u001B[38;5;129;01min\u001B[39;00m \u001B[38;5;28mself\u001B[39m\u001B[38;5;241m.\u001B[39miter_data(\u001B[38;5;124m\"\u001B[39m\u001B[38;5;124mhue\u001B[39m\u001B[38;5;124m\"\u001B[39m, from_comp_data\u001B[38;5;241m=\u001B[39m\u001B[38;5;28;01mTrue\u001B[39;00m):\n\u001B[0;32m    304\u001B[0m \n\u001B[0;32m    305\u001B[0m     \u001B[38;5;66;03m# Extract the data points from this sub set and remove nulls\u001B[39;00m\n\u001B[0;32m    306\u001B[0m     sub_data \u001B[38;5;241m=\u001B[39m sub_data\u001B[38;5;241m.\u001B[39mdropna()\n\u001B[0;32m    307\u001B[0m     observations \u001B[38;5;241m=\u001B[39m sub_data[data_variable]\n",
      "File \u001B[1;32m~\\anaconda3\\lib\\site-packages\\seaborn\\_core.py:983\u001B[0m, in \u001B[0;36mVectorPlotter.iter_data\u001B[1;34m(self, grouping_vars, reverse, from_comp_data)\u001B[0m\n\u001B[0;32m    978\u001B[0m grouping_vars \u001B[38;5;241m=\u001B[39m [\n\u001B[0;32m    979\u001B[0m     var \u001B[38;5;28;01mfor\u001B[39;00m var \u001B[38;5;129;01min\u001B[39;00m grouping_vars \u001B[38;5;28;01mif\u001B[39;00m var \u001B[38;5;129;01min\u001B[39;00m \u001B[38;5;28mself\u001B[39m\u001B[38;5;241m.\u001B[39mvariables\n\u001B[0;32m    980\u001B[0m ]\n\u001B[0;32m    982\u001B[0m \u001B[38;5;28;01mif\u001B[39;00m from_comp_data:\n\u001B[1;32m--> 983\u001B[0m     data \u001B[38;5;241m=\u001B[39m \u001B[38;5;28;43mself\u001B[39;49m\u001B[38;5;241;43m.\u001B[39;49m\u001B[43mcomp_data\u001B[49m\n\u001B[0;32m    984\u001B[0m \u001B[38;5;28;01melse\u001B[39;00m:\n\u001B[0;32m    985\u001B[0m     data \u001B[38;5;241m=\u001B[39m \u001B[38;5;28mself\u001B[39m\u001B[38;5;241m.\u001B[39mplot_data\n",
      "File \u001B[1;32m~\\anaconda3\\lib\\site-packages\\seaborn\\_core.py:1057\u001B[0m, in \u001B[0;36mVectorPlotter.comp_data\u001B[1;34m(self)\u001B[0m\n\u001B[0;32m   1055\u001B[0m     orig \u001B[38;5;241m=\u001B[39m \u001B[38;5;28mself\u001B[39m\u001B[38;5;241m.\u001B[39mplot_data[var]\u001B[38;5;241m.\u001B[39mdropna()\n\u001B[0;32m   1056\u001B[0m comp_col \u001B[38;5;241m=\u001B[39m pd\u001B[38;5;241m.\u001B[39mSeries(index\u001B[38;5;241m=\u001B[39morig\u001B[38;5;241m.\u001B[39mindex, dtype\u001B[38;5;241m=\u001B[39m\u001B[38;5;28mfloat\u001B[39m, name\u001B[38;5;241m=\u001B[39mvar)\n\u001B[1;32m-> 1057\u001B[0m comp_col\u001B[38;5;241m.\u001B[39mloc[orig\u001B[38;5;241m.\u001B[39mindex] \u001B[38;5;241m=\u001B[39m pd\u001B[38;5;241m.\u001B[39mto_numeric(axis\u001B[38;5;241m.\u001B[39mconvert_units(orig))\n\u001B[0;32m   1059\u001B[0m \u001B[38;5;28;01mif\u001B[39;00m axis\u001B[38;5;241m.\u001B[39mget_scale() \u001B[38;5;241m==\u001B[39m \u001B[38;5;124m\"\u001B[39m\u001B[38;5;124mlog\u001B[39m\u001B[38;5;124m\"\u001B[39m:\n\u001B[0;32m   1060\u001B[0m     comp_col \u001B[38;5;241m=\u001B[39m np\u001B[38;5;241m.\u001B[39mlog10(comp_col)\n",
      "File \u001B[1;32m~\\anaconda3\\lib\\site-packages\\pandas\\core\\indexing.py:716\u001B[0m, in \u001B[0;36m_LocationIndexer.__setitem__\u001B[1;34m(self, key, value)\u001B[0m\n\u001B[0;32m    713\u001B[0m \u001B[38;5;28mself\u001B[39m\u001B[38;5;241m.\u001B[39m_has_valid_setitem_indexer(key)\n\u001B[0;32m    715\u001B[0m iloc \u001B[38;5;241m=\u001B[39m \u001B[38;5;28mself\u001B[39m \u001B[38;5;28;01mif\u001B[39;00m \u001B[38;5;28mself\u001B[39m\u001B[38;5;241m.\u001B[39mname \u001B[38;5;241m==\u001B[39m \u001B[38;5;124m\"\u001B[39m\u001B[38;5;124miloc\u001B[39m\u001B[38;5;124m\"\u001B[39m \u001B[38;5;28;01melse\u001B[39;00m \u001B[38;5;28mself\u001B[39m\u001B[38;5;241m.\u001B[39mobj\u001B[38;5;241m.\u001B[39miloc\n\u001B[1;32m--> 716\u001B[0m \u001B[43miloc\u001B[49m\u001B[38;5;241;43m.\u001B[39;49m\u001B[43m_setitem_with_indexer\u001B[49m\u001B[43m(\u001B[49m\u001B[43mindexer\u001B[49m\u001B[43m,\u001B[49m\u001B[43m \u001B[49m\u001B[43mvalue\u001B[49m\u001B[43m,\u001B[49m\u001B[43m \u001B[49m\u001B[38;5;28;43mself\u001B[39;49m\u001B[38;5;241;43m.\u001B[39;49m\u001B[43mname\u001B[49m\u001B[43m)\u001B[49m\n",
      "File \u001B[1;32m~\\anaconda3\\lib\\site-packages\\pandas\\core\\indexing.py:1690\u001B[0m, in \u001B[0;36m_iLocIndexer._setitem_with_indexer\u001B[1;34m(self, indexer, value, name)\u001B[0m\n\u001B[0;32m   1688\u001B[0m     \u001B[38;5;28mself\u001B[39m\u001B[38;5;241m.\u001B[39m_setitem_with_indexer_split_path(indexer, value, name)\n\u001B[0;32m   1689\u001B[0m \u001B[38;5;28;01melse\u001B[39;00m:\n\u001B[1;32m-> 1690\u001B[0m     \u001B[38;5;28;43mself\u001B[39;49m\u001B[38;5;241;43m.\u001B[39;49m\u001B[43m_setitem_single_block\u001B[49m\u001B[43m(\u001B[49m\u001B[43mindexer\u001B[49m\u001B[43m,\u001B[49m\u001B[43m \u001B[49m\u001B[43mvalue\u001B[49m\u001B[43m,\u001B[49m\u001B[43m \u001B[49m\u001B[43mname\u001B[49m\u001B[43m)\u001B[49m\n",
      "File \u001B[1;32m~\\anaconda3\\lib\\site-packages\\pandas\\core\\indexing.py:1929\u001B[0m, in \u001B[0;36m_iLocIndexer._setitem_single_block\u001B[1;34m(self, indexer, value, name)\u001B[0m\n\u001B[0;32m   1923\u001B[0m     indexer \u001B[38;5;241m=\u001B[39m maybe_convert_ix(\u001B[38;5;241m*\u001B[39mindexer)  \u001B[38;5;66;03m# e.g. test_setitem_frame_align\u001B[39;00m\n\u001B[0;32m   1925\u001B[0m \u001B[38;5;28;01mif\u001B[39;00m (\u001B[38;5;28misinstance\u001B[39m(value, ABCSeries) \u001B[38;5;129;01mand\u001B[39;00m name \u001B[38;5;241m!=\u001B[39m \u001B[38;5;124m\"\u001B[39m\u001B[38;5;124miloc\u001B[39m\u001B[38;5;124m\"\u001B[39m) \u001B[38;5;129;01mor\u001B[39;00m \u001B[38;5;28misinstance\u001B[39m(value, \u001B[38;5;28mdict\u001B[39m):\n\u001B[0;32m   1926\u001B[0m     \u001B[38;5;66;03m# TODO(EA): ExtensionBlock.setitem this causes issues with\u001B[39;00m\n\u001B[0;32m   1927\u001B[0m     \u001B[38;5;66;03m# setting for extensionarrays that store dicts. Need to decide\u001B[39;00m\n\u001B[0;32m   1928\u001B[0m     \u001B[38;5;66;03m# if it's worth supporting that.\u001B[39;00m\n\u001B[1;32m-> 1929\u001B[0m     value \u001B[38;5;241m=\u001B[39m \u001B[38;5;28;43mself\u001B[39;49m\u001B[38;5;241;43m.\u001B[39;49m\u001B[43m_align_series\u001B[49m\u001B[43m(\u001B[49m\u001B[43mindexer\u001B[49m\u001B[43m,\u001B[49m\u001B[43m \u001B[49m\u001B[43mSeries\u001B[49m\u001B[43m(\u001B[49m\u001B[43mvalue\u001B[49m\u001B[43m)\u001B[49m\u001B[43m)\u001B[49m\n\u001B[0;32m   1931\u001B[0m \u001B[38;5;28;01melif\u001B[39;00m \u001B[38;5;28misinstance\u001B[39m(value, ABCDataFrame) \u001B[38;5;129;01mand\u001B[39;00m name \u001B[38;5;241m!=\u001B[39m \u001B[38;5;124m\"\u001B[39m\u001B[38;5;124miloc\u001B[39m\u001B[38;5;124m\"\u001B[39m:\n\u001B[0;32m   1932\u001B[0m     value \u001B[38;5;241m=\u001B[39m \u001B[38;5;28mself\u001B[39m\u001B[38;5;241m.\u001B[39m_align_frame(indexer, value)\n",
      "File \u001B[1;32m~\\anaconda3\\lib\\site-packages\\pandas\\core\\indexing.py:2091\u001B[0m, in \u001B[0;36m_iLocIndexer._align_series\u001B[1;34m(self, indexer, ser, multiindex_indexer)\u001B[0m\n\u001B[0;32m   2089\u001B[0m \u001B[38;5;28;01mif\u001B[39;00m obj\u001B[38;5;241m.\u001B[39mndim \u001B[38;5;241m==\u001B[39m \u001B[38;5;241m2\u001B[39m \u001B[38;5;129;01mand\u001B[39;00m is_empty_indexer(indexer[\u001B[38;5;241m0\u001B[39m], ser\u001B[38;5;241m.\u001B[39m_values):\n\u001B[0;32m   2090\u001B[0m     \u001B[38;5;28;01mreturn\u001B[39;00m ser\u001B[38;5;241m.\u001B[39m_values\u001B[38;5;241m.\u001B[39mcopy()\n\u001B[1;32m-> 2091\u001B[0m ser \u001B[38;5;241m=\u001B[39m \u001B[43mser\u001B[49m\u001B[38;5;241;43m.\u001B[39;49m\u001B[43mreindex\u001B[49m\u001B[43m(\u001B[49m\u001B[43mobj\u001B[49m\u001B[38;5;241;43m.\u001B[39;49m\u001B[43maxes\u001B[49m\u001B[43m[\u001B[49m\u001B[38;5;241;43m0\u001B[39;49m\u001B[43m]\u001B[49m\u001B[43m[\u001B[49m\u001B[43mindexer\u001B[49m\u001B[43m[\u001B[49m\u001B[38;5;241;43m0\u001B[39;49m\u001B[43m]\u001B[49m\u001B[43m]\u001B[49m\u001B[43m,\u001B[49m\u001B[43m \u001B[49m\u001B[43mcopy\u001B[49m\u001B[38;5;241;43m=\u001B[39;49m\u001B[38;5;28;43;01mTrue\u001B[39;49;00m\u001B[43m)\u001B[49m\u001B[38;5;241m.\u001B[39m_values\n\u001B[0;32m   2093\u001B[0m \u001B[38;5;66;03m# single indexer\u001B[39;00m\n\u001B[0;32m   2094\u001B[0m \u001B[38;5;28;01mif\u001B[39;00m \u001B[38;5;28mlen\u001B[39m(indexer) \u001B[38;5;241m>\u001B[39m \u001B[38;5;241m1\u001B[39m \u001B[38;5;129;01mand\u001B[39;00m \u001B[38;5;129;01mnot\u001B[39;00m multiindex_indexer:\n",
      "File \u001B[1;32m~\\anaconda3\\lib\\site-packages\\pandas\\core\\series.py:4672\u001B[0m, in \u001B[0;36mSeries.reindex\u001B[1;34m(self, *args, **kwargs)\u001B[0m\n\u001B[0;32m   4668\u001B[0m         \u001B[38;5;28;01mraise\u001B[39;00m \u001B[38;5;167;01mTypeError\u001B[39;00m(\n\u001B[0;32m   4669\u001B[0m             \u001B[38;5;124m\"\u001B[39m\u001B[38;5;124m'\u001B[39m\u001B[38;5;124mindex\u001B[39m\u001B[38;5;124m'\u001B[39m\u001B[38;5;124m passed as both positional and keyword argument\u001B[39m\u001B[38;5;124m\"\u001B[39m\n\u001B[0;32m   4670\u001B[0m         )\n\u001B[0;32m   4671\u001B[0m     kwargs\u001B[38;5;241m.\u001B[39mupdate({\u001B[38;5;124m\"\u001B[39m\u001B[38;5;124mindex\u001B[39m\u001B[38;5;124m\"\u001B[39m: index})\n\u001B[1;32m-> 4672\u001B[0m \u001B[38;5;28;01mreturn\u001B[39;00m \u001B[38;5;28;43msuper\u001B[39;49m\u001B[43m(\u001B[49m\u001B[43m)\u001B[49m\u001B[38;5;241;43m.\u001B[39;49m\u001B[43mreindex\u001B[49m\u001B[43m(\u001B[49m\u001B[38;5;241;43m*\u001B[39;49m\u001B[38;5;241;43m*\u001B[39;49m\u001B[43mkwargs\u001B[49m\u001B[43m)\u001B[49m\n",
      "File \u001B[1;32m~\\anaconda3\\lib\\site-packages\\pandas\\core\\generic.py:4966\u001B[0m, in \u001B[0;36mNDFrame.reindex\u001B[1;34m(self, *args, **kwargs)\u001B[0m\n\u001B[0;32m   4963\u001B[0m     \u001B[38;5;28;01mreturn\u001B[39;00m \u001B[38;5;28mself\u001B[39m\u001B[38;5;241m.\u001B[39m_reindex_multi(axes, copy, fill_value)\n\u001B[0;32m   4965\u001B[0m \u001B[38;5;66;03m# perform the reindex on the axes\u001B[39;00m\n\u001B[1;32m-> 4966\u001B[0m \u001B[38;5;28;01mreturn\u001B[39;00m \u001B[38;5;28;43mself\u001B[39;49m\u001B[38;5;241;43m.\u001B[39;49m\u001B[43m_reindex_axes\u001B[49m\u001B[43m(\u001B[49m\n\u001B[0;32m   4967\u001B[0m \u001B[43m    \u001B[49m\u001B[43maxes\u001B[49m\u001B[43m,\u001B[49m\u001B[43m \u001B[49m\u001B[43mlevel\u001B[49m\u001B[43m,\u001B[49m\u001B[43m \u001B[49m\u001B[43mlimit\u001B[49m\u001B[43m,\u001B[49m\u001B[43m \u001B[49m\u001B[43mtolerance\u001B[49m\u001B[43m,\u001B[49m\u001B[43m \u001B[49m\u001B[43mmethod\u001B[49m\u001B[43m,\u001B[49m\u001B[43m \u001B[49m\u001B[43mfill_value\u001B[49m\u001B[43m,\u001B[49m\u001B[43m \u001B[49m\u001B[43mcopy\u001B[49m\n\u001B[0;32m   4968\u001B[0m \u001B[43m\u001B[49m\u001B[43m)\u001B[49m\u001B[38;5;241m.\u001B[39m__finalize__(\u001B[38;5;28mself\u001B[39m, method\u001B[38;5;241m=\u001B[39m\u001B[38;5;124m\"\u001B[39m\u001B[38;5;124mreindex\u001B[39m\u001B[38;5;124m\"\u001B[39m)\n",
      "File \u001B[1;32m~\\anaconda3\\lib\\site-packages\\pandas\\core\\generic.py:4986\u001B[0m, in \u001B[0;36mNDFrame._reindex_axes\u001B[1;34m(self, axes, level, limit, tolerance, method, fill_value, copy)\u001B[0m\n\u001B[0;32m   4981\u001B[0m new_index, indexer \u001B[38;5;241m=\u001B[39m ax\u001B[38;5;241m.\u001B[39mreindex(\n\u001B[0;32m   4982\u001B[0m     labels, level\u001B[38;5;241m=\u001B[39mlevel, limit\u001B[38;5;241m=\u001B[39mlimit, tolerance\u001B[38;5;241m=\u001B[39mtolerance, method\u001B[38;5;241m=\u001B[39mmethod\n\u001B[0;32m   4983\u001B[0m )\n\u001B[0;32m   4985\u001B[0m axis \u001B[38;5;241m=\u001B[39m \u001B[38;5;28mself\u001B[39m\u001B[38;5;241m.\u001B[39m_get_axis_number(a)\n\u001B[1;32m-> 4986\u001B[0m obj \u001B[38;5;241m=\u001B[39m \u001B[43mobj\u001B[49m\u001B[38;5;241;43m.\u001B[39;49m\u001B[43m_reindex_with_indexers\u001B[49m\u001B[43m(\u001B[49m\n\u001B[0;32m   4987\u001B[0m \u001B[43m    \u001B[49m\u001B[43m{\u001B[49m\u001B[43maxis\u001B[49m\u001B[43m:\u001B[49m\u001B[43m \u001B[49m\u001B[43m[\u001B[49m\u001B[43mnew_index\u001B[49m\u001B[43m,\u001B[49m\u001B[43m \u001B[49m\u001B[43mindexer\u001B[49m\u001B[43m]\u001B[49m\u001B[43m}\u001B[49m\u001B[43m,\u001B[49m\n\u001B[0;32m   4988\u001B[0m \u001B[43m    \u001B[49m\u001B[43mfill_value\u001B[49m\u001B[38;5;241;43m=\u001B[39;49m\u001B[43mfill_value\u001B[49m\u001B[43m,\u001B[49m\n\u001B[0;32m   4989\u001B[0m \u001B[43m    \u001B[49m\u001B[43mcopy\u001B[49m\u001B[38;5;241;43m=\u001B[39;49m\u001B[43mcopy\u001B[49m\u001B[43m,\u001B[49m\n\u001B[0;32m   4990\u001B[0m \u001B[43m    \u001B[49m\u001B[43mallow_dups\u001B[49m\u001B[38;5;241;43m=\u001B[39;49m\u001B[38;5;28;43;01mFalse\u001B[39;49;00m\u001B[43m,\u001B[49m\n\u001B[0;32m   4991\u001B[0m \u001B[43m\u001B[49m\u001B[43m)\u001B[49m\n\u001B[0;32m   4992\u001B[0m \u001B[38;5;66;03m# If we've made a copy once, no need to make another one\u001B[39;00m\n\u001B[0;32m   4993\u001B[0m copy \u001B[38;5;241m=\u001B[39m \u001B[38;5;28;01mFalse\u001B[39;00m\n",
      "File \u001B[1;32m~\\anaconda3\\lib\\site-packages\\pandas\\core\\generic.py:5032\u001B[0m, in \u001B[0;36mNDFrame._reindex_with_indexers\u001B[1;34m(self, reindexers, fill_value, copy, allow_dups)\u001B[0m\n\u001B[0;32m   5029\u001B[0m     indexer \u001B[38;5;241m=\u001B[39m ensure_platform_int(indexer)\n\u001B[0;32m   5031\u001B[0m \u001B[38;5;66;03m# TODO: speed up on homogeneous DataFrame objects (see _reindex_multi)\u001B[39;00m\n\u001B[1;32m-> 5032\u001B[0m new_data \u001B[38;5;241m=\u001B[39m \u001B[43mnew_data\u001B[49m\u001B[38;5;241;43m.\u001B[39;49m\u001B[43mreindex_indexer\u001B[49m\u001B[43m(\u001B[49m\n\u001B[0;32m   5033\u001B[0m \u001B[43m    \u001B[49m\u001B[43mindex\u001B[49m\u001B[43m,\u001B[49m\n\u001B[0;32m   5034\u001B[0m \u001B[43m    \u001B[49m\u001B[43mindexer\u001B[49m\u001B[43m,\u001B[49m\n\u001B[0;32m   5035\u001B[0m \u001B[43m    \u001B[49m\u001B[43maxis\u001B[49m\u001B[38;5;241;43m=\u001B[39;49m\u001B[43mbaxis\u001B[49m\u001B[43m,\u001B[49m\n\u001B[0;32m   5036\u001B[0m \u001B[43m    \u001B[49m\u001B[43mfill_value\u001B[49m\u001B[38;5;241;43m=\u001B[39;49m\u001B[43mfill_value\u001B[49m\u001B[43m,\u001B[49m\n\u001B[0;32m   5037\u001B[0m \u001B[43m    \u001B[49m\u001B[43mallow_dups\u001B[49m\u001B[38;5;241;43m=\u001B[39;49m\u001B[43mallow_dups\u001B[49m\u001B[43m,\u001B[49m\n\u001B[0;32m   5038\u001B[0m \u001B[43m    \u001B[49m\u001B[43mcopy\u001B[49m\u001B[38;5;241;43m=\u001B[39;49m\u001B[43mcopy\u001B[49m\u001B[43m,\u001B[49m\n\u001B[0;32m   5039\u001B[0m \u001B[43m\u001B[49m\u001B[43m)\u001B[49m\n\u001B[0;32m   5040\u001B[0m \u001B[38;5;66;03m# If we've made a copy once, no need to make another one\u001B[39;00m\n\u001B[0;32m   5041\u001B[0m copy \u001B[38;5;241m=\u001B[39m \u001B[38;5;28;01mFalse\u001B[39;00m\n",
      "File \u001B[1;32m~\\anaconda3\\lib\\site-packages\\pandas\\core\\internals\\managers.py:679\u001B[0m, in \u001B[0;36mBaseBlockManager.reindex_indexer\u001B[1;34m(self, new_axis, indexer, axis, fill_value, allow_dups, copy, consolidate, only_slice, use_na_proxy)\u001B[0m\n\u001B[0;32m    677\u001B[0m \u001B[38;5;66;03m# some axes don't allow reindexing with dups\u001B[39;00m\n\u001B[0;32m    678\u001B[0m \u001B[38;5;28;01mif\u001B[39;00m \u001B[38;5;129;01mnot\u001B[39;00m allow_dups:\n\u001B[1;32m--> 679\u001B[0m     \u001B[38;5;28;43mself\u001B[39;49m\u001B[38;5;241;43m.\u001B[39;49m\u001B[43maxes\u001B[49m\u001B[43m[\u001B[49m\u001B[43maxis\u001B[49m\u001B[43m]\u001B[49m\u001B[38;5;241;43m.\u001B[39;49m\u001B[43m_validate_can_reindex\u001B[49m\u001B[43m(\u001B[49m\u001B[43mindexer\u001B[49m\u001B[43m)\u001B[49m\n\u001B[0;32m    681\u001B[0m \u001B[38;5;28;01mif\u001B[39;00m axis \u001B[38;5;241m>\u001B[39m\u001B[38;5;241m=\u001B[39m \u001B[38;5;28mself\u001B[39m\u001B[38;5;241m.\u001B[39mndim:\n\u001B[0;32m    682\u001B[0m     \u001B[38;5;28;01mraise\u001B[39;00m \u001B[38;5;167;01mIndexError\u001B[39;00m(\u001B[38;5;124m\"\u001B[39m\u001B[38;5;124mRequested axis not found in manager\u001B[39m\u001B[38;5;124m\"\u001B[39m)\n",
      "File \u001B[1;32m~\\anaconda3\\lib\\site-packages\\pandas\\core\\indexes\\base.py:4107\u001B[0m, in \u001B[0;36mIndex._validate_can_reindex\u001B[1;34m(self, indexer)\u001B[0m\n\u001B[0;32m   4105\u001B[0m \u001B[38;5;66;03m# trying to reindex on an axis with duplicates\u001B[39;00m\n\u001B[0;32m   4106\u001B[0m \u001B[38;5;28;01mif\u001B[39;00m \u001B[38;5;129;01mnot\u001B[39;00m \u001B[38;5;28mself\u001B[39m\u001B[38;5;241m.\u001B[39m_index_as_unique \u001B[38;5;129;01mand\u001B[39;00m \u001B[38;5;28mlen\u001B[39m(indexer):\n\u001B[1;32m-> 4107\u001B[0m     \u001B[38;5;28;01mraise\u001B[39;00m \u001B[38;5;167;01mValueError\u001B[39;00m(\u001B[38;5;124m\"\u001B[39m\u001B[38;5;124mcannot reindex on an axis with duplicate labels\u001B[39m\u001B[38;5;124m\"\u001B[39m)\n",
      "\u001B[1;31mValueError\u001B[0m: cannot reindex on an axis with duplicate labels"
     ]
    },
    {
     "data": {
      "text/plain": "<Figure size 720x576 with 1 Axes>",
      "image/png": "[encoded data removed]"
     },
     "metadata": {
      "needs_background": "light"
     },
     "output_type": "display_data"
    }
   ],
   "source": [
    "# Plot of distribution of time in days for permit types\n",
    "plt.figure(figsize=(10,8))\n",
    "\n",
    "# Plot each permit type\n",
    "for p_type in types:\n",
    "    \n",
    "    # Select the permit type\n",
    "    subset = Pmtsdata[Pmtsdata['Permit Type'] == p_type]\n",
    "    \n",
    "    # Density plot of Energy Star scores\n",
    "    sns.kdeplot(subset['Time_in_Days'],\n",
    "               label = p_type, shade = False, alpha = 0.8);\n",
    "    \n",
    "# label the plot\n",
    "plt.xlabel('Time in Days', size = 8); plt.ylabel('Density', size = 8); \n",
    "plt.title('Density Plot of Time in Days by Permit Type', size = 8);"
   ]
  },
  {
   "cell_type": "code",
   "execution_count": null,
   "metadata": {
    "execution": {
     "iopub.execute_input": "2020-11-16T12:51:27.090458Z",
     "iopub.status.busy": "2020-11-16T12:51:27.089588Z",
     "iopub.status.idle": "2020-11-16T12:51:27.093651Z",
     "shell.execute_reply": "2020-11-16T12:51:27.093014Z"
    },
    "papermill": {
     "duration": 0.14407,
     "end_time": "2020-11-16T12:51:27.093780",
     "exception": false,
     "start_time": "2020-11-16T12:51:26.949710",
     "status": "completed"
    },
    "tags": [],
    "pycharm": {
     "name": "#%%\n"
    }
   },
   "outputs": [],
   "source": [
    "cat_col = ['Permit Type','Street Number','Existing Construction Type','Zipcode','Supervisor District']"
   ]
  },
  {
   "cell_type": "code",
   "execution_count": null,
   "metadata": {
    "execution": {
     "iopub.execute_input": "2020-11-16T12:51:27.542680Z",
     "iopub.status.busy": "2020-11-16T12:51:27.541582Z",
     "iopub.status.idle": "2020-11-16T12:51:27.719322Z",
     "shell.execute_reply": "2020-11-16T12:51:27.718541Z"
    },
    "papermill": {
     "duration": 0.490695,
     "end_time": "2020-11-16T12:51:27.719452",
     "exception": false,
     "start_time": "2020-11-16T12:51:27.228757",
     "status": "completed"
    },
    "tags": [],
    "pycharm": {
     "name": "#%%\n"
    }
   },
   "outputs": [],
   "source": [
    "Pmtsdata[cat_col]=Pmtsdata[cat_col].astype('str')"
   ]
  },
  {
   "cell_type": "code",
   "execution_count": 72,
   "metadata": {
    "execution": {
     "iopub.execute_input": "2020-11-16T12:51:28.000644Z",
     "iopub.status.busy": "2020-11-16T12:51:27.999815Z",
     "iopub.status.idle": "2020-11-16T12:51:28.005838Z",
     "shell.execute_reply": "2020-11-16T12:51:28.005087Z"
    },
    "papermill": {
     "duration": 0.150289,
     "end_time": "2020-11-16T12:51:28.005971",
     "exception": false,
     "start_time": "2020-11-16T12:51:27.855682",
     "status": "completed"
    },
    "tags": [],
    "pycharm": {
     "name": "#%%\n"
    }
   },
   "outputs": [
    {
     "data": {
      "text/plain": "Permit Type                                        int64\nPermit Type Definition                            object\nPermit Creation Date                              object\nBlock                                             object\nLot                                               object\nStreet Number                                      int64\nStreet Name                                       object\nStreet Suffix                                     object\nDescription                                       object\nCurrent Status                                    object\nCurrent Status Date                               object\nFiled Date                                datetime64[ns]\nIssued Date                               datetime64[ns]\nCompleted Date                                    object\nFirst Construction Document Date                  object\nNumber of Existing Stories                       float64\nNumber of Proposed Stories                       float64\nPermit Expiration Date                            object\nEstimated Cost                                   float64\nRevised Cost                                     float64\nExisting Use                                      object\nExisting Units                                   float64\nProposed Use                                      object\nProposed Units                                   float64\nPlansets                                         float64\nExisting Construction Type                       float64\nExisting Construction Type Description            object\nProposed Construction Type                       float64\nProposed Construction Type Description            object\nSupervisor District                              float64\nNeighborhoods - Analysis Boundaries               object\nZipcode                                          float64\nLocation                                          object\nRecord ID                                          int64\nTime_in_Days                                       int64\ndtype: object"
     },
     "execution_count": 72,
     "metadata": {},
     "output_type": "execute_result"
    }
   ],
   "source": [
    "Pmtsdata.dtypes # to verify that our data types"
   ]
  },
  {
   "cell_type": "markdown",
   "metadata": {
    "papermill": {
     "duration": 0.134952,
     "end_time": "2020-11-16T12:51:28.276298",
     "exception": false,
     "start_time": "2020-11-16T12:51:28.141346",
     "status": "completed"
    },
    "tags": [],
    "pycharm": {
     "name": "#%% md\n"
    }
   },
   "source": [
    "**Dropping of Filed Date and Issued dates since they are nolonger informative in our modelling,\n",
    "We drop Record ID since  we already have a unique record identifier,\n",
    "we also drop locationn since it's not so informative as we already have a supervisor district which gives us a hint on the area the building is located,\n",
    "we also drop columns that could be colinear to other columns in the data and hence lead to overfitting\n",
    "These include:Number of existing stories,estimated cost,existing units**"
   ]
  },
  {
   "cell_type": "code",
   "execution_count": 73,
   "metadata": {
    "execution": {
     "iopub.execute_input": "2020-11-16T12:51:28.570198Z",
     "iopub.status.busy": "2020-11-16T12:51:28.569058Z",
     "iopub.status.idle": "2020-11-16T12:51:28.625098Z",
     "shell.execute_reply": "2020-11-16T12:51:28.624430Z"
    },
    "papermill": {
     "duration": 0.199964,
     "end_time": "2020-11-16T12:51:28.625225",
     "exception": false,
     "start_time": "2020-11-16T12:51:28.425261",
     "status": "completed"
    },
    "tags": [],
    "pycharm": {
     "name": "#%%\n"
    }
   },
   "outputs": [],
   "source": [
    "Pmtsdata.drop(columns =list(['Filed Date','Issued Date','Record ID','Location',\n",
    "                           'Number of Existing Stories','Estimated Cost',\n",
    "                           'Existing Units','Current Status']),axis=1,inplace=True) "
   ]
  },
  {
   "cell_type": "code",
   "execution_count": 74,
   "metadata": {
    "execution": {
     "iopub.execute_input": "2020-11-16T12:51:28.944624Z",
     "iopub.status.busy": "2020-11-16T12:51:28.943346Z",
     "iopub.status.idle": "2020-11-16T12:51:28.947395Z",
     "shell.execute_reply": "2020-11-16T12:51:28.947969Z"
    },
    "papermill": {
     "duration": 0.176632,
     "end_time": "2020-11-16T12:51:28.948120",
     "exception": false,
     "start_time": "2020-11-16T12:51:28.771488",
     "status": "completed"
    },
    "tags": [],
    "pycharm": {
     "name": "#%%\n"
    }
   },
   "outputs": [
    {
     "data": {
      "text/plain": "               Permit Type  Permit Type Definition Permit Creation Date Block  \\\nPermit Number                                                                   \n201611072166             8  otc alterations permit           11/07/2016  0156   \n\n               Lot  Street Number Street Name Street Suffix  \\\nPermit Number                                                 \n201611072166   011           1230     Pacific            Av   \n\n                                            Description Current Status Date  \\\nPermit Number                                                                 \n201611072166   repair dryrot & stucco at front of bldg.          07/24/2017   \n\n              Completed Date First Construction Document Date  \\\nPermit Number                                                   \n201611072166      07/24/2017                       07/18/2017   \n\n               Number of Proposed Stories Permit Expiration Date  \\\nPermit Number                                                      \n201611072166                          2.0             07/13/2018   \n\n               Revised Cost       Existing Use       Proposed Use  \\\nPermit Number                                                       \n201611072166         2000.0  1 family dwelling  1 family dwelling   \n\n               Proposed Units  Plansets  Existing Construction Type  \\\nPermit Number                                                         \n201611072166              1.0       2.0                         5.0   \n\n              Existing Construction Type Description  \\\nPermit Number                                          \n201611072166                          wood frame (5)   \n\n               Proposed Construction Type  \\\nPermit Number                               \n201611072166                          5.0   \n\n              Proposed Construction Type Description  Supervisor District  \\\nPermit Number                                                               \n201611072166                          wood frame (5)                  3.0   \n\n              Neighborhoods - Analysis Boundaries  Zipcode  Time_in_Days  \nPermit Number                                                             \n201611072166                             Nob Hill  94109.0           253  ",
      "text/html": "<div>\n<style scoped>\n    .dataframe tbody tr th:only-of-type {\n        vertical-align: middle;\n    }\n\n    .dataframe tbody tr th {\n        vertical-align: top;\n    }\n\n    .dataframe thead th {\n        text-align: right;\n    }\n</style>\n<table border=\"1\" class=\"dataframe\">\n  <thead>\n    <tr style=\"text-align: right;\">\n      <th></th>\n      <th>Permit Type</th>\n      <th>Permit Type Definition</th>\n      <th>Permit Creation Date</th>\n      <th>Block</th>\n      <th>Lot</th>\n      <th>Street Number</th>\n      <th>Street Name</th>\n      <th>Street Suffix</th>\n      <th>Description</th>\n      <th>Current Status Date</th>\n      <th>Completed Date</th>\n      <th>First Construction Document Date</th>\n      <th>Number of Proposed Stories</th>\n      <th>Permit Expiration Date</th>\n      <th>Revised Cost</th>\n      <th>Existing Use</th>\n      <th>Proposed Use</th>\n      <th>Proposed Units</th>\n      <th>Plansets</th>\n      <th>Existing Construction Type</th>\n      <th>Existing Construction Type Description</th>\n      <th>Proposed Construction Type</th>\n      <th>Proposed Construction Type Description</th>\n      <th>Supervisor District</th>\n      <th>Neighborhoods - Analysis Boundaries</th>\n      <th>Zipcode</th>\n      <th>Time_in_Days</th>\n    </tr>\n    <tr>\n      <th>Permit Number</th>\n      <th></th>\n      <th></th>\n      <th></th>\n      <th></th>\n      <th></th>\n      <th></th>\n      <th></th>\n      <th></th>\n      <th></th>\n      <th></th>\n      <th></th>\n      <th></th>\n      <th></th>\n      <th></th>\n      <th></th>\n      <th></th>\n      <th></th>\n      <th></th>\n      <th></th>\n      <th></th>\n      <th></th>\n      <th></th>\n      <th></th>\n      <th></th>\n      <th></th>\n      <th></th>\n      <th></th>\n    </tr>\n  </thead>\n  <tbody>\n    <tr>\n      <th>201611072166</th>\n      <td>8</td>\n      <td>otc alterations permit</td>\n      <td>11/07/2016</td>\n      <td>0156</td>\n      <td>011</td>\n      <td>1230</td>\n      <td>Pacific</td>\n      <td>Av</td>\n      <td>repair dryrot &amp; stucco at front of bldg.</td>\n      <td>07/24/2017</td>\n      <td>07/24/2017</td>\n      <td>07/18/2017</td>\n      <td>2.0</td>\n      <td>07/13/2018</td>\n      <td>2000.0</td>\n      <td>1 family dwelling</td>\n      <td>1 family dwelling</td>\n      <td>1.0</td>\n      <td>2.0</td>\n      <td>5.0</td>\n      <td>wood frame (5)</td>\n      <td>5.0</td>\n      <td>wood frame (5)</td>\n      <td>3.0</td>\n      <td>Nob Hill</td>\n      <td>94109.0</td>\n      <td>253</td>\n    </tr>\n  </tbody>\n</table>\n</div>"
     },
     "execution_count": 74,
     "metadata": {},
     "output_type": "execute_result"
    }
   ],
   "source": [
    "Pmtsdata.head(1)# shows that we have dropped the above mentioned columns."
   ]
  },
  {
   "cell_type": "code",
   "execution_count": 75,
   "metadata": {
    "execution": {
     "iopub.execute_input": "2020-11-16T12:51:29.233398Z",
     "iopub.status.busy": "2020-11-16T12:51:29.232425Z",
     "iopub.status.idle": "2020-11-16T12:51:29.237132Z",
     "shell.execute_reply": "2020-11-16T12:51:29.236552Z"
    },
    "papermill": {
     "duration": 0.148114,
     "end_time": "2020-11-16T12:51:29.237270",
     "exception": false,
     "start_time": "2020-11-16T12:51:29.089156",
     "status": "completed"
    },
    "tags": [],
    "pycharm": {
     "name": "#%%\n"
    }
   },
   "outputs": [
    {
     "data": {
      "text/plain": "(60597, 27)"
     },
     "execution_count": 75,
     "metadata": {},
     "output_type": "execute_result"
    }
   ],
   "source": [
    "Pmtsdata.shape"
   ]
  },
  {
   "cell_type": "code",
   "execution_count": 76,
   "metadata": {
    "execution": {
     "iopub.execute_input": "2020-11-16T12:51:29.520487Z",
     "iopub.status.busy": "2020-11-16T12:51:29.519695Z",
     "iopub.status.idle": "2020-11-16T12:51:29.535984Z",
     "shell.execute_reply": "2020-11-16T12:51:29.535194Z"
    },
    "papermill": {
     "duration": 0.160664,
     "end_time": "2020-11-16T12:51:29.536114",
     "exception": false,
     "start_time": "2020-11-16T12:51:29.375450",
     "status": "completed"
    },
    "tags": [],
    "pycharm": {
     "name": "#%%\n"
    }
   },
   "outputs": [],
   "source": [
    "y=pd.DataFrame(Pmtsdata['Time_in_Days'])\n",
    "X =Pmtsdata.drop(['Time_in_Days'],axis=1)"
   ]
  },
  {
   "cell_type": "code",
   "execution_count": 77,
   "metadata": {
    "execution": {
     "iopub.execute_input": "2020-11-16T12:51:29.823893Z",
     "iopub.status.busy": "2020-11-16T12:51:29.822872Z",
     "iopub.status.idle": "2020-11-16T12:51:30.000980Z",
     "shell.execute_reply": "2020-11-16T12:51:30.000308Z"
    },
    "papermill": {
     "duration": 0.327173,
     "end_time": "2020-11-16T12:51:30.001109",
     "exception": false,
     "start_time": "2020-11-16T12:51:29.673936",
     "status": "completed"
    },
    "tags": [],
    "pycharm": {
     "name": "#%%\n"
    }
   },
   "outputs": [],
   "source": [
    "# \"Cardinality\" means the number of unique values in a column\n",
    "# Select categorical columns with relatively low cardinality\n",
    "categorical_cols = [cname for cname in X.columns \n",
    "                    if X[cname].nunique() < 10 and X[cname].dtype == \"object\"]"
   ]
  },
  {
   "cell_type": "code",
   "execution_count": 78,
   "metadata": {
    "execution": {
     "iopub.execute_input": "2020-11-16T12:51:30.283032Z",
     "iopub.status.busy": "2020-11-16T12:51:30.282227Z",
     "iopub.status.idle": "2020-11-16T12:51:30.369101Z",
     "shell.execute_reply": "2020-11-16T12:51:30.368351Z"
    },
    "papermill": {
     "duration": 0.229326,
     "end_time": "2020-11-16T12:51:30.369257",
     "exception": false,
     "start_time": "2020-11-16T12:51:30.139931",
     "status": "completed"
    },
    "tags": [],
    "pycharm": {
     "name": "#%%\n"
    }
   },
   "outputs": [],
   "source": [
    "categorical_colsOH= pd.get_dummies(X[categorical_cols])"
   ]
  },
  {
   "cell_type": "code",
   "execution_count": 79,
   "metadata": {
    "execution": {
     "iopub.execute_input": "2020-11-16T12:51:30.692619Z",
     "iopub.status.busy": "2020-11-16T12:51:30.691630Z",
     "iopub.status.idle": "2020-11-16T12:51:30.696731Z",
     "shell.execute_reply": "2020-11-16T12:51:30.696055Z"
    },
    "papermill": {
     "duration": 0.147753,
     "end_time": "2020-11-16T12:51:30.696855",
     "exception": false,
     "start_time": "2020-11-16T12:51:30.549102",
     "status": "completed"
    },
    "tags": [],
    "pycharm": {
     "name": "#%%\n"
    }
   },
   "outputs": [
    {
     "data": {
      "text/plain": "(60597, 13)"
     },
     "execution_count": 79,
     "metadata": {},
     "output_type": "execute_result"
    }
   ],
   "source": [
    "categorical_colsOH.shape"
   ]
  },
  {
   "cell_type": "code",
   "execution_count": 80,
   "metadata": {
    "execution": {
     "iopub.execute_input": "2020-11-16T12:51:30.999169Z",
     "iopub.status.busy": "2020-11-16T12:51:30.998315Z",
     "iopub.status.idle": "2020-11-16T12:51:31.003495Z",
     "shell.execute_reply": "2020-11-16T12:51:31.002905Z"
    },
    "papermill": {
     "duration": 0.165417,
     "end_time": "2020-11-16T12:51:31.003621",
     "exception": false,
     "start_time": "2020-11-16T12:51:30.838204",
     "status": "completed"
    },
    "tags": [],
    "pycharm": {
     "name": "#%%\n"
    }
   },
   "outputs": [
    {
     "data": {
      "text/plain": "               Permit Type Definition_additions alterations or repairs  \\\nPermit Number                                                            \n201611072166                                                   0         \n201710110928                                                   0         \n201408254591                                                   0         \n201604064066                                                   0         \n201609097214                                                   0         \n\n               Permit Type Definition_new construction wood frame  \\\nPermit Number                                                       \n201611072166                                                   0    \n201710110928                                                   0    \n201408254591                                                   0    \n201604064066                                                   0    \n201609097214                                                   0    \n\n               Permit Type Definition_otc alterations permit  \\\nPermit Number                                                  \n201611072166                                               1   \n201710110928                                               1   \n201408254591                                               1   \n201604064066                                               1   \n201609097214                                               1   \n\n               Existing Construction Type Description_constr type 1  \\\nPermit Number                                                         \n201611072166                                                   0      \n201710110928                                                   0      \n201408254591                                                   0      \n201604064066                                                   0      \n201609097214                                                   0      \n\n               Existing Construction Type Description_constr type 2  \\\nPermit Number                                                         \n201611072166                                                   0      \n201710110928                                                   0      \n201408254591                                                   0      \n201604064066                                                   0      \n201609097214                                                   0      \n\n               Existing Construction Type Description_constr type 3  \\\nPermit Number                                                         \n201611072166                                                   0      \n201710110928                                                   0      \n201408254591                                                   0      \n201604064066                                                   0      \n201609097214                                                   0      \n\n               Existing Construction Type Description_constr type 4  \\\nPermit Number                                                         \n201611072166                                                   0      \n201710110928                                                   0      \n201408254591                                                   0      \n201604064066                                                   0      \n201609097214                                                   0      \n\n               Existing Construction Type Description_wood frame (5)  \\\nPermit Number                                                          \n201611072166                                                   1       \n201710110928                                                   1       \n201408254591                                                   1       \n201604064066                                                   1       \n201609097214                                                   1       \n\n               Proposed Construction Type Description_constr type 1  \\\nPermit Number                                                         \n201611072166                                                   0      \n201710110928                                                   0      \n201408254591                                                   0      \n201604064066                                                   0      \n201609097214                                                   0      \n\n               Proposed Construction Type Description_constr type 2  \\\nPermit Number                                                         \n201611072166                                                   0      \n201710110928                                                   0      \n201408254591                                                   0      \n201604064066                                                   0      \n201609097214                                                   0      \n\n               Proposed Construction Type Description_constr type 3  \\\nPermit Number                                                         \n201611072166                                                   0      \n201710110928                                                   0      \n201408254591                                                   0      \n201604064066                                                   0      \n201609097214                                                   0      \n\n               Proposed Construction Type Description_constr type 4  \\\nPermit Number                                                         \n201611072166                                                   0      \n201710110928                                                   0      \n201408254591                                                   0      \n201604064066                                                   0      \n201609097214                                                   0      \n\n               Proposed Construction Type Description_wood frame (5)  \nPermit Number                                                         \n201611072166                                                   1      \n201710110928                                                   1      \n201408254591                                                   1      \n201604064066                                                   1      \n201609097214                                                   1      ",
      "text/html": "<div>\n<style scoped>\n    .dataframe tbody tr th:only-of-type {\n        vertical-align: middle;\n    }\n\n    .dataframe tbody tr th {\n        vertical-align: top;\n    }\n\n    .dataframe thead th {\n        text-align: right;\n    }\n</style>\n<table border=\"1\" class=\"dataframe\">\n  <thead>\n    <tr style=\"text-align: right;\">\n      <th></th>\n      <th>Permit Type Definition_additions alterations or repairs</th>\n      <th>Permit Type Definition_new construction wood frame</th>\n      <th>Permit Type Definition_otc alterations permit</th>\n      <th>Existing Construction Type Description_constr type 1</th>\n      <th>Existing Construction Type Description_constr type 2</th>\n      <th>Existing Construction Type Description_constr type 3</th>\n      <th>Existing Construction Type Description_constr type 4</th>\n      <th>Existing Construction Type Description_wood frame (5)</th>\n      <th>Proposed Construction Type Description_constr type 1</th>\n      <th>Proposed Construction Type Description_constr type 2</th>\n      <th>Proposed Construction Type Description_constr type 3</th>\n      <th>Proposed Construction Type Description_constr type 4</th>\n      <th>Proposed Construction Type Description_wood frame (5)</th>\n    </tr>\n    <tr>\n      <th>Permit Number</th>\n      <th></th>\n      <th></th>\n      <th></th>\n      <th></th>\n      <th></th>\n      <th></th>\n      <th></th>\n      <th></th>\n      <th></th>\n      <th></th>\n      <th></th>\n      <th></th>\n      <th></th>\n    </tr>\n  </thead>\n  <tbody>\n    <tr>\n      <th>201611072166</th>\n      <td>0</td>\n      <td>0</td>\n      <td>1</td>\n      <td>0</td>\n      <td>0</td>\n      <td>0</td>\n      <td>0</td>\n      <td>1</td>\n      <td>0</td>\n      <td>0</td>\n      <td>0</td>\n      <td>0</td>\n      <td>1</td>\n    </tr>\n    <tr>\n      <th>201710110928</th>\n      <td>0</td>\n      <td>0</td>\n      <td>1</td>\n      <td>0</td>\n      <td>0</td>\n      <td>0</td>\n      <td>0</td>\n      <td>1</td>\n      <td>0</td>\n      <td>0</td>\n      <td>0</td>\n      <td>0</td>\n      <td>1</td>\n    </tr>\n    <tr>\n      <th>201408254591</th>\n      <td>0</td>\n      <td>0</td>\n      <td>1</td>\n      <td>0</td>\n      <td>0</td>\n      <td>0</td>\n      <td>0</td>\n      <td>1</td>\n      <td>0</td>\n      <td>0</td>\n      <td>0</td>\n      <td>0</td>\n      <td>1</td>\n    </tr>\n    <tr>\n      <th>201604064066</th>\n      <td>0</td>\n      <td>0</td>\n      <td>1</td>\n      <td>0</td>\n      <td>0</td>\n      <td>0</td>\n      <td>0</td>\n      <td>1</td>\n      <td>0</td>\n      <td>0</td>\n      <td>0</td>\n      <td>0</td>\n      <td>1</td>\n    </tr>\n    <tr>\n      <th>201609097214</th>\n      <td>0</td>\n      <td>0</td>\n      <td>1</td>\n      <td>0</td>\n      <td>0</td>\n      <td>0</td>\n      <td>0</td>\n      <td>1</td>\n      <td>0</td>\n      <td>0</td>\n      <td>0</td>\n      <td>0</td>\n      <td>1</td>\n    </tr>\n  </tbody>\n</table>\n</div>"
     },
     "execution_count": 80,
     "metadata": {},
     "output_type": "execute_result"
    }
   ],
   "source": [
    "categorical_colsOH.head()"
   ]
  },
  {
   "cell_type": "code",
   "execution_count": 81,
   "metadata": {
    "execution": {
     "iopub.execute_input": "2020-11-16T12:51:31.293101Z",
     "iopub.status.busy": "2020-11-16T12:51:31.292375Z",
     "iopub.status.idle": "2020-11-16T12:51:31.396223Z",
     "shell.execute_reply": "2020-11-16T12:51:31.395453Z"
    },
    "papermill": {
     "duration": 0.253521,
     "end_time": "2020-11-16T12:51:31.396386",
     "exception": false,
     "start_time": "2020-11-16T12:51:31.142865",
     "status": "completed"
    },
    "tags": [],
    "pycharm": {
     "name": "#%%\n"
    }
   },
   "outputs": [],
   "source": [
    "from sklearn.preprocessing import  StandardScaler\n",
    "# Select numerical columns\n",
    "numerical_cols = [cname for cname in X.columns \n",
    "                  if X[cname].dtype in ['int64', 'float64']]\n",
    "\n",
    "scaler = StandardScaler()\n",
    "X[numerical_cols] = scaler.fit_transform(X[numerical_cols] )"
   ]
  },
  {
   "cell_type": "code",
   "execution_count": 82,
   "metadata": {
    "execution": {
     "iopub.execute_input": "2020-11-16T12:51:31.683426Z",
     "iopub.status.busy": "2020-11-16T12:51:31.682656Z",
     "iopub.status.idle": "2020-11-16T12:51:31.698064Z",
     "shell.execute_reply": "2020-11-16T12:51:31.697347Z"
    },
    "papermill": {
     "duration": 0.161259,
     "end_time": "2020-11-16T12:51:31.698184",
     "exception": false,
     "start_time": "2020-11-16T12:51:31.536925",
     "status": "completed"
    },
    "tags": [],
    "pycharm": {
     "name": "#%%\n"
    }
   },
   "outputs": [
    {
     "data": {
      "text/plain": "Permit Type                  -5.882186\nStreet Number                 1.454378\nNumber of Proposed Stories    3.948103\nRevised Cost                  1.811621\nProposed Units                0.772550\nPlansets                      0.090495\nExisting Construction Type   -1.927534\nProposed Construction Type   -1.927197\nSupervisor District          -0.070146\nZipcode                       0.589472\ndtype: float64"
     },
     "execution_count": 82,
     "metadata": {},
     "output_type": "execute_result"
    }
   ],
   "source": [
    "#The code below shows that the numerical columns have minimum skewness.\n",
    "X[numerical_cols].skew(axis=0)"
   ]
  },
  {
   "cell_type": "code",
   "execution_count": 83,
   "metadata": {
    "execution": {
     "iopub.execute_input": "2020-11-16T12:51:31.989319Z",
     "iopub.status.busy": "2020-11-16T12:51:31.988364Z",
     "iopub.status.idle": "2020-11-16T12:51:31.991554Z",
     "shell.execute_reply": "2020-11-16T12:51:31.990833Z"
    },
    "papermill": {
     "duration": 0.152563,
     "end_time": "2020-11-16T12:51:31.991688",
     "exception": false,
     "start_time": "2020-11-16T12:51:31.839125",
     "status": "completed"
    },
    "tags": [],
    "pycharm": {
     "name": "#%%\n"
    }
   },
   "outputs": [],
   "source": [
    "numerical_data = pd.DataFrame(X[numerical_cols])"
   ]
  },
  {
   "cell_type": "code",
   "execution_count": 84,
   "metadata": {
    "execution": {
     "iopub.execute_input": "2020-11-16T12:51:32.285125Z",
     "iopub.status.busy": "2020-11-16T12:51:32.284034Z",
     "iopub.status.idle": "2020-11-16T12:51:32.288809Z",
     "shell.execute_reply": "2020-11-16T12:51:32.288051Z"
    },
    "papermill": {
     "duration": 0.156994,
     "end_time": "2020-11-16T12:51:32.288934",
     "exception": false,
     "start_time": "2020-11-16T12:51:32.131940",
     "status": "completed"
    },
    "tags": [],
    "pycharm": {
     "name": "#%%\n"
    }
   },
   "outputs": [
    {
     "data": {
      "text/plain": "               Permit Type  Street Number  Number of Proposed Stories  \\\nPermit Number                                                           \n201611072166      0.165365       0.123829                   -0.348707   \n201710110928      0.165365      -0.130092                   -0.348707   \n201408254591      0.165365      -0.890985                   -0.212318   \n201604064066      0.165365      -0.438797                   -0.348707   \n201609097214      0.165365      -0.692718                   -0.485096   \n\n               Revised Cost  Proposed Units  Plansets  \\\nPermit Number                                           \n201611072166      -0.739745       -0.328465  1.046036   \n201710110928      -0.136529       -0.328465 -0.955848   \n201408254591      -0.815147        2.489731 -0.955848   \n201604064066      -0.428083       -0.328465  1.046036   \n201609097214      -0.347655       -0.328465 -0.955848   \n\n               Existing Construction Type  Proposed Construction Type  \\\nPermit Number                                                           \n201611072166                     0.442387                    0.442471   \n201710110928                     0.442387                    0.442471   \n201408254591                     0.442387                    0.442471   \n201604064066                     0.442387                    0.442471   \n201609097214                     0.442387                    0.442471   \n\n               Supervisor District   Zipcode  \nPermit Number                                 \n201611072166             -0.962523 -0.860161  \n201710110928              1.053794  1.991866  \n201408254591              0.045636 -1.544648  \n201604064066             -1.634629  0.508812  \n201609097214              0.381689  1.763704  ",
      "text/html": "<div>\n<style scoped>\n    .dataframe tbody tr th:only-of-type {\n        vertical-align: middle;\n    }\n\n    .dataframe tbody tr th {\n        vertical-align: top;\n    }\n\n    .dataframe thead th {\n        text-align: right;\n    }\n</style>\n<table border=\"1\" class=\"dataframe\">\n  <thead>\n    <tr style=\"text-align: right;\">\n      <th></th>\n      <th>Permit Type</th>\n      <th>Street Number</th>\n      <th>Number of Proposed Stories</th>\n      <th>Revised Cost</th>\n      <th>Proposed Units</th>\n      <th>Plansets</th>\n      <th>Existing Construction Type</th>\n      <th>Proposed Construction Type</th>\n      <th>Supervisor District</th>\n      <th>Zipcode</th>\n    </tr>\n    <tr>\n      <th>Permit Number</th>\n      <th></th>\n      <th></th>\n      <th></th>\n      <th></th>\n      <th></th>\n      <th></th>\n      <th></th>\n      <th></th>\n      <th></th>\n      <th></th>\n    </tr>\n  </thead>\n  <tbody>\n    <tr>\n      <th>201611072166</th>\n      <td>0.165365</td>\n      <td>0.123829</td>\n      <td>-0.348707</td>\n      <td>-0.739745</td>\n      <td>-0.328465</td>\n      <td>1.046036</td>\n      <td>0.442387</td>\n      <td>0.442471</td>\n      <td>-0.962523</td>\n      <td>-0.860161</td>\n    </tr>\n    <tr>\n      <th>201710110928</th>\n      <td>0.165365</td>\n      <td>-0.130092</td>\n      <td>-0.348707</td>\n      <td>-0.136529</td>\n      <td>-0.328465</td>\n      <td>-0.955848</td>\n      <td>0.442387</td>\n      <td>0.442471</td>\n      <td>1.053794</td>\n      <td>1.991866</td>\n    </tr>\n    <tr>\n      <th>201408254591</th>\n      <td>0.165365</td>\n      <td>-0.890985</td>\n      <td>-0.212318</td>\n      <td>-0.815147</td>\n      <td>2.489731</td>\n      <td>-0.955848</td>\n      <td>0.442387</td>\n      <td>0.442471</td>\n      <td>0.045636</td>\n      <td>-1.544648</td>\n    </tr>\n    <tr>\n      <th>201604064066</th>\n      <td>0.165365</td>\n      <td>-0.438797</td>\n      <td>-0.348707</td>\n      <td>-0.428083</td>\n      <td>-0.328465</td>\n      <td>1.046036</td>\n      <td>0.442387</td>\n      <td>0.442471</td>\n      <td>-1.634629</td>\n      <td>0.508812</td>\n    </tr>\n    <tr>\n      <th>201609097214</th>\n      <td>0.165365</td>\n      <td>-0.692718</td>\n      <td>-0.485096</td>\n      <td>-0.347655</td>\n      <td>-0.328465</td>\n      <td>-0.955848</td>\n      <td>0.442387</td>\n      <td>0.442471</td>\n      <td>0.381689</td>\n      <td>1.763704</td>\n    </tr>\n  </tbody>\n</table>\n</div>"
     },
     "execution_count": 84,
     "metadata": {},
     "output_type": "execute_result"
    }
   ],
   "source": [
    "numerical_data.head()# taking a snapshot of the numerical data columns"
   ]
  },
  {
   "cell_type": "code",
   "execution_count": 85,
   "metadata": {
    "execution": {
     "iopub.execute_input": "2020-11-16T12:51:32.587677Z",
     "iopub.status.busy": "2020-11-16T12:51:32.586630Z",
     "iopub.status.idle": "2020-11-16T12:51:32.613088Z",
     "shell.execute_reply": "2020-11-16T12:51:32.612317Z"
    },
    "papermill": {
     "duration": 0.174706,
     "end_time": "2020-11-16T12:51:32.613211",
     "exception": false,
     "start_time": "2020-11-16T12:51:32.438505",
     "status": "completed"
    },
    "tags": [],
    "pycharm": {
     "name": "#%%\n"
    }
   },
   "outputs": [],
   "source": [
    "features =pd.concat([categorical_colsOH, numerical_data],axis=1) "
   ]
  },
  {
   "cell_type": "code",
   "execution_count": 86,
   "metadata": {
    "execution": {
     "iopub.execute_input": "2020-11-16T12:51:32.927637Z",
     "iopub.status.busy": "2020-11-16T12:51:32.926662Z",
     "iopub.status.idle": "2020-11-16T12:51:32.931730Z",
     "shell.execute_reply": "2020-11-16T12:51:32.931046Z"
    },
    "papermill": {
     "duration": 0.177218,
     "end_time": "2020-11-16T12:51:32.931855",
     "exception": false,
     "start_time": "2020-11-16T12:51:32.754637",
     "status": "completed"
    },
    "tags": [],
    "pycharm": {
     "name": "#%%\n"
    }
   },
   "outputs": [
    {
     "data": {
      "text/plain": "               Permit Type Definition_additions alterations or repairs  \\\nPermit Number                                                            \n201611072166                                                   0         \n201710110928                                                   0         \n201408254591                                                   0         \n201604064066                                                   0         \n201609097214                                                   0         \n\n               Permit Type Definition_new construction wood frame  \\\nPermit Number                                                       \n201611072166                                                   0    \n201710110928                                                   0    \n201408254591                                                   0    \n201604064066                                                   0    \n201609097214                                                   0    \n\n               Permit Type Definition_otc alterations permit  \\\nPermit Number                                                  \n201611072166                                               1   \n201710110928                                               1   \n201408254591                                               1   \n201604064066                                               1   \n201609097214                                               1   \n\n               Existing Construction Type Description_constr type 1  \\\nPermit Number                                                         \n201611072166                                                   0      \n201710110928                                                   0      \n201408254591                                                   0      \n201604064066                                                   0      \n201609097214                                                   0      \n\n               Existing Construction Type Description_constr type 2  \\\nPermit Number                                                         \n201611072166                                                   0      \n201710110928                                                   0      \n201408254591                                                   0      \n201604064066                                                   0      \n201609097214                                                   0      \n\n               Existing Construction Type Description_constr type 3  \\\nPermit Number                                                         \n201611072166                                                   0      \n201710110928                                                   0      \n201408254591                                                   0      \n201604064066                                                   0      \n201609097214                                                   0      \n\n               Existing Construction Type Description_constr type 4  \\\nPermit Number                                                         \n201611072166                                                   0      \n201710110928                                                   0      \n201408254591                                                   0      \n201604064066                                                   0      \n201609097214                                                   0      \n\n               Existing Construction Type Description_wood frame (5)  \\\nPermit Number                                                          \n201611072166                                                   1       \n201710110928                                                   1       \n201408254591                                                   1       \n201604064066                                                   1       \n201609097214                                                   1       \n\n               Proposed Construction Type Description_constr type 1  \\\nPermit Number                                                         \n201611072166                                                   0      \n201710110928                                                   0      \n201408254591                                                   0      \n201604064066                                                   0      \n201609097214                                                   0      \n\n               Proposed Construction Type Description_constr type 2  \\\nPermit Number                                                         \n201611072166                                                   0      \n201710110928                                                   0      \n201408254591                                                   0      \n201604064066                                                   0      \n201609097214                                                   0      \n\n               Proposed Construction Type Description_constr type 3  \\\nPermit Number                                                         \n201611072166                                                   0      \n201710110928                                                   0      \n201408254591                                                   0      \n201604064066                                                   0      \n201609097214                                                   0      \n\n               Proposed Construction Type Description_constr type 4  \\\nPermit Number                                                         \n201611072166                                                   0      \n201710110928                                                   0      \n201408254591                                                   0      \n201604064066                                                   0      \n201609097214                                                   0      \n\n               Proposed Construction Type Description_wood frame (5)  \\\nPermit Number                                                          \n201611072166                                                   1       \n201710110928                                                   1       \n201408254591                                                   1       \n201604064066                                                   1       \n201609097214                                                   1       \n\n               Permit Type  Street Number  Number of Proposed Stories  \\\nPermit Number                                                           \n201611072166      0.165365       0.123829                   -0.348707   \n201710110928      0.165365      -0.130092                   -0.348707   \n201408254591      0.165365      -0.890985                   -0.212318   \n201604064066      0.165365      -0.438797                   -0.348707   \n201609097214      0.165365      -0.692718                   -0.485096   \n\n               Revised Cost  Proposed Units  Plansets  \\\nPermit Number                                           \n201611072166      -0.739745       -0.328465  1.046036   \n201710110928      -0.136529       -0.328465 -0.955848   \n201408254591      -0.815147        2.489731 -0.955848   \n201604064066      -0.428083       -0.328465  1.046036   \n201609097214      -0.347655       -0.328465 -0.955848   \n\n               Existing Construction Type  Proposed Construction Type  \\\nPermit Number                                                           \n201611072166                     0.442387                    0.442471   \n201710110928                     0.442387                    0.442471   \n201408254591                     0.442387                    0.442471   \n201604064066                     0.442387                    0.442471   \n201609097214                     0.442387                    0.442471   \n\n               Supervisor District   Zipcode  \nPermit Number                                 \n201611072166             -0.962523 -0.860161  \n201710110928              1.053794  1.991866  \n201408254591              0.045636 -1.544648  \n201604064066             -1.634629  0.508812  \n201609097214              0.381689  1.763704  ",
      "text/html": "<div>\n<style scoped>\n    .dataframe tbody tr th:only-of-type {\n        vertical-align: middle;\n    }\n\n    .dataframe tbody tr th {\n        vertical-align: top;\n    }\n\n    .dataframe thead th {\n        text-align: right;\n    }\n</style>\n<table border=\"1\" class=\"dataframe\">\n  <thead>\n    <tr style=\"text-align: right;\">\n      <th></th>\n      <th>Permit Type Definition_additions alterations or repairs</th>\n      <th>Permit Type Definition_new construction wood frame</th>\n      <th>Permit Type Definition_otc alterations permit</th>\n      <th>Existing Construction Type Description_constr type 1</th>\n      <th>Existing Construction Type Description_constr type 2</th>\n      <th>Existing Construction Type Description_constr type 3</th>\n      <th>Existing Construction Type Description_constr type 4</th>\n      <th>Existing Construction Type Description_wood frame (5)</th>\n      <th>Proposed Construction Type Description_constr type 1</th>\n      <th>Proposed Construction Type Description_constr type 2</th>\n      <th>Proposed Construction Type Description_constr type 3</th>\n      <th>Proposed Construction Type Description_constr type 4</th>\n      <th>Proposed Construction Type Description_wood frame (5)</th>\n      <th>Permit Type</th>\n      <th>Street Number</th>\n      <th>Number of Proposed Stories</th>\n      <th>Revised Cost</th>\n      <th>Proposed Units</th>\n      <th>Plansets</th>\n      <th>Existing Construction Type</th>\n      <th>Proposed Construction Type</th>\n      <th>Supervisor District</th>\n      <th>Zipcode</th>\n    </tr>\n    <tr>\n      <th>Permit Number</th>\n      <th></th>\n      <th></th>\n      <th></th>\n      <th></th>\n      <th></th>\n      <th></th>\n      <th></th>\n      <th></th>\n      <th></th>\n      <th></th>\n      <th></th>\n      <th></th>\n      <th></th>\n      <th></th>\n      <th></th>\n      <th></th>\n      <th></th>\n      <th></th>\n      <th></th>\n      <th></th>\n      <th></th>\n      <th></th>\n      <th></th>\n    </tr>\n  </thead>\n  <tbody>\n    <tr>\n      <th>201611072166</th>\n      <td>0</td>\n      <td>0</td>\n      <td>1</td>\n      <td>0</td>\n      <td>0</td>\n      <td>0</td>\n      <td>0</td>\n      <td>1</td>\n      <td>0</td>\n      <td>0</td>\n      <td>0</td>\n      <td>0</td>\n      <td>1</td>\n      <td>0.165365</td>\n      <td>0.123829</td>\n      <td>-0.348707</td>\n      <td>-0.739745</td>\n      <td>-0.328465</td>\n      <td>1.046036</td>\n      <td>0.442387</td>\n      <td>0.442471</td>\n      <td>-0.962523</td>\n      <td>-0.860161</td>\n    </tr>\n    <tr>\n      <th>201710110928</th>\n      <td>0</td>\n      <td>0</td>\n      <td>1</td>\n      <td>0</td>\n      <td>0</td>\n      <td>0</td>\n      <td>0</td>\n      <td>1</td>\n      <td>0</td>\n      <td>0</td>\n      <td>0</td>\n      <td>0</td>\n      <td>1</td>\n      <td>0.165365</td>\n      <td>-0.130092</td>\n      <td>-0.348707</td>\n      <td>-0.136529</td>\n      <td>-0.328465</td>\n      <td>-0.955848</td>\n      <td>0.442387</td>\n      <td>0.442471</td>\n      <td>1.053794</td>\n      <td>1.991866</td>\n    </tr>\n    <tr>\n      <th>201408254591</th>\n      <td>0</td>\n      <td>0</td>\n      <td>1</td>\n      <td>0</td>\n      <td>0</td>\n      <td>0</td>\n      <td>0</td>\n      <td>1</td>\n      <td>0</td>\n      <td>0</td>\n      <td>0</td>\n      <td>0</td>\n      <td>1</td>\n      <td>0.165365</td>\n      <td>-0.890985</td>\n      <td>-0.212318</td>\n      <td>-0.815147</td>\n      <td>2.489731</td>\n      <td>-0.955848</td>\n      <td>0.442387</td>\n      <td>0.442471</td>\n      <td>0.045636</td>\n      <td>-1.544648</td>\n    </tr>\n    <tr>\n      <th>201604064066</th>\n      <td>0</td>\n      <td>0</td>\n      <td>1</td>\n      <td>0</td>\n      <td>0</td>\n      <td>0</td>\n      <td>0</td>\n      <td>1</td>\n      <td>0</td>\n      <td>0</td>\n      <td>0</td>\n      <td>0</td>\n      <td>1</td>\n      <td>0.165365</td>\n      <td>-0.438797</td>\n      <td>-0.348707</td>\n      <td>-0.428083</td>\n      <td>-0.328465</td>\n      <td>1.046036</td>\n      <td>0.442387</td>\n      <td>0.442471</td>\n      <td>-1.634629</td>\n      <td>0.508812</td>\n    </tr>\n    <tr>\n      <th>201609097214</th>\n      <td>0</td>\n      <td>0</td>\n      <td>1</td>\n      <td>0</td>\n      <td>0</td>\n      <td>0</td>\n      <td>0</td>\n      <td>1</td>\n      <td>0</td>\n      <td>0</td>\n      <td>0</td>\n      <td>0</td>\n      <td>1</td>\n      <td>0.165365</td>\n      <td>-0.692718</td>\n      <td>-0.485096</td>\n      <td>-0.347655</td>\n      <td>-0.328465</td>\n      <td>-0.955848</td>\n      <td>0.442387</td>\n      <td>0.442471</td>\n      <td>0.381689</td>\n      <td>1.763704</td>\n    </tr>\n  </tbody>\n</table>\n</div>"
     },
     "execution_count": 86,
     "metadata": {},
     "output_type": "execute_result"
    }
   ],
   "source": [
    "features.head()"
   ]
  },
  {
   "cell_type": "code",
   "execution_count": 87,
   "metadata": {
    "execution": {
     "iopub.execute_input": "2020-11-16T12:51:33.223198Z",
     "iopub.status.busy": "2020-11-16T12:51:33.222386Z",
     "iopub.status.idle": "2020-11-16T12:51:33.226426Z",
     "shell.execute_reply": "2020-11-16T12:51:33.225683Z"
    },
    "papermill": {
     "duration": 0.152432,
     "end_time": "2020-11-16T12:51:33.226558",
     "exception": false,
     "start_time": "2020-11-16T12:51:33.074126",
     "status": "completed"
    },
    "tags": [],
    "pycharm": {
     "name": "#%%\n"
    }
   },
   "outputs": [
    {
     "data": {
      "text/plain": "(60597, 23)"
     },
     "execution_count": 87,
     "metadata": {},
     "output_type": "execute_result"
    }
   ],
   "source": [
    "features.shape"
   ]
  },
  {
   "cell_type": "code",
   "execution_count": 88,
   "metadata": {
    "execution": {
     "iopub.execute_input": "2020-11-16T12:51:33.521131Z",
     "iopub.status.busy": "2020-11-16T12:51:33.520052Z",
     "iopub.status.idle": "2020-11-16T12:51:33.522978Z",
     "shell.execute_reply": "2020-11-16T12:51:33.522324Z"
    },
    "papermill": {
     "duration": 0.15319,
     "end_time": "2020-11-16T12:51:33.523105",
     "exception": false,
     "start_time": "2020-11-16T12:51:33.369915",
     "status": "completed"
    },
    "tags": [],
    "pycharm": {
     "name": "#%%\n"
    }
   },
   "outputs": [],
   "source": [
    "# Convert y to one-dimensional array (vector)\n",
    "y = np.array(y).reshape((-1, ))"
   ]
  },
  {
   "cell_type": "code",
   "execution_count": 89,
   "metadata": {
    "execution": {
     "iopub.execute_input": "2020-11-16T12:51:33.819909Z",
     "iopub.status.busy": "2020-11-16T12:51:33.818229Z",
     "iopub.status.idle": "2020-11-16T12:51:33.835865Z",
     "shell.execute_reply": "2020-11-16T12:51:33.835079Z"
    },
    "papermill": {
     "duration": 0.168916,
     "end_time": "2020-11-16T12:51:33.836002",
     "exception": false,
     "start_time": "2020-11-16T12:51:33.667086",
     "status": "completed"
    },
    "tags": [],
    "pycharm": {
     "name": "#%%\n"
    }
   },
   "outputs": [],
   "source": [
    "# Break off test set from training data\n",
    "X_train, X_test, y_train, y_test =train_test_split(features,y,test_size=0.2,random_state=0)"
   ]
  },
  {
   "cell_type": "code",
   "execution_count": 90,
   "metadata": {
    "execution": {
     "iopub.execute_input": "2020-11-16T12:51:34.135141Z",
     "iopub.status.busy": "2020-11-16T12:51:34.133983Z",
     "iopub.status.idle": "2020-11-16T12:51:34.137961Z",
     "shell.execute_reply": "2020-11-16T12:51:34.138844Z"
    },
    "papermill": {
     "duration": 0.158229,
     "end_time": "2020-11-16T12:51:34.139052",
     "exception": false,
     "start_time": "2020-11-16T12:51:33.980823",
     "status": "completed"
    },
    "tags": [],
    "pycharm": {
     "name": "#%%\n"
    }
   },
   "outputs": [
    {
     "data": {
      "text/plain": "(48477, 23)"
     },
     "execution_count": 90,
     "metadata": {},
     "output_type": "execute_result"
    }
   ],
   "source": [
    "X_train.shape"
   ]
  },
  {
   "cell_type": "code",
   "execution_count": 91,
   "metadata": {
    "execution": {
     "iopub.execute_input": "2020-11-16T12:51:34.455463Z",
     "iopub.status.busy": "2020-11-16T12:51:34.454589Z",
     "iopub.status.idle": "2020-11-16T12:51:34.459513Z",
     "shell.execute_reply": "2020-11-16T12:51:34.458919Z"
    },
    "papermill": {
     "duration": 0.160605,
     "end_time": "2020-11-16T12:51:34.459641",
     "exception": false,
     "start_time": "2020-11-16T12:51:34.299036",
     "status": "completed"
    },
    "tags": [],
    "pycharm": {
     "name": "#%%\n"
    }
   },
   "outputs": [
    {
     "data": {
      "text/plain": "(12120, 23)"
     },
     "execution_count": 91,
     "metadata": {},
     "output_type": "execute_result"
    }
   ],
   "source": [
    "X_test.shape"
   ]
  },
  {
   "cell_type": "code",
   "execution_count": 92,
   "metadata": {
    "execution": {
     "iopub.execute_input": "2020-11-16T12:51:34.756230Z",
     "iopub.status.busy": "2020-11-16T12:51:34.755493Z",
     "iopub.status.idle": "2020-11-16T12:51:34.758849Z",
     "shell.execute_reply": "2020-11-16T12:51:34.758188Z"
    },
    "papermill": {
     "duration": 0.153874,
     "end_time": "2020-11-16T12:51:34.758978",
     "exception": false,
     "start_time": "2020-11-16T12:51:34.605104",
     "status": "completed"
    },
    "tags": [],
    "pycharm": {
     "name": "#%%\n"
    }
   },
   "outputs": [],
   "source": [
    "# Function to calculate mean absolute error\n",
    "def mae(y_true, y_pred):\n",
    "    return np.mean(abs(y_true - y_pred))"
   ]
  },
  {
   "cell_type": "code",
   "execution_count": 93,
   "metadata": {
    "execution": {
     "iopub.execute_input": "2020-11-16T12:51:35.056363Z",
     "iopub.status.busy": "2020-11-16T12:51:35.055279Z",
     "iopub.status.idle": "2020-11-16T12:51:35.060183Z",
     "shell.execute_reply": "2020-11-16T12:51:35.061133Z"
    },
    "papermill": {
     "duration": 0.15617,
     "end_time": "2020-11-16T12:51:35.061351",
     "exception": false,
     "start_time": "2020-11-16T12:51:34.905181",
     "status": "completed"
    },
    "tags": [],
    "pycharm": {
     "name": "#%%\n"
    }
   },
   "outputs": [
    {
     "name": "stdout",
     "output_type": "stream",
     "text": [
      "The baseline guess of number of days taken: 0.00 days\n",
      "Baseline Performance on the test set: MAE = 13.7809\n"
     ]
    }
   ],
   "source": [
    "#Now we can make the median guess and evaluate it on the test set to obtain our baseline model\n",
    "baseline_guess = np.median(y)\n",
    "#This shows our average estimate on the test set is off by about 13 points. \n",
    "#The Time in days can take on any values, the average error from a naive method if about 13%. \n",
    "#The naive method of guessing the median training value provides us a low baseline for our models to beat\n",
    "\n",
    "print('The baseline guess of number of days taken: %0.2f days' % baseline_guess)\n",
    "print(\"Baseline Performance on the test set: MAE = %0.4f\" % mae(y_test, baseline_guess))"
   ]
  },
  {
   "cell_type": "code",
   "execution_count": 94,
   "metadata": {
    "execution": {
     "iopub.execute_input": "2020-11-16T12:51:35.363472Z",
     "iopub.status.busy": "2020-11-16T12:51:35.362426Z",
     "iopub.status.idle": "2020-11-16T12:51:35.365354Z",
     "shell.execute_reply": "2020-11-16T12:51:35.365896Z"
    },
    "papermill": {
     "duration": 0.155525,
     "end_time": "2020-11-16T12:51:35.366054",
     "exception": false,
     "start_time": "2020-11-16T12:51:35.210529",
     "status": "completed"
    },
    "tags": [],
    "pycharm": {
     "name": "#%%\n"
    }
   },
   "outputs": [],
   "source": [
    "# function to  train a given  model and evaluate it on the test set\n",
    "def fit_and_evaluate(model):\n",
    "    \n",
    "    # Train the model\n",
    "    model.fit(X_train, y_train)\n",
    "    \n",
    "    # Make predictions and evalute\n",
    "    model_pred = model.predict(X_test)\n",
    "    model_mae = mae(y_test, model_pred)\n",
    "    \n",
    "    # Return the performance metric\n",
    "    return model_mae"
   ]
  },
  {
   "cell_type": "code",
   "execution_count": 95,
   "metadata": {
    "execution": {
     "iopub.execute_input": "2020-11-16T12:51:35.666275Z",
     "iopub.status.busy": "2020-11-16T12:51:35.665433Z",
     "iopub.status.idle": "2020-11-16T12:51:35.741382Z",
     "shell.execute_reply": "2020-11-16T12:51:35.740733Z"
    },
    "papermill": {
     "duration": 0.228578,
     "end_time": "2020-11-16T12:51:35.741518",
     "exception": false,
     "start_time": "2020-11-16T12:51:35.512940",
     "status": "completed"
    },
    "tags": [],
    "pycharm": {
     "name": "#%%\n"
    }
   },
   "outputs": [
    {
     "name": "stdout",
     "output_type": "stream",
     "text": [
      "Linear Regression Performance on the test set: MAE = 14.5299\n"
     ]
    }
   ],
   "source": [
    "lr = LinearRegression()\n",
    "lr_mae = fit_and_evaluate(lr)\n",
    "\n",
    "print('Linear Regression Performance on the test set: MAE = %0.4f' % lr_mae)"
   ]
  },
  {
   "cell_type": "code",
   "execution_count": 96,
   "metadata": {
    "execution": {
     "iopub.execute_input": "2020-11-16T12:51:36.052178Z",
     "iopub.status.busy": "2020-11-16T12:51:36.051375Z",
     "iopub.status.idle": "2020-11-16T12:51:46.039117Z",
     "shell.execute_reply": "2020-11-16T12:51:46.038122Z"
    },
    "papermill": {
     "duration": 10.148853,
     "end_time": "2020-11-16T12:51:46.039317",
     "exception": false,
     "start_time": "2020-11-16T12:51:35.890464",
     "status": "completed"
    },
    "tags": [],
    "pycharm": {
     "name": "#%%\n"
    }
   },
   "outputs": [
    {
     "name": "stdout",
     "output_type": "stream",
     "text": [
      "Random Forest Regression Performance on the test set: MAE = 13.6862\n"
     ]
    }
   ],
   "source": [
    "random_forest = RandomForestRegressor(random_state=0)\n",
    "random_forest_mae = fit_and_evaluate(random_forest)\n",
    "\n",
    "print('Random Forest Regression Performance on the test set: MAE = %0.4f' % random_forest_mae)"
   ]
  },
  {
   "cell_type": "code",
   "execution_count": 97,
   "metadata": {
    "execution": {
     "iopub.execute_input": "2020-11-16T12:51:46.343005Z",
     "iopub.status.busy": "2020-11-16T12:51:46.342169Z",
     "iopub.status.idle": "2020-11-16T12:51:50.000023Z",
     "shell.execute_reply": "2020-11-16T12:51:49.999382Z"
    },
    "papermill": {
     "duration": 3.812394,
     "end_time": "2020-11-16T12:51:50.000149",
     "exception": false,
     "start_time": "2020-11-16T12:51:46.187755",
     "status": "completed"
    },
    "tags": [],
    "pycharm": {
     "name": "#%%\n"
    }
   },
   "outputs": [
    {
     "name": "stdout",
     "output_type": "stream",
     "text": [
      "Gradient Boosted Regression Performance on the test set: MAE = 13.8818\n"
     ]
    }
   ],
   "source": [
    "gradient_boosted = GradientBoostingRegressor(random_state=4)\n",
    "gradient_boosted_mae = fit_and_evaluate(gradient_boosted)\n",
    "\n",
    "print('Gradient Boosted Regression Performance on the test set: MAE = %0.4f' % gradient_boosted_mae)"
   ]
  },
  {
   "cell_type": "code",
   "execution_count": 98,
   "metadata": {
    "execution": {
     "iopub.execute_input": "2020-11-16T12:51:50.305224Z",
     "iopub.status.busy": "2020-11-16T12:51:50.304115Z",
     "iopub.status.idle": "2020-11-16T12:51:50.307663Z",
     "shell.execute_reply": "2020-11-16T12:51:50.306912Z"
    },
    "papermill": {
     "duration": 0.159371,
     "end_time": "2020-11-16T12:51:50.307791",
     "exception": false,
     "start_time": "2020-11-16T12:51:50.148420",
     "status": "completed"
    },
    "tags": [],
    "pycharm": {
     "name": "#%%\n"
    }
   },
   "outputs": [],
   "source": [
    "# Number of trees used in the boosting process\n",
    "n_estimators = [100, 500, 900, 1100, 1500]\n",
    "\n",
    "#loss function to be minimized\n",
    "loss = ['ls', 'lad', 'huber']\n",
    "\n",
    "# Maximum depth of each tree\n",
    "max_depth = [2, 3, 5, 10, 15]\n",
    "#how much the contribution of each tree will shrink.\n",
    "\n",
    "learning_rate = [0.005,0.01,0.05,0.1,0.5]\n",
    "\n",
    "# Minimum number of samples to split a node\n",
    "min_samples_split = [2, 4, 6, 10]\n",
    "\n",
    "# Maximum number of features to consider for making splits\n",
    "max_features = ['auto', 'sqrt', 'log2', None]"
   ]
  },
  {
   "cell_type": "code",
   "execution_count": 99,
   "metadata": {
    "execution": {
     "iopub.execute_input": "2020-11-16T12:51:50.612398Z",
     "iopub.status.busy": "2020-11-16T12:51:50.611583Z",
     "iopub.status.idle": "2020-11-16T12:51:50.615265Z",
     "shell.execute_reply": "2020-11-16T12:51:50.614515Z"
    },
    "papermill": {
     "duration": 0.160041,
     "end_time": "2020-11-16T12:51:50.615390",
     "exception": false,
     "start_time": "2020-11-16T12:51:50.455349",
     "status": "completed"
    },
    "tags": [],
    "pycharm": {
     "name": "#%%\n"
    }
   },
   "outputs": [],
   "source": [
    "# Define the grid of hyperparameters to search\n",
    "hyperparameter_grid = {'loss': loss,\n",
    "                       'learning_rate':learning_rate,\n",
    "                       'n_estimators': n_estimators,\n",
    "                       'max_depth': max_depth,\n",
    "                       'min_samples_split': min_samples_split,\n",
    "                       'max_features': max_features}\n"
   ]
  },
  {
   "cell_type": "code",
   "execution_count": 100,
   "metadata": {
    "execution": {
     "iopub.execute_input": "2020-11-16T12:51:50.919429Z",
     "iopub.status.busy": "2020-11-16T12:51:50.918366Z",
     "iopub.status.idle": "2020-11-16T12:51:50.921658Z",
     "shell.execute_reply": "2020-11-16T12:51:50.920902Z"
    },
    "papermill": {
     "duration": 0.157839,
     "end_time": "2020-11-16T12:51:50.921787",
     "exception": false,
     "start_time": "2020-11-16T12:51:50.763948",
     "status": "completed"
    },
    "tags": [],
    "pycharm": {
     "name": "#%%\n"
    }
   },
   "outputs": [],
   "source": [
    "#model for optimization\n",
    "model = GradientBoostingRegressor()"
   ]
  },
  {
   "cell_type": "code",
   "execution_count": 101,
   "metadata": {
    "execution": {
     "iopub.execute_input": "2020-11-16T12:51:51.225900Z",
     "iopub.status.busy": "2020-11-16T12:51:51.225026Z",
     "iopub.status.idle": "2020-11-16T12:51:51.228516Z",
     "shell.execute_reply": "2020-11-16T12:51:51.227753Z"
    },
    "papermill": {
     "duration": 0.159037,
     "end_time": "2020-11-16T12:51:51.228642",
     "exception": false,
     "start_time": "2020-11-16T12:51:51.069605",
     "status": "completed"
    },
    "tags": [],
    "pycharm": {
     "name": "#%%\n"
    }
   },
   "outputs": [],
   "source": [
    "random_cv = RandomizedSearchCV(estimator=model,\n",
    "                               param_distributions=hyperparameter_grid,\n",
    "                               cv=5, n_iter=30, \n",
    "                               scoring = 'neg_mean_absolute_error',\n",
    "                               n_jobs = -1, verbose = 1, \n",
    "                               return_train_score = True,\n",
    "                               random_state=42)"
   ]
  },
  {
   "cell_type": "code",
   "execution_count": 102,
   "metadata": {
    "execution": {
     "iopub.execute_input": "2020-11-16T12:51:51.533187Z",
     "iopub.status.busy": "2020-11-16T12:51:51.532154Z",
     "iopub.status.idle": "2020-11-16T14:21:52.282608Z",
     "shell.execute_reply": "2020-11-16T14:21:52.281898Z"
    },
    "papermill": {
     "duration": 5400.905781,
     "end_time": "2020-11-16T14:21:52.282786",
     "exception": false,
     "start_time": "2020-11-16T12:51:51.377005",
     "status": "completed"
    },
    "tags": [],
    "pycharm": {
     "name": "#%%\n"
    }
   },
   "outputs": [
    {
     "name": "stdout",
     "output_type": "stream",
     "text": [
      "Fitting 5 folds for each of 30 candidates, totalling 150 fits\n"
     ]
    },
    {
     "name": "stderr",
     "output_type": "stream",
     "text": [
      "[Parallel(n_jobs=-1)]: Using backend LokyBackend with 8 concurrent workers.\n",
      "[Parallel(n_jobs=-1)]: Done  34 tasks      | elapsed:  8.8min\n"
     ]
    },
    {
     "ename": "KeyboardInterrupt",
     "evalue": "",
     "output_type": "error",
     "traceback": [
      "\u001B[1;31m---------------------------------------------------------------------------\u001B[0m",
      "\u001B[1;31mKeyboardInterrupt\u001B[0m                         Traceback (most recent call last)",
      "Input \u001B[1;32mIn [102]\u001B[0m, in \u001B[0;36m<cell line: 1>\u001B[1;34m()\u001B[0m\n\u001B[1;32m----> 1\u001B[0m \u001B[43mrandom_cv\u001B[49m\u001B[38;5;241;43m.\u001B[39;49m\u001B[43mfit\u001B[49m\u001B[43m(\u001B[49m\u001B[43mX_train\u001B[49m\u001B[43m,\u001B[49m\u001B[43my_train\u001B[49m\u001B[43m)\u001B[49m\n",
      "File \u001B[1;32m~\\AppData\\Roaming\\Python\\Python38\\site-packages\\sklearn\\utils\\validation.py:72\u001B[0m, in \u001B[0;36m_deprecate_positional_args.<locals>.inner_f\u001B[1;34m(*args, **kwargs)\u001B[0m\n\u001B[0;32m     67\u001B[0m     warnings\u001B[38;5;241m.\u001B[39mwarn(\u001B[38;5;124m\"\u001B[39m\u001B[38;5;124mPass \u001B[39m\u001B[38;5;132;01m{}\u001B[39;00m\u001B[38;5;124m as keyword args. From version 0.25 \u001B[39m\u001B[38;5;124m\"\u001B[39m\n\u001B[0;32m     68\u001B[0m                   \u001B[38;5;124m\"\u001B[39m\u001B[38;5;124mpassing these as positional arguments will \u001B[39m\u001B[38;5;124m\"\u001B[39m\n\u001B[0;32m     69\u001B[0m                   \u001B[38;5;124m\"\u001B[39m\u001B[38;5;124mresult in an error\u001B[39m\u001B[38;5;124m\"\u001B[39m\u001B[38;5;241m.\u001B[39mformat(\u001B[38;5;124m\"\u001B[39m\u001B[38;5;124m, \u001B[39m\u001B[38;5;124m\"\u001B[39m\u001B[38;5;241m.\u001B[39mjoin(args_msg)),\n\u001B[0;32m     70\u001B[0m                   \u001B[38;5;167;01mFutureWarning\u001B[39;00m)\n\u001B[0;32m     71\u001B[0m kwargs\u001B[38;5;241m.\u001B[39mupdate({k: arg \u001B[38;5;28;01mfor\u001B[39;00m k, arg \u001B[38;5;129;01min\u001B[39;00m \u001B[38;5;28mzip\u001B[39m(sig\u001B[38;5;241m.\u001B[39mparameters, args)})\n\u001B[1;32m---> 72\u001B[0m \u001B[38;5;28;01mreturn\u001B[39;00m \u001B[43mf\u001B[49m\u001B[43m(\u001B[49m\u001B[38;5;241;43m*\u001B[39;49m\u001B[38;5;241;43m*\u001B[39;49m\u001B[43mkwargs\u001B[49m\u001B[43m)\u001B[49m\n",
      "File \u001B[1;32m~\\AppData\\Roaming\\Python\\Python38\\site-packages\\sklearn\\model_selection\\_search.py:736\u001B[0m, in \u001B[0;36mBaseSearchCV.fit\u001B[1;34m(self, X, y, groups, **fit_params)\u001B[0m\n\u001B[0;32m    732\u001B[0m         results \u001B[38;5;241m=\u001B[39m \u001B[38;5;28mself\u001B[39m\u001B[38;5;241m.\u001B[39m_format_results(\n\u001B[0;32m    733\u001B[0m             all_candidate_params, scorers, n_splits, all_out)\n\u001B[0;32m    734\u001B[0m         \u001B[38;5;28;01mreturn\u001B[39;00m results\n\u001B[1;32m--> 736\u001B[0m     \u001B[38;5;28;43mself\u001B[39;49m\u001B[38;5;241;43m.\u001B[39;49m\u001B[43m_run_search\u001B[49m\u001B[43m(\u001B[49m\u001B[43mevaluate_candidates\u001B[49m\u001B[43m)\u001B[49m\n\u001B[0;32m    738\u001B[0m \u001B[38;5;66;03m# For multi-metric evaluation, store the best_index_, best_params_ and\u001B[39;00m\n\u001B[0;32m    739\u001B[0m \u001B[38;5;66;03m# best_score_ iff refit is one of the scorer names\u001B[39;00m\n\u001B[0;32m    740\u001B[0m \u001B[38;5;66;03m# In single metric evaluation, refit_metric is \"score\"\u001B[39;00m\n\u001B[0;32m    741\u001B[0m \u001B[38;5;28;01mif\u001B[39;00m \u001B[38;5;28mself\u001B[39m\u001B[38;5;241m.\u001B[39mrefit \u001B[38;5;129;01mor\u001B[39;00m \u001B[38;5;129;01mnot\u001B[39;00m \u001B[38;5;28mself\u001B[39m\u001B[38;5;241m.\u001B[39mmultimetric_:\n\u001B[0;32m    742\u001B[0m     \u001B[38;5;66;03m# If callable, refit is expected to return the index of the best\u001B[39;00m\n\u001B[0;32m    743\u001B[0m     \u001B[38;5;66;03m# parameter set.\u001B[39;00m\n",
      "File \u001B[1;32m~\\AppData\\Roaming\\Python\\Python38\\site-packages\\sklearn\\model_selection\\_search.py:1529\u001B[0m, in \u001B[0;36mRandomizedSearchCV._run_search\u001B[1;34m(self, evaluate_candidates)\u001B[0m\n\u001B[0;32m   1527\u001B[0m \u001B[38;5;28;01mdef\u001B[39;00m \u001B[38;5;21m_run_search\u001B[39m(\u001B[38;5;28mself\u001B[39m, evaluate_candidates):\n\u001B[0;32m   1528\u001B[0m     \u001B[38;5;124;03m\"\"\"Search n_iter candidates from param_distributions\"\"\"\u001B[39;00m\n\u001B[1;32m-> 1529\u001B[0m     \u001B[43mevaluate_candidates\u001B[49m\u001B[43m(\u001B[49m\u001B[43mParameterSampler\u001B[49m\u001B[43m(\u001B[49m\n\u001B[0;32m   1530\u001B[0m \u001B[43m        \u001B[49m\u001B[38;5;28;43mself\u001B[39;49m\u001B[38;5;241;43m.\u001B[39;49m\u001B[43mparam_distributions\u001B[49m\u001B[43m,\u001B[49m\u001B[43m \u001B[49m\u001B[38;5;28;43mself\u001B[39;49m\u001B[38;5;241;43m.\u001B[39;49m\u001B[43mn_iter\u001B[49m\u001B[43m,\u001B[49m\n\u001B[0;32m   1531\u001B[0m \u001B[43m        \u001B[49m\u001B[43mrandom_state\u001B[49m\u001B[38;5;241;43m=\u001B[39;49m\u001B[38;5;28;43mself\u001B[39;49m\u001B[38;5;241;43m.\u001B[39;49m\u001B[43mrandom_state\u001B[49m\u001B[43m)\u001B[49m\u001B[43m)\u001B[49m\n",
      "File \u001B[1;32m~\\AppData\\Roaming\\Python\\Python38\\site-packages\\sklearn\\model_selection\\_search.py:708\u001B[0m, in \u001B[0;36mBaseSearchCV.fit.<locals>.evaluate_candidates\u001B[1;34m(candidate_params)\u001B[0m\n\u001B[0;32m    703\u001B[0m \u001B[38;5;28;01mif\u001B[39;00m \u001B[38;5;28mself\u001B[39m\u001B[38;5;241m.\u001B[39mverbose \u001B[38;5;241m>\u001B[39m \u001B[38;5;241m0\u001B[39m:\n\u001B[0;32m    704\u001B[0m     \u001B[38;5;28mprint\u001B[39m(\u001B[38;5;124m\"\u001B[39m\u001B[38;5;124mFitting \u001B[39m\u001B[38;5;132;01m{0}\u001B[39;00m\u001B[38;5;124m folds for each of \u001B[39m\u001B[38;5;132;01m{1}\u001B[39;00m\u001B[38;5;124m candidates,\u001B[39m\u001B[38;5;124m\"\u001B[39m\n\u001B[0;32m    705\u001B[0m           \u001B[38;5;124m\"\u001B[39m\u001B[38;5;124m totalling \u001B[39m\u001B[38;5;132;01m{2}\u001B[39;00m\u001B[38;5;124m fits\u001B[39m\u001B[38;5;124m\"\u001B[39m\u001B[38;5;241m.\u001B[39mformat(\n\u001B[0;32m    706\u001B[0m               n_splits, n_candidates, n_candidates \u001B[38;5;241m*\u001B[39m n_splits))\n\u001B[1;32m--> 708\u001B[0m out \u001B[38;5;241m=\u001B[39m \u001B[43mparallel\u001B[49m\u001B[43m(\u001B[49m\u001B[43mdelayed\u001B[49m\u001B[43m(\u001B[49m\u001B[43m_fit_and_score\u001B[49m\u001B[43m)\u001B[49m\u001B[43m(\u001B[49m\u001B[43mclone\u001B[49m\u001B[43m(\u001B[49m\u001B[43mbase_estimator\u001B[49m\u001B[43m)\u001B[49m\u001B[43m,\u001B[49m\n\u001B[0;32m    709\u001B[0m \u001B[43m                                       \u001B[49m\u001B[43mX\u001B[49m\u001B[43m,\u001B[49m\u001B[43m \u001B[49m\u001B[43my\u001B[49m\u001B[43m,\u001B[49m\n\u001B[0;32m    710\u001B[0m \u001B[43m                                       \u001B[49m\u001B[43mtrain\u001B[49m\u001B[38;5;241;43m=\u001B[39;49m\u001B[43mtrain\u001B[49m\u001B[43m,\u001B[49m\u001B[43m \u001B[49m\u001B[43mtest\u001B[49m\u001B[38;5;241;43m=\u001B[39;49m\u001B[43mtest\u001B[49m\u001B[43m,\u001B[49m\n\u001B[0;32m    711\u001B[0m \u001B[43m                                       \u001B[49m\u001B[43mparameters\u001B[49m\u001B[38;5;241;43m=\u001B[39;49m\u001B[43mparameters\u001B[49m\u001B[43m,\u001B[49m\n\u001B[0;32m    712\u001B[0m \u001B[43m                                       \u001B[49m\u001B[38;5;241;43m*\u001B[39;49m\u001B[38;5;241;43m*\u001B[39;49m\u001B[43mfit_and_score_kwargs\u001B[49m\u001B[43m)\u001B[49m\n\u001B[0;32m    713\u001B[0m \u001B[43m               \u001B[49m\u001B[38;5;28;43;01mfor\u001B[39;49;00m\u001B[43m \u001B[49m\u001B[43mparameters\u001B[49m\u001B[43m,\u001B[49m\u001B[43m \u001B[49m\u001B[43m(\u001B[49m\u001B[43mtrain\u001B[49m\u001B[43m,\u001B[49m\u001B[43m \u001B[49m\u001B[43mtest\u001B[49m\u001B[43m)\u001B[49m\n\u001B[0;32m    714\u001B[0m \u001B[43m               \u001B[49m\u001B[38;5;129;43;01min\u001B[39;49;00m\u001B[43m \u001B[49m\u001B[43mproduct\u001B[49m\u001B[43m(\u001B[49m\u001B[43mcandidate_params\u001B[49m\u001B[43m,\u001B[49m\n\u001B[0;32m    715\u001B[0m \u001B[43m                          \u001B[49m\u001B[43mcv\u001B[49m\u001B[38;5;241;43m.\u001B[39;49m\u001B[43msplit\u001B[49m\u001B[43m(\u001B[49m\u001B[43mX\u001B[49m\u001B[43m,\u001B[49m\u001B[43m \u001B[49m\u001B[43my\u001B[49m\u001B[43m,\u001B[49m\u001B[43m \u001B[49m\u001B[43mgroups\u001B[49m\u001B[43m)\u001B[49m\u001B[43m)\u001B[49m\u001B[43m)\u001B[49m\n\u001B[0;32m    717\u001B[0m \u001B[38;5;28;01mif\u001B[39;00m \u001B[38;5;28mlen\u001B[39m(out) \u001B[38;5;241m<\u001B[39m \u001B[38;5;241m1\u001B[39m:\n\u001B[0;32m    718\u001B[0m     \u001B[38;5;28;01mraise\u001B[39;00m \u001B[38;5;167;01mValueError\u001B[39;00m(\u001B[38;5;124m'\u001B[39m\u001B[38;5;124mNo fits were performed. \u001B[39m\u001B[38;5;124m'\u001B[39m\n\u001B[0;32m    719\u001B[0m                      \u001B[38;5;124m'\u001B[39m\u001B[38;5;124mWas the CV iterator empty? \u001B[39m\u001B[38;5;124m'\u001B[39m\n\u001B[0;32m    720\u001B[0m                      \u001B[38;5;124m'\u001B[39m\u001B[38;5;124mWere there no candidates?\u001B[39m\u001B[38;5;124m'\u001B[39m)\n",
      "File \u001B[1;32m~\\anaconda3\\lib\\site-packages\\joblib\\parallel.py:1056\u001B[0m, in \u001B[0;36mParallel.__call__\u001B[1;34m(self, iterable)\u001B[0m\n\u001B[0;32m   1053\u001B[0m     \u001B[38;5;28mself\u001B[39m\u001B[38;5;241m.\u001B[39m_iterating \u001B[38;5;241m=\u001B[39m \u001B[38;5;28;01mFalse\u001B[39;00m\n\u001B[0;32m   1055\u001B[0m \u001B[38;5;28;01mwith\u001B[39;00m \u001B[38;5;28mself\u001B[39m\u001B[38;5;241m.\u001B[39m_backend\u001B[38;5;241m.\u001B[39mretrieval_context():\n\u001B[1;32m-> 1056\u001B[0m     \u001B[38;5;28;43mself\u001B[39;49m\u001B[38;5;241;43m.\u001B[39;49m\u001B[43mretrieve\u001B[49m\u001B[43m(\u001B[49m\u001B[43m)\u001B[49m\n\u001B[0;32m   1057\u001B[0m \u001B[38;5;66;03m# Make sure that we get a last message telling us we are done\u001B[39;00m\n\u001B[0;32m   1058\u001B[0m elapsed_time \u001B[38;5;241m=\u001B[39m time\u001B[38;5;241m.\u001B[39mtime() \u001B[38;5;241m-\u001B[39m \u001B[38;5;28mself\u001B[39m\u001B[38;5;241m.\u001B[39m_start_time\n",
      "File \u001B[1;32m~\\anaconda3\\lib\\site-packages\\joblib\\parallel.py:935\u001B[0m, in \u001B[0;36mParallel.retrieve\u001B[1;34m(self)\u001B[0m\n\u001B[0;32m    933\u001B[0m \u001B[38;5;28;01mtry\u001B[39;00m:\n\u001B[0;32m    934\u001B[0m     \u001B[38;5;28;01mif\u001B[39;00m \u001B[38;5;28mgetattr\u001B[39m(\u001B[38;5;28mself\u001B[39m\u001B[38;5;241m.\u001B[39m_backend, \u001B[38;5;124m'\u001B[39m\u001B[38;5;124msupports_timeout\u001B[39m\u001B[38;5;124m'\u001B[39m, \u001B[38;5;28;01mFalse\u001B[39;00m):\n\u001B[1;32m--> 935\u001B[0m         \u001B[38;5;28mself\u001B[39m\u001B[38;5;241m.\u001B[39m_output\u001B[38;5;241m.\u001B[39mextend(\u001B[43mjob\u001B[49m\u001B[38;5;241;43m.\u001B[39;49m\u001B[43mget\u001B[49m\u001B[43m(\u001B[49m\u001B[43mtimeout\u001B[49m\u001B[38;5;241;43m=\u001B[39;49m\u001B[38;5;28;43mself\u001B[39;49m\u001B[38;5;241;43m.\u001B[39;49m\u001B[43mtimeout\u001B[49m\u001B[43m)\u001B[49m)\n\u001B[0;32m    936\u001B[0m     \u001B[38;5;28;01melse\u001B[39;00m:\n\u001B[0;32m    937\u001B[0m         \u001B[38;5;28mself\u001B[39m\u001B[38;5;241m.\u001B[39m_output\u001B[38;5;241m.\u001B[39mextend(job\u001B[38;5;241m.\u001B[39mget())\n",
      "File \u001B[1;32m~\\anaconda3\\lib\\site-packages\\joblib\\_parallel_backends.py:542\u001B[0m, in \u001B[0;36mLokyBackend.wrap_future_result\u001B[1;34m(future, timeout)\u001B[0m\n\u001B[0;32m    539\u001B[0m \u001B[38;5;124;03m\"\"\"Wrapper for Future.result to implement the same behaviour as\u001B[39;00m\n\u001B[0;32m    540\u001B[0m \u001B[38;5;124;03mAsyncResults.get from multiprocessing.\"\"\"\u001B[39;00m\n\u001B[0;32m    541\u001B[0m \u001B[38;5;28;01mtry\u001B[39;00m:\n\u001B[1;32m--> 542\u001B[0m     \u001B[38;5;28;01mreturn\u001B[39;00m \u001B[43mfuture\u001B[49m\u001B[38;5;241;43m.\u001B[39;49m\u001B[43mresult\u001B[49m\u001B[43m(\u001B[49m\u001B[43mtimeout\u001B[49m\u001B[38;5;241;43m=\u001B[39;49m\u001B[43mtimeout\u001B[49m\u001B[43m)\u001B[49m\n\u001B[0;32m    543\u001B[0m \u001B[38;5;28;01mexcept\u001B[39;00m CfTimeoutError \u001B[38;5;28;01mas\u001B[39;00m e:\n\u001B[0;32m    544\u001B[0m     \u001B[38;5;28;01mraise\u001B[39;00m \u001B[38;5;167;01mTimeoutError\u001B[39;00m \u001B[38;5;28;01mfrom\u001B[39;00m \u001B[38;5;21;01me\u001B[39;00m\n",
      "File \u001B[1;32m~\\anaconda3\\lib\\concurrent\\futures\\_base.py:439\u001B[0m, in \u001B[0;36mFuture.result\u001B[1;34m(self, timeout)\u001B[0m\n\u001B[0;32m    436\u001B[0m \u001B[38;5;28;01melif\u001B[39;00m \u001B[38;5;28mself\u001B[39m\u001B[38;5;241m.\u001B[39m_state \u001B[38;5;241m==\u001B[39m FINISHED:\n\u001B[0;32m    437\u001B[0m     \u001B[38;5;28;01mreturn\u001B[39;00m \u001B[38;5;28mself\u001B[39m\u001B[38;5;241m.\u001B[39m__get_result()\n\u001B[1;32m--> 439\u001B[0m \u001B[38;5;28;43mself\u001B[39;49m\u001B[38;5;241;43m.\u001B[39;49m\u001B[43m_condition\u001B[49m\u001B[38;5;241;43m.\u001B[39;49m\u001B[43mwait\u001B[49m\u001B[43m(\u001B[49m\u001B[43mtimeout\u001B[49m\u001B[43m)\u001B[49m\n\u001B[0;32m    441\u001B[0m \u001B[38;5;28;01mif\u001B[39;00m \u001B[38;5;28mself\u001B[39m\u001B[38;5;241m.\u001B[39m_state \u001B[38;5;129;01min\u001B[39;00m [CANCELLED, CANCELLED_AND_NOTIFIED]:\n\u001B[0;32m    442\u001B[0m     \u001B[38;5;28;01mraise\u001B[39;00m CancelledError()\n",
      "File \u001B[1;32m~\\anaconda3\\lib\\threading.py:302\u001B[0m, in \u001B[0;36mCondition.wait\u001B[1;34m(self, timeout)\u001B[0m\n\u001B[0;32m    300\u001B[0m \u001B[38;5;28;01mtry\u001B[39;00m:    \u001B[38;5;66;03m# restore state no matter what (e.g., KeyboardInterrupt)\u001B[39;00m\n\u001B[0;32m    301\u001B[0m     \u001B[38;5;28;01mif\u001B[39;00m timeout \u001B[38;5;129;01mis\u001B[39;00m \u001B[38;5;28;01mNone\u001B[39;00m:\n\u001B[1;32m--> 302\u001B[0m         \u001B[43mwaiter\u001B[49m\u001B[38;5;241;43m.\u001B[39;49m\u001B[43macquire\u001B[49m\u001B[43m(\u001B[49m\u001B[43m)\u001B[49m\n\u001B[0;32m    303\u001B[0m         gotit \u001B[38;5;241m=\u001B[39m \u001B[38;5;28;01mTrue\u001B[39;00m\n\u001B[0;32m    304\u001B[0m     \u001B[38;5;28;01melse\u001B[39;00m:\n",
      "\u001B[1;31mKeyboardInterrupt\u001B[0m: "
     ]
    }
   ],
   "source": [
    "random_cv.fit(X_train,y_train)"
   ]
  },
  {
   "cell_type": "code",
   "execution_count": null,
   "metadata": {
    "execution": {
     "iopub.execute_input": "2020-11-16T14:21:52.615306Z",
     "iopub.status.busy": "2020-11-16T14:21:52.599633Z",
     "iopub.status.idle": "2020-11-16T14:21:52.639940Z",
     "shell.execute_reply": "2020-11-16T14:21:52.639081Z"
    },
    "papermill": {
     "duration": 0.203255,
     "end_time": "2020-11-16T14:21:52.640074",
     "exception": false,
     "start_time": "2020-11-16T14:21:52.436819",
     "status": "completed"
    },
    "tags": [],
    "pycharm": {
     "name": "#%%\n"
    }
   },
   "outputs": [],
   "source": [
    "# Get all of the cv results and sort by the test performance\n",
    "random_results = pd.DataFrame(random_cv.cv_results_).sort_values('mean_test_score', ascending = False)\n",
    "random_results.head(5)"
   ]
  },
  {
   "cell_type": "code",
   "execution_count": null,
   "metadata": {
    "execution": {
     "iopub.execute_input": "2020-11-16T14:21:52.959364Z",
     "iopub.status.busy": "2020-11-16T14:21:52.958429Z",
     "iopub.status.idle": "2020-11-16T14:21:52.963054Z",
     "shell.execute_reply": "2020-11-16T14:21:52.962208Z"
    },
    "papermill": {
     "duration": 0.170329,
     "end_time": "2020-11-16T14:21:52.963188",
     "exception": false,
     "start_time": "2020-11-16T14:21:52.792859",
     "status": "completed"
    },
    "tags": [],
    "pycharm": {
     "name": "#%%\n"
    }
   },
   "outputs": [],
   "source": [
    "random_cv.best_estimator_"
   ]
  },
  {
   "cell_type": "code",
   "execution_count": null,
   "metadata": {
    "execution": {
     "iopub.execute_input": "2020-11-16T14:21:53.311594Z",
     "iopub.status.busy": "2020-11-16T14:21:53.310536Z",
     "iopub.status.idle": "2020-11-16T14:21:53.314299Z",
     "shell.execute_reply": "2020-11-16T14:21:53.313646Z"
    },
    "papermill": {
     "duration": 0.197296,
     "end_time": "2020-11-16T14:21:53.314447",
     "exception": false,
     "start_time": "2020-11-16T14:21:53.117151",
     "status": "completed"
    },
    "tags": [],
    "pycharm": {
     "name": "#%%\n"
    }
   },
   "outputs": [],
   "source": [
    "# Create a range of trees to evaluate\n",
    "trees_grid = {'n_estimators': [100,200,300,400,500, 1500, 2000,2500]}\n",
    "model =  GradientBoostingRegressor( max_depth =3,\n",
    "                                   loss='lad',\n",
    "                                   learning_rate=0.5,\n",
    "                                  min_samples_split = 6,\n",
    "                                  max_features = 'log2',\n",
    "                                  random_state = 42)\n"
   ]
  },
  {
   "cell_type": "code",
   "execution_count": null,
   "metadata": {
    "execution": {
     "iopub.execute_input": "2020-11-16T14:21:53.632950Z",
     "iopub.status.busy": "2020-11-16T14:21:53.631905Z",
     "iopub.status.idle": "2020-11-16T14:21:53.635033Z",
     "shell.execute_reply": "2020-11-16T14:21:53.634301Z"
    },
    "papermill": {
     "duration": 0.163532,
     "end_time": "2020-11-16T14:21:53.635168",
     "exception": false,
     "start_time": "2020-11-16T14:21:53.471636",
     "status": "completed"
    },
    "tags": [],
    "pycharm": {
     "name": "#%%\n"
    }
   },
   "outputs": [],
   "source": [
    "# Grid Search Object using the trees range and the random forest model\n",
    "grid_search = GridSearchCV(estimator = model, param_grid=trees_grid, cv = 5, \n",
    "                           scoring = 'neg_mean_absolute_error', verbose = 1,\n",
    "                           n_jobs = -1, return_train_score = True)"
   ]
  },
  {
   "cell_type": "code",
   "execution_count": null,
   "metadata": {
    "execution": {
     "iopub.execute_input": "2020-11-16T14:21:53.957910Z",
     "iopub.status.busy": "2020-11-16T14:21:53.957088Z",
     "iopub.status.idle": "2020-11-16T14:25:30.601667Z",
     "shell.execute_reply": "2020-11-16T14:25:30.600851Z"
    },
    "papermill": {
     "duration": 216.812966,
     "end_time": "2020-11-16T14:25:30.601816",
     "exception": false,
     "start_time": "2020-11-16T14:21:53.788850",
     "status": "completed"
    },
    "tags": [],
    "pycharm": {
     "name": "#%%\n"
    }
   },
   "outputs": [],
   "source": [
    "grid_search.fit(X_train,y_train)"
   ]
  },
  {
   "cell_type": "code",
   "execution_count": null,
   "metadata": {
    "execution": {
     "iopub.execute_input": "2020-11-16T14:25:30.930418Z",
     "iopub.status.busy": "2020-11-16T14:25:30.929497Z",
     "iopub.status.idle": "2020-11-16T14:25:31.154997Z",
     "shell.execute_reply": "2020-11-16T14:25:31.154387Z"
    },
    "papermill": {
     "duration": 0.394136,
     "end_time": "2020-11-16T14:25:31.155127",
     "exception": false,
     "start_time": "2020-11-16T14:25:30.760991",
     "status": "completed"
    },
    "tags": [],
    "pycharm": {
     "name": "#%%\n"
    }
   },
   "outputs": [],
   "source": [
    "# Get the results into a dataframe\n",
    "results = pd.DataFrame(grid_search.cv_results_)\n",
    "\n",
    "# Plot the training and testing error vs number of trees\n",
    "plt.figure(figsize=(8, 8))\n",
    "plt.style.use('fivethirtyeight')\n",
    "plt.plot(results['param_n_estimators'], -1 * results['mean_test_score'], label = 'Test_Err')\n",
    "plt.plot(results['param_n_estimators'], -1 * results['mean_train_score'], label = 'Train_Err')\n",
    "plt.xlabel('Number of Trees'); plt.ylabel('Mean Abosolute Error'); plt.legend(\"best\");\n",
    "plt.title('Performance vs Number of Trees');"
   ]
  },
  {
   "cell_type": "code",
   "execution_count": null,
   "metadata": {
    "execution": {
     "iopub.execute_input": "2020-11-16T14:25:31.504908Z",
     "iopub.status.busy": "2020-11-16T14:25:31.488966Z",
     "iopub.status.idle": "2020-11-16T14:25:31.511014Z",
     "shell.execute_reply": "2020-11-16T14:25:31.510051Z"
    },
    "papermill": {
     "duration": 0.199629,
     "end_time": "2020-11-16T14:25:31.511174",
     "exception": false,
     "start_time": "2020-11-16T14:25:31.311545",
     "status": "completed"
    },
    "tags": [],
    "pycharm": {
     "name": "#%%\n"
    }
   },
   "outputs": [],
   "source": [
    "results.sort_values('mean_test_score', ascending = False).head(5)"
   ]
  },
  {
   "cell_type": "code",
   "execution_count": null,
   "metadata": {
    "execution": {
     "iopub.execute_input": "2020-11-16T14:25:31.837388Z",
     "iopub.status.busy": "2020-11-16T14:25:31.836307Z",
     "iopub.status.idle": "2020-11-16T14:25:31.839684Z",
     "shell.execute_reply": "2020-11-16T14:25:31.839080Z"
    },
    "papermill": {
     "duration": 0.168884,
     "end_time": "2020-11-16T14:25:31.839819",
     "exception": false,
     "start_time": "2020-11-16T14:25:31.670935",
     "status": "completed"
    },
    "tags": [],
    "pycharm": {
     "name": "#%%\n"
    }
   },
   "outputs": [],
   "source": [
    "#default model\n",
    "defaultmodelGBR = GradientBoostingRegressor()"
   ]
  },
  {
   "cell_type": "code",
   "execution_count": null,
   "metadata": {
    "execution": {
     "iopub.execute_input": "2020-11-16T14:25:32.168288Z",
     "iopub.status.busy": "2020-11-16T14:25:32.167334Z",
     "iopub.status.idle": "2020-11-16T14:25:32.172765Z",
     "shell.execute_reply": "2020-11-16T14:25:32.172010Z"
    },
    "papermill": {
     "duration": 0.170278,
     "end_time": "2020-11-16T14:25:32.172887",
     "exception": false,
     "start_time": "2020-11-16T14:25:32.002609",
     "status": "completed"
    },
    "tags": [],
    "pycharm": {
     "name": "#%%\n"
    }
   },
   "outputs": [],
   "source": [
    "# Select the best model\n",
    "final_modelGBR = grid_search.best_estimator_\n",
    "final_modelGBR"
   ]
  },
  {
   "cell_type": "code",
   "execution_count": null,
   "metadata": {
    "execution": {
     "iopub.execute_input": "2020-11-16T14:25:32.503864Z",
     "iopub.status.busy": "2020-11-16T14:25:32.502803Z",
     "iopub.status.idle": "2020-11-16T14:25:32.512475Z",
     "shell.execute_reply": "2020-11-16T14:25:32.511392Z"
    },
    "papermill": {
     "duration": 0.181695,
     "end_time": "2020-11-16T14:25:32.512654",
     "exception": false,
     "start_time": "2020-11-16T14:25:32.330959",
     "status": "completed"
    },
    "tags": [],
    "pycharm": {
     "name": "#%%\n"
    }
   },
   "outputs": [],
   "source": [
    "from pprint import pprint\n",
    "# Select the best parameters for best estimator\n",
    "pprint(grid_search.best_estimator_.get_params())"
   ]
  },
  {
   "cell_type": "code",
   "execution_count": null,
   "metadata": {
    "execution": {
     "iopub.execute_input": "2020-11-16T14:25:32.837352Z",
     "iopub.status.busy": "2020-11-16T14:25:32.836465Z",
     "iopub.status.idle": "2020-11-16T14:25:32.839631Z",
     "shell.execute_reply": "2020-11-16T14:25:32.838976Z"
    },
    "papermill": {
     "duration": 0.168396,
     "end_time": "2020-11-16T14:25:32.839759",
     "exception": false,
     "start_time": "2020-11-16T14:25:32.671363",
     "status": "completed"
    },
    "tags": [],
    "pycharm": {
     "name": "#%%\n"
    }
   },
   "outputs": [],
   "source": [
    "from time import time"
   ]
  },
  {
   "cell_type": "code",
   "execution_count": null,
   "metadata": {
    "execution": {
     "iopub.execute_input": "2020-11-16T14:25:33.173822Z",
     "iopub.status.busy": "2020-11-16T14:25:33.172615Z",
     "iopub.status.idle": "2020-11-16T14:25:52.653883Z",
     "shell.execute_reply": "2020-11-16T14:25:52.653089Z"
    },
    "papermill": {
     "duration": 19.654321,
     "end_time": "2020-11-16T14:25:52.654025",
     "exception": false,
     "start_time": "2020-11-16T14:25:32.999704",
     "status": "completed"
    },
    "tags": [],
    "pycharm": {
     "name": "#%%\n"
    }
   },
   "outputs": [],
   "source": [
    "%%timeit -n 1 -r 5\n",
    "defaultmodelGBR.fit(X_train, y_train)"
   ]
  },
  {
   "cell_type": "code",
   "execution_count": null,
   "metadata": {
    "execution": {
     "iopub.execute_input": "2020-11-16T14:25:52.989069Z",
     "iopub.status.busy": "2020-11-16T14:25:52.988225Z",
     "iopub.status.idle": "2020-11-16T14:26:30.172038Z",
     "shell.execute_reply": "2020-11-16T14:26:30.172685Z"
    },
    "papermill": {
     "duration": 37.355378,
     "end_time": "2020-11-16T14:26:30.172848",
     "exception": false,
     "start_time": "2020-11-16T14:25:52.817470",
     "status": "completed"
    },
    "tags": [],
    "pycharm": {
     "name": "#%%\n"
    }
   },
   "outputs": [],
   "source": [
    "%%timeit -n 1 -r 5\n",
    "final_modelGBR.fit(X_train, y_train)"
   ]
  },
  {
   "cell_type": "code",
   "execution_count": null,
   "metadata": {
    "execution": {
     "iopub.execute_input": "2020-11-16T14:26:30.511193Z",
     "iopub.status.busy": "2020-11-16T14:26:30.510336Z",
     "iopub.status.idle": "2020-11-16T14:26:30.638534Z",
     "shell.execute_reply": "2020-11-16T14:26:30.639371Z"
    },
    "papermill": {
     "duration": 0.306854,
     "end_time": "2020-11-16T14:26:30.639537",
     "exception": false,
     "start_time": "2020-11-16T14:26:30.332683",
     "status": "completed"
    },
    "tags": [],
    "pycharm": {
     "name": "#%%\n"
    }
   },
   "outputs": [],
   "source": [
    "default_pred = defaultmodelGBR.predict(X_test)\n",
    "final_pred = final_modelGBR.predict(X_test)\n",
    "print('Default model performance on the test set: MAE = %0.2f.' % mae(y_test, default_pred))\n",
    "print('Final model performance on the test set:   MAE = %0.2f.' % mae(y_test, final_pred))"
   ]
  },
  {
   "cell_type": "markdown",
   "metadata": {
    "papermill": {
     "duration": 0.166169,
     "end_time": "2020-11-16T14:26:31.038604",
     "exception": false,
     "start_time": "2020-11-16T14:26:30.872435",
     "status": "completed"
    },
    "tags": [],
    "pycharm": {
     "name": "#%% md\n"
    }
   },
   "source": [
    "To get a sense of the predictions, we can plot the distribution of true values on the test set and the predicted values on the test set"
   ]
  },
  {
   "cell_type": "code",
   "execution_count": null,
   "metadata": {
    "execution": {
     "iopub.execute_input": "2020-11-16T14:26:31.384873Z",
     "iopub.status.busy": "2020-11-16T14:26:31.383730Z",
     "iopub.status.idle": "2020-11-16T14:26:31.600785Z",
     "shell.execute_reply": "2020-11-16T14:26:31.599649Z"
    },
    "papermill": {
     "duration": 0.396137,
     "end_time": "2020-11-16T14:26:31.600925",
     "exception": false,
     "start_time": "2020-11-16T14:26:31.204788",
     "status": "completed"
    },
    "tags": [],
    "pycharm": {
     "name": "#%%\n"
    }
   },
   "outputs": [],
   "source": [
    "plt.figure(figsize=(8, 6)) \n",
    "\n",
    "# Density plot of the final predictions and the test values\n",
    "sns.kdeplot(final_pred, label = 'Predictions')\n",
    "sns.kdeplot(y_test, label = 'Values')\n",
    "\n",
    "# Label the plot\n",
    "plt.xlabel('Time in days'); plt.ylabel('Density');\n",
    "plt.title('Test Values and Predictions');"
   ]
  },
  {
   "cell_type": "markdown",
   "metadata": {
    "papermill": {
     "duration": 0.16821,
     "end_time": "2020-11-16T14:26:31.945056",
     "exception": false,
     "start_time": "2020-11-16T14:26:31.776846",
     "status": "completed"
    },
    "tags": [],
    "pycharm": {
     "name": "#%% md\n"
    }
   },
   "source": [
    "The distribution is highly skewed with the density of the predicted values closer to the median of the test values rather than the actual peak. It appears the model might be less accurate at predicting the extreme values and instead predict values further away from the median"
   ]
  },
  {
   "cell_type": "markdown",
   "metadata": {
    "papermill": {
     "duration": 0.162034,
     "end_time": "2020-11-16T14:26:32.269476",
     "exception": false,
     "start_time": "2020-11-16T14:26:32.107442",
     "status": "completed"
    },
    "tags": [],
    "pycharm": {
     "name": "#%% md\n"
    }
   },
   "source": [
    "Another diagnostic plot is a histogram of the residuals. Ideally, we would hope that the residuals are normally distributed, meaning that the model is wrong the same amount in both directions (high and low)"
   ]
  },
  {
   "cell_type": "code",
   "execution_count": null,
   "metadata": {
    "execution": {
     "iopub.execute_input": "2020-11-16T14:26:32.622118Z",
     "iopub.status.busy": "2020-11-16T14:26:32.621258Z",
     "iopub.status.idle": "2020-11-16T14:26:32.824922Z",
     "shell.execute_reply": "2020-11-16T14:26:32.824327Z"
    },
    "papermill": {
     "duration": 0.380982,
     "end_time": "2020-11-16T14:26:32.825052",
     "exception": false,
     "start_time": "2020-11-16T14:26:32.444070",
     "status": "completed"
    },
    "tags": [],
    "pycharm": {
     "name": "#%%\n"
    }
   },
   "outputs": [],
   "source": [
    "plt.figure(figsize = (6, 6))\n",
    "\n",
    "# Calculate the residuals \n",
    "residuals = final_pred - y_test\n",
    "\n",
    "# Plot the residuals in a histogram\n",
    "plt.hist(residuals, color = 'green', bins = 20,\n",
    "         edgecolor = 'black')\n",
    "plt.xlabel('Error'); plt.ylabel('Count')\n",
    "plt.title('Distribution of Residuals');"
   ]
  },
  {
   "cell_type": "markdown",
   "metadata": {
    "papermill": {
     "duration": 0.164589,
     "end_time": "2020-11-16T14:26:33.155797",
     "exception": false,
     "start_time": "2020-11-16T14:26:32.991208",
     "status": "completed"
    },
    "tags": [],
    "pycharm": {
     "name": "#%% md\n"
    }
   },
   "source": [
    "The residuals are far from a  normal distribution, with noticeable outliers on both sides of the low and high end. These indicate errors where the model estimate was far below that of the true value"
   ]
  },
  {
   "cell_type": "code",
   "execution_count": null,
   "metadata": {
    "execution": {
     "iopub.execute_input": "2020-11-16T14:26:33.493329Z",
     "iopub.status.busy": "2020-11-16T14:26:33.492488Z",
     "iopub.status.idle": "2020-11-16T14:26:55.873436Z",
     "shell.execute_reply": "2020-11-16T14:26:55.872802Z"
    },
    "papermill": {
     "duration": 22.553612,
     "end_time": "2020-11-16T14:26:55.873572",
     "exception": false,
     "start_time": "2020-11-16T14:26:33.319960",
     "status": "completed"
    },
    "tags": [],
    "pycharm": {
     "name": "#%%\n"
    }
   },
   "outputs": [],
   "source": [
    "import eli5\n",
    "from eli5.sklearn import PermutationImportance\n",
    "\n",
    "perm = PermutationImportance(final_modelGBR, random_state=1).fit(X_test, y_test)\n",
    "eli5.show_weights(perm, feature_names = X_test.columns.tolist())"
   ]
  },
  {
   "cell_type": "markdown",
   "metadata": {
    "papermill": {
     "duration": 0.164704,
     "end_time": "2020-11-16T14:26:56.204826",
     "exception": false,
     "start_time": "2020-11-16T14:26:56.040122",
     "status": "completed"
    },
    "tags": [],
    "pycharm": {
     "name": "#%% md\n"
    }
   },
   "source": [
    "**CONCLUSSIONS:**\n",
    "\n",
    "**There are a key issues that we draw from the San Francisco Building Permits data:**\n",
    "\n",
    "**1.Permit type of category 8 which involve alterations in buildings tend to matter the most and normally tend to take the least time literary in hours for the permit to be issued on average, then followed by permit type of category 3**\n",
    "\n",
    "**It's important to note that some permit types of category 2 takes the most time on average to process upto 3 years.**\n",
    "\n",
    "**It can be noted that the city's most existing construction type fall in the category of type 5.0 then followed by construction type 1.0.**\n",
    "\n",
    "# **Finally**\n",
    " \n",
    "# Using the given San Franscisco Building Permits data, a machine learning model can predict the The time taken for a permit to be processed to within 10 points.\n",
    "#     The five most important variables for determining the Time taken for a permit to be issued being:Permit Type_8,Permit Type Definition_additions alterations or repairs Permit Type, Definition_otc alterations permit,Permit Type_3  and Plansets "
   ]
  },
  {
   "cell_type": "code",
   "execution_count": null,
   "outputs": [],
   "source": [],
   "metadata": {
    "collapsed": false,
    "pycharm": {
     "name": "#%%\n"
    }
   }
  },
  {
   "cell_type": "code",
   "execution_count": null,
   "outputs": [],
   "source": [],
   "metadata": {
    "collapsed": false,
    "pycharm": {
     "name": "#%%\n"
    }
   }
  }
 ],
 "metadata": {
  "kernelspec": {
   "display_name": "Python 3",
   "language": "python",
   "name": "python3"
  },
  "language_info": {
   "codemirror_mode": {
    "name": "ipython",
    "version": 3
   },
   "file_extension": ".py",
   "mimetype": "text/x-python",
   "name": "python",
   "nbconvert_exporter": "python",
   "pygments_lexer": "ipython3",
   "version": "3.7.6"
  },
  "papermill": {
   "duration": 5767.582159,
   "end_time": "2020-11-16T14:26:56.810604",
   "environment_variables": {},
   "exception": null,
   "input_path": "__notebook__.ipynb",
   "output_path": "__notebook__.ipynb",
   "parameters": {},
   "start_time": "2020-11-16T12:50:49.228445",
   "version": "2.1.0"
  }
 },
 "nbformat": 4,
 "nbformat_minor": 4
}